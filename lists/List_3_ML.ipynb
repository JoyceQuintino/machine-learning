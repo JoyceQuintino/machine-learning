{
 "cells": [
  {
   "cell_type": "code",
   "execution_count": 1,
   "id": "c6a8ec07",
   "metadata": {},
   "outputs": [],
   "source": [
    "import pandas as pd\n",
    "import numpy as np\n",
    "from abc import ABC\n",
    "from typing import Callable\n",
    "from sklearn.model_selection import train_test_split\n",
    "from sklearn.tree import DecisionTreeClassifier\n",
    "import math as ma\n",
    "import random\n",
    "import csv\n",
    "from collections import Counter\n",
    "import matplotlib.pyplot as plt\n",
    "import warnings\n",
    "warnings.filterwarnings(\"ignore\")"
   ]
  },
  {
   "cell_type": "markdown",
   "id": "977af596",
   "metadata": {},
   "source": [
    "### Normalização de dados"
   ]
  },
  {
   "cell_type": "code",
   "execution_count": 2,
   "id": "64c1b4bd",
   "metadata": {},
   "outputs": [],
   "source": [
    "class NormalizationData:\n",
    "    \n",
    "      def z_score(arr: np.ndarray):\n",
    "        mean = arr.mean()\n",
    "        std = arr.std()\n",
    "        out = (arr - mean) / std\n",
    "        return out"
   ]
  },
  {
   "cell_type": "markdown",
   "id": "27aebac1",
   "metadata": {},
   "source": [
    "### Métricas de avaliação"
   ]
  },
  {
   "cell_type": "code",
   "execution_count": 3,
   "id": "bcd24a48",
   "metadata": {},
   "outputs": [],
   "source": [
    "class ClassificationMetrics:\n",
    "    \n",
    "    def accuracy(y_real: np.ndarray, y_predicted: np.ndarray) -> float:\n",
    "        result = ((y_real == y_predicted).sum() / y_real.shape[0])\n",
    "        return result \n",
    "    \n",
    "    def precision(y_real: np.ndarray, y_predicted: np.ndarray) -> float:\n",
    "        real = y_real.astype(bool)\n",
    "        pred = y_predicted.astype(bool)\n",
    "    \n",
    "        T = real == 1\n",
    "        F = ~T\n",
    "\n",
    "        TP = pred[T].sum()\n",
    "        FP = (~pred[F]).sum()\n",
    "\n",
    "        result = (TP / (TP + FP))\n",
    "        return result\n",
    "    \n",
    "    def recall(y_real: np.ndarray, y_predicted: np.ndarray) -> float:\n",
    "        real = y_real.astype(bool)\n",
    "        pred = y_predicted.astype(bool)\n",
    "        \n",
    "        T = real == True\n",
    "        TP = pred[T].sum()\n",
    "        FN = (~pred[T]).sum()\n",
    "        \n",
    "        result = (TP / (TP + FN))\n",
    "        return result\n",
    "    \n",
    "    def f1_score(y_real: np.ndarray, y_predicted: np.ndarray) -> float:\n",
    "        rec = ClassificationMetrics.recall(y_real, y_predicted)\n",
    "        prec = ClassificationMetrics.precision(y_real, y_predicted)\n",
    "        \n",
    "        result = (2 * (rec * prec) / (rec + prec))\n",
    "        return result"
   ]
  },
  {
   "cell_type": "markdown",
   "id": "0da684b2",
   "metadata": {},
   "source": [
    "### Funções de distância - Euclidiana e Mahalanobis"
   ]
  },
  {
   "cell_type": "code",
   "execution_count": 4,
   "id": "7c7433df",
   "metadata": {},
   "outputs": [],
   "source": [
    "class Euclidian():\n",
    "    def dists(x1: np.ndarray, x2: np.ndarray) -> float:\n",
    "        return np.sqrt(\n",
    "            np.sum((x2 - x1) ** 2)\n",
    "        )\n",
    "\n",
    "class Mahalanobis():\n",
    "    def dists(x1: np.ndarray, x2: np.ndarray) -> float:\n",
    "        inv_cov = np.linalg.pinv(np.cov(X_train.T))\n",
    "        return np.sqrt(\n",
    "            (x1 - x2).T @ inv_cov @ (x1 - x2)\n",
    "        )"
   ]
  },
  {
   "cell_type": "markdown",
   "id": "18c51a97",
   "metadata": {},
   "source": [
    "### Algoritmo K-Nearest Neighbors (KNN)"
   ]
  },
  {
   "cell_type": "code",
   "execution_count": 5,
   "id": "211a66cd",
   "metadata": {},
   "outputs": [],
   "source": [
    "class Knn():\n",
    "    def __init__(self, x: np.ndarray, y: np.ndarray, k: int, dist_func: Callable[[np.ndarray, np.ndarray], float]):\n",
    "        self.x = x\n",
    "        self.y = y\n",
    "        self.k = k\n",
    "        self.dist_func = dist_func\n",
    "        \n",
    "    def fit(self, X, y):\n",
    "        self.X = X\n",
    "        self.y = y\n",
    "\n",
    "    def calculate_dist(self, rown: np.ndarray, x: np.ndarray) -> np.ndarray:\n",
    "        return np.apply_along_axis(\n",
    "            lambda x_rown: self.dist_func(rown, x_rown),\n",
    "            1,\n",
    "            x\n",
    "        )\n",
    "\n",
    "    def k_nearest(self, dists: np.ndarray) -> np.ndarray:\n",
    "        partition = np.argpartition(dists, self.k)\n",
    "\n",
    "        result_id = partition[:self.k]\n",
    "\n",
    "        return result_id\n",
    "\n",
    "    def prediction(self, rown: np.ndarray) -> np.ndarray:\n",
    "\n",
    "        dists_others_points = self.calculate_dist(rown, self.x)\n",
    "\n",
    "        k_nearests_id = self.k_nearest(dists_others_points)\n",
    "\n",
    "        class_points = self.y[k_nearests_id]\n",
    "\n",
    "        unique_class, counts = np.unique(class_points, return_counts=True)\n",
    "\n",
    "        most_freq_class_id = np.argmax(counts)\n",
    "\n",
    "        return unique_class[most_freq_class_id]\n",
    "\n",
    "    def predict(self, x: np.ndarray) -> np.ndarray:\n",
    "        return np.apply_along_axis(\n",
    "            self.prediction, 1, x\n",
    "        ).reshape([-1, 1])"
   ]
  },
  {
   "cell_type": "markdown",
   "id": "1e948dc5",
   "metadata": {},
   "source": [
    "### Importação de dados"
   ]
  },
  {
   "cell_type": "code",
   "execution_count": 6,
   "id": "d02be319",
   "metadata": {},
   "outputs": [],
   "source": [
    "df = pd.read_csv('data/kc2.csv', delimiter=\",\", header=None)\n",
    "new_df = df.drop_duplicates()"
   ]
  },
  {
   "cell_type": "code",
   "execution_count": 7,
   "id": "97569112",
   "metadata": {},
   "outputs": [
    {
     "data": {
      "text/html": [
       "<div>\n",
       "<style scoped>\n",
       "    .dataframe tbody tr th:only-of-type {\n",
       "        vertical-align: middle;\n",
       "    }\n",
       "\n",
       "    .dataframe tbody tr th {\n",
       "        vertical-align: top;\n",
       "    }\n",
       "\n",
       "    .dataframe thead th {\n",
       "        text-align: right;\n",
       "    }\n",
       "</style>\n",
       "<table border=\"1\" class=\"dataframe\">\n",
       "  <thead>\n",
       "    <tr style=\"text-align: right;\">\n",
       "      <th></th>\n",
       "      <th>0</th>\n",
       "      <th>1</th>\n",
       "      <th>2</th>\n",
       "      <th>3</th>\n",
       "      <th>4</th>\n",
       "      <th>5</th>\n",
       "      <th>6</th>\n",
       "      <th>7</th>\n",
       "      <th>8</th>\n",
       "      <th>9</th>\n",
       "      <th>...</th>\n",
       "      <th>12</th>\n",
       "      <th>13</th>\n",
       "      <th>14</th>\n",
       "      <th>15</th>\n",
       "      <th>16</th>\n",
       "      <th>17</th>\n",
       "      <th>18</th>\n",
       "      <th>19</th>\n",
       "      <th>20</th>\n",
       "      <th>21</th>\n",
       "    </tr>\n",
       "  </thead>\n",
       "  <tbody>\n",
       "    <tr>\n",
       "      <th>0</th>\n",
       "      <td>1.1</td>\n",
       "      <td>1.4</td>\n",
       "      <td>1.4</td>\n",
       "      <td>1.4</td>\n",
       "      <td>1.3</td>\n",
       "      <td>1.30</td>\n",
       "      <td>1.30</td>\n",
       "      <td>1.30</td>\n",
       "      <td>1.30</td>\n",
       "      <td>1.30</td>\n",
       "      <td>...</td>\n",
       "      <td>2.0</td>\n",
       "      <td>2.0</td>\n",
       "      <td>2.0</td>\n",
       "      <td>2.0</td>\n",
       "      <td>1.2</td>\n",
       "      <td>1.2</td>\n",
       "      <td>1.2</td>\n",
       "      <td>1.2</td>\n",
       "      <td>1.4</td>\n",
       "      <td>0.0</td>\n",
       "    </tr>\n",
       "    <tr>\n",
       "      <th>1</th>\n",
       "      <td>1.0</td>\n",
       "      <td>1.0</td>\n",
       "      <td>1.0</td>\n",
       "      <td>1.0</td>\n",
       "      <td>1.0</td>\n",
       "      <td>1.00</td>\n",
       "      <td>1.00</td>\n",
       "      <td>1.00</td>\n",
       "      <td>1.00</td>\n",
       "      <td>1.00</td>\n",
       "      <td>...</td>\n",
       "      <td>1.0</td>\n",
       "      <td>1.0</td>\n",
       "      <td>1.0</td>\n",
       "      <td>1.0</td>\n",
       "      <td>1.0</td>\n",
       "      <td>1.0</td>\n",
       "      <td>1.0</td>\n",
       "      <td>1.0</td>\n",
       "      <td>1.0</td>\n",
       "      <td>1.0</td>\n",
       "    </tr>\n",
       "    <tr>\n",
       "      <th>2</th>\n",
       "      <td>415.0</td>\n",
       "      <td>59.0</td>\n",
       "      <td>50.0</td>\n",
       "      <td>51.0</td>\n",
       "      <td>1159.0</td>\n",
       "      <td>8411.31</td>\n",
       "      <td>0.01</td>\n",
       "      <td>103.53</td>\n",
       "      <td>81.24</td>\n",
       "      <td>870848.58</td>\n",
       "      <td>...</td>\n",
       "      <td>359.0</td>\n",
       "      <td>35.0</td>\n",
       "      <td>9.0</td>\n",
       "      <td>10.0</td>\n",
       "      <td>47.0</td>\n",
       "      <td>106.0</td>\n",
       "      <td>692.0</td>\n",
       "      <td>467.0</td>\n",
       "      <td>106.0</td>\n",
       "      <td>1.0</td>\n",
       "    </tr>\n",
       "    <tr>\n",
       "      <th>3</th>\n",
       "      <td>230.0</td>\n",
       "      <td>33.0</td>\n",
       "      <td>10.0</td>\n",
       "      <td>16.0</td>\n",
       "      <td>575.0</td>\n",
       "      <td>3732.82</td>\n",
       "      <td>0.03</td>\n",
       "      <td>39.82</td>\n",
       "      <td>93.74</td>\n",
       "      <td>148644.06</td>\n",
       "      <td>...</td>\n",
       "      <td>174.0</td>\n",
       "      <td>15.0</td>\n",
       "      <td>34.0</td>\n",
       "      <td>5.0</td>\n",
       "      <td>23.0</td>\n",
       "      <td>67.0</td>\n",
       "      <td>343.0</td>\n",
       "      <td>232.0</td>\n",
       "      <td>65.0</td>\n",
       "      <td>1.0</td>\n",
       "    </tr>\n",
       "    <tr>\n",
       "      <th>4</th>\n",
       "      <td>175.0</td>\n",
       "      <td>26.0</td>\n",
       "      <td>12.0</td>\n",
       "      <td>13.0</td>\n",
       "      <td>500.0</td>\n",
       "      <td>3123.96</td>\n",
       "      <td>0.03</td>\n",
       "      <td>29.48</td>\n",
       "      <td>105.96</td>\n",
       "      <td>92103.07</td>\n",
       "      <td>...</td>\n",
       "      <td>142.0</td>\n",
       "      <td>7.0</td>\n",
       "      <td>19.0</td>\n",
       "      <td>4.0</td>\n",
       "      <td>18.0</td>\n",
       "      <td>58.0</td>\n",
       "      <td>310.0</td>\n",
       "      <td>190.0</td>\n",
       "      <td>51.0</td>\n",
       "      <td>1.0</td>\n",
       "    </tr>\n",
       "    <tr>\n",
       "      <th>...</th>\n",
       "      <td>...</td>\n",
       "      <td>...</td>\n",
       "      <td>...</td>\n",
       "      <td>...</td>\n",
       "      <td>...</td>\n",
       "      <td>...</td>\n",
       "      <td>...</td>\n",
       "      <td>...</td>\n",
       "      <td>...</td>\n",
       "      <td>...</td>\n",
       "      <td>...</td>\n",
       "      <td>...</td>\n",
       "      <td>...</td>\n",
       "      <td>...</td>\n",
       "      <td>...</td>\n",
       "      <td>...</td>\n",
       "      <td>...</td>\n",
       "      <td>...</td>\n",
       "      <td>...</td>\n",
       "      <td>...</td>\n",
       "      <td>...</td>\n",
       "    </tr>\n",
       "    <tr>\n",
       "      <th>516</th>\n",
       "      <td>6.0</td>\n",
       "      <td>2.0</td>\n",
       "      <td>1.0</td>\n",
       "      <td>1.0</td>\n",
       "      <td>15.0</td>\n",
       "      <td>53.77</td>\n",
       "      <td>0.40</td>\n",
       "      <td>2.50</td>\n",
       "      <td>21.51</td>\n",
       "      <td>134.44</td>\n",
       "      <td>...</td>\n",
       "      <td>2.0</td>\n",
       "      <td>0.0</td>\n",
       "      <td>2.0</td>\n",
       "      <td>0.0</td>\n",
       "      <td>5.0</td>\n",
       "      <td>7.0</td>\n",
       "      <td>8.0</td>\n",
       "      <td>7.0</td>\n",
       "      <td>3.0</td>\n",
       "      <td>1.0</td>\n",
       "    </tr>\n",
       "    <tr>\n",
       "      <th>517</th>\n",
       "      <td>4.0</td>\n",
       "      <td>1.0</td>\n",
       "      <td>1.0</td>\n",
       "      <td>1.0</td>\n",
       "      <td>5.0</td>\n",
       "      <td>11.61</td>\n",
       "      <td>0.50</td>\n",
       "      <td>2.00</td>\n",
       "      <td>5.80</td>\n",
       "      <td>23.22</td>\n",
       "      <td>...</td>\n",
       "      <td>2.0</td>\n",
       "      <td>0.0</td>\n",
       "      <td>0.0</td>\n",
       "      <td>0.0</td>\n",
       "      <td>4.0</td>\n",
       "      <td>1.0</td>\n",
       "      <td>4.0</td>\n",
       "      <td>1.0</td>\n",
       "      <td>1.0</td>\n",
       "      <td>1.0</td>\n",
       "    </tr>\n",
       "    <tr>\n",
       "      <th>518</th>\n",
       "      <td>4.0</td>\n",
       "      <td>1.0</td>\n",
       "      <td>1.0</td>\n",
       "      <td>1.0</td>\n",
       "      <td>4.0</td>\n",
       "      <td>8.00</td>\n",
       "      <td>0.67</td>\n",
       "      <td>1.50</td>\n",
       "      <td>5.33</td>\n",
       "      <td>12.00</td>\n",
       "      <td>...</td>\n",
       "      <td>2.0</td>\n",
       "      <td>0.0</td>\n",
       "      <td>0.0</td>\n",
       "      <td>0.0</td>\n",
       "      <td>3.0</td>\n",
       "      <td>1.0</td>\n",
       "      <td>3.0</td>\n",
       "      <td>1.0</td>\n",
       "      <td>1.0</td>\n",
       "      <td>1.0</td>\n",
       "    </tr>\n",
       "    <tr>\n",
       "      <th>520</th>\n",
       "      <td>4.0</td>\n",
       "      <td>1.0</td>\n",
       "      <td>1.0</td>\n",
       "      <td>1.0</td>\n",
       "      <td>5.0</td>\n",
       "      <td>11.61</td>\n",
       "      <td>0.67</td>\n",
       "      <td>1.50</td>\n",
       "      <td>7.74</td>\n",
       "      <td>17.41</td>\n",
       "      <td>...</td>\n",
       "      <td>2.0</td>\n",
       "      <td>0.0</td>\n",
       "      <td>0.0</td>\n",
       "      <td>0.0</td>\n",
       "      <td>3.0</td>\n",
       "      <td>2.0</td>\n",
       "      <td>3.0</td>\n",
       "      <td>2.0</td>\n",
       "      <td>1.0</td>\n",
       "      <td>1.0</td>\n",
       "    </tr>\n",
       "    <tr>\n",
       "      <th>521</th>\n",
       "      <td>3.0</td>\n",
       "      <td>1.0</td>\n",
       "      <td>1.0</td>\n",
       "      <td>1.0</td>\n",
       "      <td>1.0</td>\n",
       "      <td>0.00</td>\n",
       "      <td>0.00</td>\n",
       "      <td>0.00</td>\n",
       "      <td>0.00</td>\n",
       "      <td>0.00</td>\n",
       "      <td>...</td>\n",
       "      <td>1.0</td>\n",
       "      <td>0.0</td>\n",
       "      <td>0.0</td>\n",
       "      <td>0.0</td>\n",
       "      <td>1.0</td>\n",
       "      <td>0.0</td>\n",
       "      <td>1.0</td>\n",
       "      <td>0.0</td>\n",
       "      <td>1.0</td>\n",
       "      <td>1.0</td>\n",
       "    </tr>\n",
       "  </tbody>\n",
       "</table>\n",
       "<p>375 rows × 22 columns</p>\n",
       "</div>"
      ],
      "text/plain": [
       "        0     1     2     3       4        5     6       7       8   \\\n",
       "0      1.1   1.4   1.4   1.4     1.3     1.30  1.30    1.30    1.30   \n",
       "1      1.0   1.0   1.0   1.0     1.0     1.00  1.00    1.00    1.00   \n",
       "2    415.0  59.0  50.0  51.0  1159.0  8411.31  0.01  103.53   81.24   \n",
       "3    230.0  33.0  10.0  16.0   575.0  3732.82  0.03   39.82   93.74   \n",
       "4    175.0  26.0  12.0  13.0   500.0  3123.96  0.03   29.48  105.96   \n",
       "..     ...   ...   ...   ...     ...      ...   ...     ...     ...   \n",
       "516    6.0   2.0   1.0   1.0    15.0    53.77  0.40    2.50   21.51   \n",
       "517    4.0   1.0   1.0   1.0     5.0    11.61  0.50    2.00    5.80   \n",
       "518    4.0   1.0   1.0   1.0     4.0     8.00  0.67    1.50    5.33   \n",
       "520    4.0   1.0   1.0   1.0     5.0    11.61  0.67    1.50    7.74   \n",
       "521    3.0   1.0   1.0   1.0     1.0     0.00  0.00    0.00    0.00   \n",
       "\n",
       "            9   ...     12    13    14    15    16     17     18     19  \\\n",
       "0         1.30  ...    2.0   2.0   2.0   2.0   1.2    1.2    1.2    1.2   \n",
       "1         1.00  ...    1.0   1.0   1.0   1.0   1.0    1.0    1.0    1.0   \n",
       "2    870848.58  ...  359.0  35.0   9.0  10.0  47.0  106.0  692.0  467.0   \n",
       "3    148644.06  ...  174.0  15.0  34.0   5.0  23.0   67.0  343.0  232.0   \n",
       "4     92103.07  ...  142.0   7.0  19.0   4.0  18.0   58.0  310.0  190.0   \n",
       "..         ...  ...    ...   ...   ...   ...   ...    ...    ...    ...   \n",
       "516     134.44  ...    2.0   0.0   2.0   0.0   5.0    7.0    8.0    7.0   \n",
       "517      23.22  ...    2.0   0.0   0.0   0.0   4.0    1.0    4.0    1.0   \n",
       "518      12.00  ...    2.0   0.0   0.0   0.0   3.0    1.0    3.0    1.0   \n",
       "520      17.41  ...    2.0   0.0   0.0   0.0   3.0    2.0    3.0    2.0   \n",
       "521       0.00  ...    1.0   0.0   0.0   0.0   1.0    0.0    1.0    0.0   \n",
       "\n",
       "        20   21  \n",
       "0      1.4  0.0  \n",
       "1      1.0  1.0  \n",
       "2    106.0  1.0  \n",
       "3     65.0  1.0  \n",
       "4     51.0  1.0  \n",
       "..     ...  ...  \n",
       "516    3.0  1.0  \n",
       "517    1.0  1.0  \n",
       "518    1.0  1.0  \n",
       "520    1.0  1.0  \n",
       "521    1.0  1.0  \n",
       "\n",
       "[375 rows x 22 columns]"
      ]
     },
     "execution_count": 7,
     "metadata": {},
     "output_type": "execute_result"
    }
   ],
   "source": [
    "new_df"
   ]
  },
  {
   "cell_type": "markdown",
   "id": "aa4dccbb",
   "metadata": {},
   "source": [
    "### Separação de dados"
   ]
  },
  {
   "cell_type": "code",
   "execution_count": 8,
   "id": "82e587d1",
   "metadata": {},
   "outputs": [],
   "source": [
    "X = new_df.iloc[:,:-1].to_numpy()\n",
    "y = new_df.iloc[:,-1].to_numpy() "
   ]
  },
  {
   "cell_type": "markdown",
   "id": "53429479",
   "metadata": {},
   "source": [
    "### Normalização de dados com Z_score"
   ]
  },
  {
   "cell_type": "code",
   "execution_count": 9,
   "id": "78283ff0",
   "metadata": {},
   "outputs": [],
   "source": [
    "X_norm = np.empty_like(X)\n",
    "\n",
    "for idx, col in enumerate(X.T):\n",
    "\n",
    "    norm = NormalizationData.z_score(col)\n",
    "\n",
    "    X_norm[:, idx] = norm"
   ]
  },
  {
   "cell_type": "code",
   "execution_count": 47,
   "id": "3a93c07d",
   "metadata": {},
   "outputs": [],
   "source": [
    "X_train, X_test, y_train, y_test = train_test_split(X_norm, y, test_size=0.3, random_state=40, stratify=y)"
   ]
  },
  {
   "cell_type": "markdown",
   "id": "24a43ab4",
   "metadata": {},
   "source": [
    "### Treinamento dos modelos"
   ]
  },
  {
   "cell_type": "markdown",
   "id": "f6693748",
   "metadata": {},
   "source": [
    "#### KNN - usando distância Euclidiana"
   ]
  },
  {
   "cell_type": "code",
   "execution_count": 32,
   "id": "cf7bd13b",
   "metadata": {},
   "outputs": [],
   "source": [
    "k = 5\n",
    "\n",
    "knn_euclidian = Knn(\n",
    "    X_train,\n",
    "    y_train,\n",
    "    k,\n",
    "    Euclidian.dists\n",
    ")\n",
    "\n",
    "knn_euclidian.fit(X_train, y_train)"
   ]
  },
  {
   "cell_type": "code",
   "execution_count": 33,
   "id": "45e1a28d",
   "metadata": {},
   "outputs": [],
   "source": [
    "preds_euclidian = knn_euclidian.predict(X_test)\n",
    "accuracy = ClassificationMetrics.accuracy(y_test, preds_euclidian)\n",
    "precision = ClassificationMetrics.precision(y_test, preds_euclidian)\n",
    "recall = ClassificationMetrics.recall(y_test, preds_euclidian)\n",
    "f1_score = ClassificationMetrics.f1_score(y_test, preds_euclidian)"
   ]
  },
  {
   "cell_type": "code",
   "execution_count": 34,
   "id": "03d8cf1a",
   "metadata": {},
   "outputs": [
    {
     "name": "stdout",
     "output_type": "stream",
     "text": [
      "------ KNN Metrics Results ------\n",
      "Accuracy Model:  71.89380530973452\n",
      "Precision Model:  0.14285714285714285\n",
      "Recall Model:  0.375\n",
      "F1_score Model:  0.20689655172413796\n"
     ]
    }
   ],
   "source": [
    "print(\"------ KNN Metrics Results ------\")\n",
    "print(\"Accuracy Model: \", accuracy)\n",
    "print(\"Precision Model: \", precision)\n",
    "print(\"Recall Model: \", recall)\n",
    "print(\"F1_score Model: \", f1_score)"
   ]
  },
  {
   "cell_type": "markdown",
   "id": "1def2a9a",
   "metadata": {},
   "source": [
    "#### KNN - usando distância Mahalanobis"
   ]
  },
  {
   "cell_type": "code",
   "execution_count": 35,
   "id": "d32827c9",
   "metadata": {},
   "outputs": [],
   "source": [
    "k = 5\n",
    "\n",
    "knn_mahalanobis = Knn(\n",
    "    X_train,\n",
    "    y_train,\n",
    "    k,\n",
    "    Mahalanobis.dists\n",
    ")\n",
    "\n",
    "knn_euclidian.fit(X_train, y_train)"
   ]
  },
  {
   "cell_type": "code",
   "execution_count": 36,
   "id": "710faf05",
   "metadata": {},
   "outputs": [],
   "source": [
    "preds_mahalanobis = knn_mahalanobis.predict(X_test)\n",
    "accuracy = ClassificationMetrics.accuracy(y_test, preds_mahalanobis)\n",
    "precision = ClassificationMetrics.precision(y_test, preds_mahalanobis)\n",
    "recall = ClassificationMetrics.recall(y_test, preds_mahalanobis)\n",
    "f1_score = ClassificationMetrics.f1_score(y_test, preds_mahalanobis)"
   ]
  },
  {
   "cell_type": "code",
   "execution_count": 37,
   "id": "6969e858",
   "metadata": {},
   "outputs": [
    {
     "name": "stdout",
     "output_type": "stream",
     "text": [
      "------ KNN Metrics Results ------\n",
      "Accuracy Model:  75.79646017699115\n",
      "Precision Model:  0.08433734939759036\n",
      "Recall Model:  0.21875\n",
      "F1_score Model:  0.12173913043478261\n"
     ]
    }
   ],
   "source": [
    "print(\"------ KNN Metrics Results ------\")\n",
    "print(\"Accuracy Model: \", accuracy)\n",
    "print(\"Precision Model: \", precision)\n",
    "print(\"Recall Model: \", recall)\n",
    "print(\"F1_score Model: \", f1_score)"
   ]
  },
  {
   "cell_type": "markdown",
   "id": "96139e93",
   "metadata": {},
   "source": [
    "#### Árvore de Decisão"
   ]
  },
  {
   "cell_type": "code",
   "execution_count": 38,
   "id": "ab68b3f2",
   "metadata": {},
   "outputs": [],
   "source": [
    "dt = DecisionTreeClassifier(criterion='entropy')\n",
    "dt = dt.fit(X_train, y_train)\n",
    "prediction = dt.predict(X_test)\n",
    "accuracy = ClassificationMetrics.accuracy(y_test, prediction)\n",
    "precision = ClassificationMetrics.precision(y_test, prediction)\n",
    "recall = ClassificationMetrics.recall(y_test, prediction)\n",
    "f1_score = ClassificationMetrics.f1_score(y_test, prediction)"
   ]
  },
  {
   "cell_type": "code",
   "execution_count": 39,
   "id": "9f6bf288",
   "metadata": {},
   "outputs": [
    {
     "name": "stdout",
     "output_type": "stream",
     "text": [
      "------ Decision Tree Metrics Results ------\n",
      "Accuracy Model:  0.6814159292035398\n",
      "Precision Model:  0.16883116883116883\n",
      "Recall Model:  0.40625\n",
      "F1_score Model:  0.23853211009174313\n"
     ]
    }
   ],
   "source": [
    "print(\"------ Decision Tree Metrics Results ------\")\n",
    "print(\"Accuracy Model: \", accuracy)\n",
    "print(\"Precision Model: \", precision)\n",
    "print(\"Recall Model: \", recall)\n",
    "print(\"F1_score Model: \", f1_score)"
   ]
  },
  {
   "cell_type": "markdown",
   "id": "7492396f",
   "metadata": {},
   "source": [
    "### Avaliação dos modelos com K folds"
   ]
  },
  {
   "cell_type": "code",
   "execution_count": 40,
   "id": "ffc44616",
   "metadata": {},
   "outputs": [],
   "source": [
    "class Kfolds():\n",
    "    \n",
    "    def __init__(self, folds = 10):\n",
    "        self.folds = folds\n",
    "        \n",
    "    def fold(self):\n",
    "        \n",
    "        np.random.shuffle(self.data)\n",
    "        n = self.data.shape[0]\n",
    "        self.n_folds = []\n",
    "        folds_size = ma.ceil(n / self.folds)     \n",
    "        for i in range(0, n, folds_size):\n",
    "            end = i + folds_size\n",
    "            end = n if end > n else end\n",
    "            fold = self.data[i: end,:]\n",
    "            self.n_folds.append(fold)\n",
    "            \n",
    "    def predict(self, index):\n",
    "        folds = self.n_folds[:]\n",
    "        \n",
    "        test_fold = folds.pop(index)\n",
    "        train_fold = np.vstack(folds)\n",
    "        \n",
    "        x_train = train_fold[:, :-1]\n",
    "        y_train = train_fold[:, -1]\n",
    "        x_test = test_fold[:, :-1]\n",
    "        y_test = test_fold[:, -1]\n",
    "        \n",
    "        self.model.fit(x_train, y_train)\n",
    "        pred = self.model.predict(x_test)\n",
    "        \n",
    "        return pred, y_test\n",
    "    \n",
    "    def folds_results_metrics(self):\n",
    "        \n",
    "        self.accuracies = []\n",
    "        self.precisions = []\n",
    "        self.recalls = []\n",
    "        self.f1_score = []\n",
    "        \n",
    "        for i in range(self.folds):\n",
    "            pred, y_test = self.predict(i)\n",
    "            accuracy = ClassificationMetrics.accuracy(y_test, pred)\n",
    "            precision = ClassificationMetrics.precision(y_test, pred)\n",
    "            recall = ClassificationMetrics.recall(y_test, pred)\n",
    "            f1_score = ClassificationMetrics.f1_score(y_test, pred)\n",
    "            \n",
    "            self.accuracies.append(accuracy)\n",
    "            self.precisions.append(precision)\n",
    "            self.recalls.append(recall)\n",
    "            self.f1_score.append(f1_score)\n",
    "            \n",
    "        self.accurancy_mean = np.mean(self.accuracies)\n",
    "        self.precision_mean = np.mean(self.precisions)\n",
    "        self.recall_mean = np.mean(self.recalls)\n",
    "        self.f1_score_mean = np.mean(self.f1_score)\n",
    "        \n",
    "        self.accurancy_std = np.std(self.accuracies)\n",
    "        self.precision_std = np.std(self.precisions)\n",
    "        self.recall_std = np.std(self.recalls)\n",
    "        self.f1_score_std = np.std(self.f1_score)\n",
    "        \n",
    "    def fit_folds(self, model, x, y):\n",
    "        self.data = np.c_[ x, y ]\n",
    "        self.model = model\n",
    "        self.fold()\n",
    "        self.folds_results_metrics()"
   ]
  },
  {
   "cell_type": "code",
   "execution_count": 41,
   "id": "fd9b39b0",
   "metadata": {},
   "outputs": [],
   "source": [
    "models = {\n",
    "    'Árvore de Decisão' : dt,\n",
    "    'K-NN com euclidiana': knn_euclidian,\n",
    "    'K-NN com mahalanobis': knn_mahalanobis\n",
    "}\n",
    "models_names = list(models.keys())"
   ]
  },
  {
   "cell_type": "code",
   "execution_count": 42,
   "id": "4f24cfc6",
   "metadata": {},
   "outputs": [],
   "source": [
    "accuracies_means = []\n",
    "precisions_means = []\n",
    "f1_score_means = []\n",
    "recalls_means = []\n",
    "\n",
    "accuracies_stds = []\n",
    "precisions_stds = []\n",
    "f1_score_stds = []\n",
    "recalls_stds = []\n",
    "\n",
    "for model_name, model in models.items():\n",
    "    kfolds = Kfolds()\n",
    "    kfolds.fit_folds(model, X, y)\n",
    "\n",
    "    accuracies_means.append(kfolds.accurancy_mean)\n",
    "    precisions_means.append(kfolds.precision_mean)\n",
    "    recalls_means.append(kfolds.recall_mean)\n",
    "    f1_score_means.append(kfolds.f1_score_mean)\n",
    "\n",
    "    accuracies_stds.append(kfolds.accurancy_std)\n",
    "    precisions_stds.append(kfolds.precision_std)\n",
    "    recalls_stds.append(kfolds.recall_std)\n",
    "    f1_score_stds.append(kfolds.f1_score_std)"
   ]
  },
  {
   "cell_type": "markdown",
   "id": "eceb1bbf",
   "metadata": {},
   "source": [
    "### Resultados das métricas com K-fold "
   ]
  },
  {
   "cell_type": "code",
   "execution_count": 43,
   "id": "a47af5a6",
   "metadata": {},
   "outputs": [],
   "source": [
    "metrics = [\"Acurácia\", \"Precisão\", \"Revocação\", \"F1-Score\"]\n",
    "dt_metrics_mean, knn_eucli_metrics_mean, knn_mahal_metrics_mean = np.array([accuracies_means, precisions_means, recalls_means, f1_score_means]).T\n",
    "dt_metrics_std, knn_eucli_metrics_std, knn_mahal_metrics_std = np.array([accuracies_stds, precisions_stds, recalls_stds, f1_score_stds]).T"
   ]
  },
  {
   "cell_type": "markdown",
   "id": "60603767",
   "metadata": {},
   "source": [
    "#### Média das métricas"
   ]
  },
  {
   "cell_type": "code",
   "execution_count": 44,
   "id": "86057867",
   "metadata": {},
   "outputs": [
    {
     "name": "stdout",
     "output_type": "stream",
     "text": [
      "------ Media - Decision Tree K-folds Results ------\n",
      "Accuracy Model:  0.7083732057416269\n",
      "Precision Model:  0.18468697537333584\n",
      "Recall Model:  0.47861111111111104\n",
      "F1_score Model:  0.26222391454098765\n"
     ]
    }
   ],
   "source": [
    "print(\"------ Media - Decision Tree K-folds Results ------\")\n",
    "print(\"Accuracy Model: \", dt_metrics_mean[0])\n",
    "print(\"Precision Model: \", dt_metrics_mean[1])\n",
    "print(\"Recall Model: \", dt_metrics_mean[2])\n",
    "print(\"F1_score Model: \", dt_metrics_mean[3])"
   ]
  },
  {
   "cell_type": "code",
   "execution_count": 45,
   "id": "0e8b2d9b",
   "metadata": {},
   "outputs": [
    {
     "name": "stdout",
     "output_type": "stream",
     "text": [
      "------ Media - K-nn with euclidian K-folds Results ------\n",
      "Accuracy Model:  25.723444976076554\n",
      "Precision Model:  0.042354257821443586\n",
      "Recall Model:  0.1113127558715794\n",
      "F1_score Model:  nan\n"
     ]
    }
   ],
   "source": [
    "print(\"------ Media - K-nn with euclidian K-folds Results ------\")\n",
    "print(\"Accuracy Model: \", knn_eucli_metrics_mean[0])\n",
    "print(\"Precision Model: \", knn_eucli_metrics_mean[1])\n",
    "print(\"Recall Model: \", knn_eucli_metrics_mean[2])\n",
    "print(\"F1_score Model: \", knn_eucli_metrics_mean[3])"
   ]
  },
  {
   "cell_type": "code",
   "execution_count": 46,
   "id": "a47c4908",
   "metadata": {},
   "outputs": [
    {
     "name": "stdout",
     "output_type": "stream",
     "text": [
      "------ Media - K-nn with mahalanobis K-folds Results ------\n",
      "Accuracy Model:  24.539553429027112\n",
      "Precision Model:  0.04652328750154837\n",
      "Recall Model:  0.11535714285714287\n",
      "F1_score Model:  nan\n"
     ]
    }
   ],
   "source": [
    "print(\"------ Media - K-nn with mahalanobis K-folds Results ------\")\n",
    "print(\"Accuracy Model: \", knn_mahal_metrics_mean[0])\n",
    "print(\"Precision Model: \", knn_mahal_metrics_mean[1])\n",
    "print(\"Recall Model: \", knn_mahal_metrics_mean[2])\n",
    "print(\"F1_score Model: \", knn_mahal_metrics_mean[3])"
   ]
  },
  {
   "cell_type": "markdown",
   "id": "70ebc6eb",
   "metadata": {},
   "source": [
    "#### Desvio padrão das métricas"
   ]
  },
  {
   "cell_type": "code",
   "execution_count": 26,
   "id": "1515790d",
   "metadata": {},
   "outputs": [
    {
     "name": "stdout",
     "output_type": "stream",
     "text": [
      "------ Standard dev - Decision Tree K-folds Results ------\n",
      "Accuracy Model:  0.08176021804946637\n",
      "Precision Model:  0.0497266619655153\n",
      "Recall Model:  0.112221148145178\n",
      "F1_score Model:  0.05913901329293411\n"
     ]
    }
   ],
   "source": [
    "print(\"------ Standard dev - Decision Tree K-folds Results ------\")\n",
    "print(\"Accuracy Model: \", dt_metrics_std[0])\n",
    "print(\"Precision Model: \", dt_metrics_std[1])\n",
    "print(\"Recall Model: \", dt_metrics_std[2])\n",
    "print(\"F1_score Model: \", dt_metrics_std[3])"
   ]
  },
  {
   "cell_type": "code",
   "execution_count": 27,
   "id": "a0f4ba46",
   "metadata": {},
   "outputs": [
    {
     "name": "stdout",
     "output_type": "stream",
     "text": [
      "------ Standard dev - K-nn with euclidian K-folds Results ------\n",
      "Accuracy Model:  5.709915398394763\n",
      "Precision Model:  0.1928571428571429\n",
      "Recall Model:  0.30000000000000004\n",
      "F1_score Model:  nan\n"
     ]
    }
   ],
   "source": [
    "print(\"------ Standard dev - K-nn with euclidian K-folds Results ------\")\n",
    "print(\"Accuracy Model: \", knn_eucli_metrics_std[0])\n",
    "print(\"Precision Model: \", knn_eucli_metrics_std[1])\n",
    "print(\"Recall Model: \", knn_eucli_metrics_std[2])\n",
    "print(\"F1_score Model: \", knn_eucli_metrics_std[3])"
   ]
  },
  {
   "cell_type": "code",
   "execution_count": 28,
   "id": "cc76ad36",
   "metadata": {},
   "outputs": [
    {
     "name": "stdout",
     "output_type": "stream",
     "text": [
      "------ Standard dev - K-nn with mahalanobis K-folds Results ------\n",
      "Accuracy Model:  2.2722556045441937\n",
      "Precision Model:  0.015103074399207087\n",
      "Recall Model:  0.03823589244511471\n",
      "F1_score Model:  nan\n"
     ]
    }
   ],
   "source": [
    "print(\"------ Standard dev - K-nn with mahalanobis K-folds Results ------\")\n",
    "print(\"Accuracy Model: \", knn_mahal_metrics_std[0])\n",
    "print(\"Precision Model: \", knn_mahal_metrics_std[1])\n",
    "print(\"Recall Model: \", knn_mahal_metrics_std[2])\n",
    "print(\"F1_score Model: \", knn_mahal_metrics_std[3])"
   ]
  },
  {
   "cell_type": "markdown",
   "id": "e825b92d",
   "metadata": {},
   "source": [
    "### Visualização dos resultados das métricas por modelo"
   ]
  },
  {
   "cell_type": "code",
   "execution_count": 29,
   "id": "b29e7f80",
   "metadata": {
    "scrolled": false
   },
   "outputs": [
    {
     "data": {
      "text/plain": [
       "<matplotlib.legend.Legend at 0x14ed3f95d60>"
      ]
     },
     "execution_count": 29,
     "metadata": {},
     "output_type": "execute_result"
    },
    {
     "data": {
      "image/png": "[encoded data removed]",
      "text/plain": [
       "<Figure size 1440x576 with 2 Axes>"
      ]
     },
     "metadata": {
      "needs_background": "light"
     },
     "output_type": "display_data"
    }
   ],
   "source": [
    "fig, (ax1, ax2) = plt.subplots(1, 2, figsize=(20,8))\n",
    "\n",
    "ax1.set_title(\"Médias por modelo\")\n",
    "ax1.plot(metrics, dt_metrics_mean, 'g', label=\"Árvore de Decisão\")\n",
    "ax1.plot(metrics, knn_eucli_metrics_mean, 'b', label=\"K-nn com euclidiana\")\n",
    "ax1.plot(metrics, knn_mahal_metrics_mean, 'r', label=\"K-nn com mahalanobis\")\n",
    "ax1.legend()\n",
    "\n",
    "ax2.set_title(\"Médias de desvio padrão por modelo\")\n",
    "ax2.plot(metrics, dt_metrics_std, 'g', label=\"Árvore de Decisão\")\n",
    "ax2.plot(metrics, knn_eucli_metrics_std, 'b', label=\"K-nn com euclidiana\")\n",
    "ax2.plot(metrics, knn_mahal_metrics_std, 'r', label=\"K-nn com mahalanobis\")\n",
    "ax2.legend()"
   ]
  },
  {
   "cell_type": "code",
   "execution_count": null,
   "id": "214844b8",
   "metadata": {},
   "outputs": [],
   "source": []
  }
 ],
 "metadata": {
  "kernelspec": {
   "display_name": "Python 3 (ipykernel)",
   "language": "python",
   "name": "python3"
  },
  "language_info": {
   "codemirror_mode": {
    "name": "ipython",
    "version": 3
   },
   "file_extension": ".py",
   "mimetype": "text/x-python",
   "name": "python",
   "nbconvert_exporter": "python",
   "pygments_lexer": "ipython3",
   "version": "3.9.4"
  }
 },
 "nbformat": 4,
 "nbformat_minor": 5
}
