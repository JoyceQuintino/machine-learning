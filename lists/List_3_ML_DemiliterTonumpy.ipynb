{
  "cells": [
    {
      "cell_type": "code",
      "execution_count": 2,
      "id": "c6a8ec07",
      "metadata": {
        "id": "c6a8ec07"
      },
      "outputs": [],
      "source": [
        "import pandas as pd\n",
        "import numpy as np\n",
        "from abc import ABC\n",
        "from typing import Callable\n",
        "from sklearn.model_selection import train_test_split\n",
        "from sklearn.tree import DecisionTreeClassifier\n",
        "import math as ma\n",
        "import random\n",
        "import csv\n",
        "from collections import Counter\n",
        "import matplotlib.pyplot as plt"
      ]
    },
    {
      "cell_type": "markdown",
      "id": "8c612fba",
      "metadata": {
        "id": "8c612fba"
      },
      "source": [
        "### Métricas de erro"
      ]
    },
    {
      "cell_type": "code",
      "execution_count": null,
      "id": "e9379ec0",
      "metadata": {
        "id": "e9379ec0"
      },
      "outputs": [],
      "source": [
        "''''\n",
        "class EvaluationErrorMetrics:\n",
        "    \n",
        "    def rmse(y_real: np.ndarray, y_predicted: np.ndarray) -> float:\n",
        "        diff = (y_real - y_predicted) ** 2\n",
        "        result = np.sqrt(diff.mean())\n",
        "        return result\n",
        "    \n",
        "    def mae(y_real: np.ndarray, y_predicted: np.ndarray) -> float:\n",
        "        diff = (y_real - y_predicted)\n",
        "        result = np.abs(diff.mean())\n",
        "        return result\n",
        "    \n",
        "    def mre(y_real: np.ndarray, y_predicted: np.ndarray) -> float:\n",
        "        diff = (y_real - y_predicted)\n",
        "        result = np.abs(diff.mean())\n",
        "        return result''''"
      ]
    },
    {
      "cell_type": "markdown",
      "id": "27aebac1",
      "metadata": {
        "id": "27aebac1"
      },
      "source": [
        "### Métricas de avaliação"
      ]
    },
    {
      "cell_type": "code",
      "source": [
        "from google.colab import drive\n",
        "drive.mount('/content/drive')"
      ],
      "metadata": {
        "colab": {
          "base_uri": "https://localhost:8080/"
        },
        "id": "nk2_Tk_WB2Jz",
        "outputId": "3ff898f5-329c-4f2b-b647-941e77005e12"
      },
      "id": "nk2_Tk_WB2Jz",
      "execution_count": 1,
      "outputs": [
        {
          "output_type": "stream",
          "name": "stdout",
          "text": [
            "Mounted at /content/drive\n"
          ]
        }
      ]
    },
    {
      "cell_type": "code",
      "execution_count": 3,
      "id": "bcd24a48",
      "metadata": {
        "id": "bcd24a48"
      },
      "outputs": [],
      "source": [
        "class ClassificationMetrics:\n",
        "    \n",
        "    def accuracy(y_real: np.ndarray, y_predicted: np.ndarray) -> float:\n",
        "        result = ((y_real == y_predicted).sum() / y_real.shape[0])\n",
        "        return result \n",
        "    \n",
        "    def precision(y_real: np.ndarray, y_predicted: np.ndarray) -> float:\n",
        "        real = y_real.astype(bool)\n",
        "        pred = y_predicted.astype(bool)\n",
        "    \n",
        "        T = real == 1\n",
        "        F = ~T\n",
        "\n",
        "        TP = pred[T].sum()\n",
        "        FP = (~pred[F]).sum()\n",
        "\n",
        "        result = (TP / (TP + FP))\n",
        "        return result\n",
        "    \n",
        "    def recall(y_real: np.ndarray, y_predicted: np.ndarray) -> float:\n",
        "        real = y_real.astype(bool)\n",
        "        pred = y_predicted.astype(bool)\n",
        "        \n",
        "        T = real == True\n",
        "        TP = pred[T].sum()\n",
        "        FN = (~pred[T]).sum()\n",
        "        \n",
        "        result = (TP / (TP + FN))\n",
        "        return result\n",
        "    \n",
        "    def f1_score(y_real: np.ndarray, y_predicted: np.ndarray) -> float:\n",
        "        rec = ClassificationMetrics.recall(y_real, y_predicted)\n",
        "        prec = ClassificationMetrics.precision(y_real, y_predicted)\n",
        "        \n",
        "        result = (2 * (float(rec) * float(prec)) / (float(rec) + float(prec)))\n",
        "        return result"
      ]
    },
    {
      "cell_type": "markdown",
      "id": "685320fb",
      "metadata": {
        "id": "685320fb"
      },
      "source": [
        "### Normalização e transformação de dados"
      ]
    },
    {
      "cell_type": "code",
      "execution_count": 6,
      "id": "c1b5fdd5",
      "metadata": {
        "id": "c1b5fdd5"
      },
      "outputs": [],
      "source": [
        "class NormalizationData:\n",
        "    \n",
        "    def z_score(arr: np.ndarray):\n",
        "        mean = arr.mean()\n",
        "        std = arr.std()\n",
        "        out = (arr - mean) / std\n",
        "        return out\n",
        "    \n",
        "    def get_normalized(X, min, max):\n",
        "        return (X - min) / (max - min)\n"
      ]
    },
    {
      "cell_type": "code",
      "source": [
        "''''\n",
        "class EncoderData:\n",
        "    \n",
        "    def encode(count, label):\n",
        "        enco = np.zeros(count)\n",
        "        enco[int(label)] = 1\n",
        "        return enco\n",
        "    \n",
        "    def label_encoder(y): \n",
        "        count = int(y.max() + 1)\n",
        "        return np.array([EncoderData.encode(count, label) for label in y])\n",
        "    \n",
        "    def label_decoder(y):\n",
        "        return y.argmax(axis=1)''''"
      ],
      "metadata": {
        "id": "6vy9ThhwCawV"
      },
      "id": "6vy9ThhwCawV",
      "execution_count": null,
      "outputs": []
    },
    {
      "cell_type": "markdown",
      "id": "18c51a97",
      "metadata": {
        "id": "18c51a97"
      },
      "source": [
        "### Algoritmos K-Nearest Neighbors (KNN) e Árvore de Decisão"
      ]
    },
    {
      "cell_type": "code",
      "execution_count": null,
      "id": "21e982e9",
      "metadata": {
        "id": "21e982e9"
      },
      "outputs": [],
      "source": [
        "'''\n",
        "class MathDists():\n",
        "    def euclidianDist(x1, x2):\n",
        "        tam = len(x1) - 1\n",
        "        s = 0\n",
        "        for i in range(tam):\n",
        "            s += math.pow(x1[i] - x2[i], 2)\n",
        "        return math.sqrt(s)\n",
        "    \n",
        "    def mahalanobisDist(y=None, data=None, cov=None):\n",
        "        y_mu = y - np.mean(data)\n",
        "        if not cov:\n",
        "            cov = np.cov(data.values.T)\n",
        "        inv_covmat = np.linalg.inv(cov)\n",
        "        left = np.dot(y_mu, inv_covmat)\n",
        "        mahal = np.dot(letf, y_mu.T)\n",
        "        return mahal.diagonal()\n",
        "'''"
      ]
    },
    {
      "cell_type": "code",
      "execution_count": 7,
      "id": "d91c12e2",
      "metadata": {
        "id": "d91c12e2"
      },
      "outputs": [],
      "source": [
        "class KNN2():\n",
        "    def __init__(self, k=3):\n",
        "        self.k = k\n",
        "        \n",
        "    def fit(self, X, y):\n",
        "        self.X = X\n",
        "        self.y = y\n",
        "        self.X_min = X.min(axis=0)\n",
        "        self.X_max = X.max(axis=0)\n",
        "        self.X_norm = NormalizationData.get_normalized(X, self.X_min, self.X_max)\n",
        "        #self.X_norm = NormalizationData.z_score(x)\n",
        "        \n",
        "    def prediction(self, x):\n",
        "        x = x.reshape(1, -1)\n",
        "        dists = -2 * x @ self.X_norm.T + (x ** 2).sum(axis=1) + (self.X_norm ** 2).sum(axis=1)\n",
        "        labeled_dists = np.c_[ dists.reshape(-1, 1), self.y ]\n",
        "        ordered_dists = labeled_dists[np.argsort(labeled_dists[:, 0])]\n",
        "        neighbors = ordered_dists[:self.k,:]\n",
        "        neighbors_classes = neighbors[:, 1].flatten()\n",
        "        return Counter(neighbors_classes).most_common(1)[0][0]\n",
        "    \n",
        "    def predict(self, X):\n",
        "        #X_norm = NormalizationData.z_score(x)\n",
        "        X_norm = NormalizationData.get_normalized(X, self.X_min, self.X_max)\n",
        "        return np.apply_along_axis(self.prediction, 1, X_norm)"
      ]
    },
    {
      "cell_type": "code",
      "execution_count": null,
      "id": "4b37af20",
      "metadata": {
        "id": "4b37af20"
      },
      "outputs": [],
      "source": [
        "'''\n",
        "def distance(element,x):\n",
        "\n",
        "    dist = 0\n",
        "    for i in range(len(element)):\n",
        "        dist += (element[i] - x[i])**2\n",
        "    return math.sqrt(dist)\n",
        "'''"
      ]
    },
    {
      "cell_type": "code",
      "execution_count": null,
      "id": "a5805ce6",
      "metadata": {
        "id": "a5805ce6",
        "outputId": "659e565f-4450-4f1f-898b-5d64f4c7be27"
      },
      "outputs": [
        {
          "data": {
            "text/plain": [
              "\"\\nclass KNN():\\n    def __init__(self, k=3):\\n        self.k = k\\n        \\n    def fit(self, x, y):\\n        self.X = x\\n        self.y = y\\n        #self.X_norm = NormalizationData.z_score(X)\\n        self.X_min = X.min(axis=0)\\n        self.X_max = X.max(axis=0)\\n        self.X_norm = NormalizationData.get_normalized(X, self.X_min, self.X_max)\\n        \\n    def prediction(self, e):\\n        \\n        min_distance = float('inf')\\n        class_most_close = 0\\n        idx_most_close = 0\\n        y_verification = [True]*len(self.y)\\n        \\n        for i in range(np.shape(self.X)[0]):\\n            current_distance = distance(e,self.X[i])\\n            \\n            if current_distance < min_distance and y_verification[i]:\\n                min_distance = current_distance\\n                class_most_close = self.y[i]\\n                idx_most_close = i\\n                \\n        y_verification[idx_most_close] = False\\n        return class_most_close #, y_verification\\n    \\n    def predict(self, X):\\n        #X_norm = NormalizationData.z_score(x)\\n        X_norm = NormalizationData.get_normalized(X, self.X_min, self.X_max)\\n        return np.apply_along_axis(self.prediction, 1, X_norm)\\n\""
            ]
          },
          "execution_count": 6,
          "metadata": {},
          "output_type": "execute_result"
        }
      ],
      "source": [
        "'''\n",
        "class KNN():\n",
        "    def __init__(self, k=3):\n",
        "        self.k = k\n",
        "        \n",
        "    def fit(self, x, y):\n",
        "        self.X = x\n",
        "        self.y = y\n",
        "        #self.X_norm = NormalizationData.z_score(X)\n",
        "        self.X_min = X.min(axis=0)\n",
        "        self.X_max = X.max(axis=0)\n",
        "        self.X_norm = NormalizationData.get_normalized(X, self.X_min, self.X_max)\n",
        "        \n",
        "    def prediction(self, e):\n",
        "        \n",
        "        min_distance = float('inf')\n",
        "        class_most_close = 0\n",
        "        idx_most_close = 0\n",
        "        y_verification = [True]*len(self.y)\n",
        "        \n",
        "        for i in range(np.shape(self.X)[0]):\n",
        "            current_distance = distance(e,self.X[i])\n",
        "            \n",
        "            if current_distance < min_distance and y_verification[i]:\n",
        "                min_distance = current_distance\n",
        "                class_most_close = self.y[i]\n",
        "                idx_most_close = i\n",
        "                \n",
        "        y_verification[idx_most_close] = False\n",
        "        return class_most_close #, y_verification\n",
        "    \n",
        "    def predict(self, X):\n",
        "        #X_norm = NormalizationData.z_score(x)\n",
        "        X_norm = NormalizationData.get_normalized(X, self.X_min, self.X_max)\n",
        "        return np.apply_along_axis(self.prediction, 1, X_norm)\n",
        "'''"
      ]
    },
    {
      "cell_type": "markdown",
      "id": "1e948dc5",
      "metadata": {
        "id": "1e948dc5"
      },
      "source": [
        "### Importação e separação de dados"
      ]
    },
    {
      "cell_type": "code",
      "execution_count": 43,
      "id": "d02be319",
      "metadata": {
        "id": "d02be319"
      },
      "outputs": [],
      "source": [
        "df = pd.read_csv('/content/drive/MyDrive/1data/kc2.csv', delimiter=\",\", header=None) # erro no delimitador. Em pandas\n",
        "new_df = df.drop_duplicates()"
      ]
    },
    {
      "cell_type": "code",
      "execution_count": 30,
      "id": "cd08476d",
      "metadata": {
        "colab": {
          "base_uri": "https://localhost:8080/",
          "height": 488
        },
        "id": "cd08476d",
        "outputId": "3da5a432-56cd-49f4-c18a-d3903c0345cf"
      },
      "outputs": [
        {
          "output_type": "execute_result",
          "data": {
            "text/plain": [
              "        0     1     2     3       4        5     6       7       8   \\\n",
              "0      1.1   1.4   1.4   1.4     1.3     1.30  1.30    1.30    1.30   \n",
              "1      1.0   1.0   1.0   1.0     1.0     1.00  1.00    1.00    1.00   \n",
              "2    415.0  59.0  50.0  51.0  1159.0  8411.31  0.01  103.53   81.24   \n",
              "3    230.0  33.0  10.0  16.0   575.0  3732.82  0.03   39.82   93.74   \n",
              "4    175.0  26.0  12.0  13.0   500.0  3123.96  0.03   29.48  105.96   \n",
              "..     ...   ...   ...   ...     ...      ...   ...     ...     ...   \n",
              "516    6.0   2.0   1.0   1.0    15.0    53.77  0.40    2.50   21.51   \n",
              "517    4.0   1.0   1.0   1.0     5.0    11.61  0.50    2.00    5.80   \n",
              "518    4.0   1.0   1.0   1.0     4.0     8.00  0.67    1.50    5.33   \n",
              "520    4.0   1.0   1.0   1.0     5.0    11.61  0.67    1.50    7.74   \n",
              "521    3.0   1.0   1.0   1.0     1.0     0.00  0.00    0.00    0.00   \n",
              "\n",
              "            9   ...     12    13    14    15    16     17     18     19  \\\n",
              "0         1.30  ...    2.0   2.0   2.0   2.0   1.2    1.2    1.2    1.2   \n",
              "1         1.00  ...    1.0   1.0   1.0   1.0   1.0    1.0    1.0    1.0   \n",
              "2    870848.58  ...  359.0  35.0   9.0  10.0  47.0  106.0  692.0  467.0   \n",
              "3    148644.06  ...  174.0  15.0  34.0   5.0  23.0   67.0  343.0  232.0   \n",
              "4     92103.07  ...  142.0   7.0  19.0   4.0  18.0   58.0  310.0  190.0   \n",
              "..         ...  ...    ...   ...   ...   ...   ...    ...    ...    ...   \n",
              "516     134.44  ...    2.0   0.0   2.0   0.0   5.0    7.0    8.0    7.0   \n",
              "517      23.22  ...    2.0   0.0   0.0   0.0   4.0    1.0    4.0    1.0   \n",
              "518      12.00  ...    2.0   0.0   0.0   0.0   3.0    1.0    3.0    1.0   \n",
              "520      17.41  ...    2.0   0.0   0.0   0.0   3.0    2.0    3.0    2.0   \n",
              "521       0.00  ...    1.0   0.0   0.0   0.0   1.0    0.0    1.0    0.0   \n",
              "\n",
              "        20   21  \n",
              "0      1.4  0.0  \n",
              "1      1.0  1.0  \n",
              "2    106.0  1.0  \n",
              "3     65.0  1.0  \n",
              "4     51.0  1.0  \n",
              "..     ...  ...  \n",
              "516    3.0  1.0  \n",
              "517    1.0  1.0  \n",
              "518    1.0  1.0  \n",
              "520    1.0  1.0  \n",
              "521    1.0  1.0  \n",
              "\n",
              "[375 rows x 22 columns]"
            ],
            "text/html": [
              "\n",
              "  <div id=\"df-6aa755c0-b351-4206-bed9-d92bf9c6fec6\">\n",
              "    <div class=\"colab-df-container\">\n",
              "      <div>\n",
              "<style scoped>\n",
              "    .dataframe tbody tr th:only-of-type {\n",
              "        vertical-align: middle;\n",
              "    }\n",
              "\n",
              "    .dataframe tbody tr th {\n",
              "        vertical-align: top;\n",
              "    }\n",
              "\n",
              "    .dataframe thead th {\n",
              "        text-align: right;\n",
              "    }\n",
              "</style>\n",
              "<table border=\"1\" class=\"dataframe\">\n",
              "  <thead>\n",
              "    <tr style=\"text-align: right;\">\n",
              "      <th></th>\n",
              "      <th>0</th>\n",
              "      <th>1</th>\n",
              "      <th>2</th>\n",
              "      <th>3</th>\n",
              "      <th>4</th>\n",
              "      <th>5</th>\n",
              "      <th>6</th>\n",
              "      <th>7</th>\n",
              "      <th>8</th>\n",
              "      <th>9</th>\n",
              "      <th>...</th>\n",
              "      <th>12</th>\n",
              "      <th>13</th>\n",
              "      <th>14</th>\n",
              "      <th>15</th>\n",
              "      <th>16</th>\n",
              "      <th>17</th>\n",
              "      <th>18</th>\n",
              "      <th>19</th>\n",
              "      <th>20</th>\n",
              "      <th>21</th>\n",
              "    </tr>\n",
              "  </thead>\n",
              "  <tbody>\n",
              "    <tr>\n",
              "      <th>0</th>\n",
              "      <td>1.1</td>\n",
              "      <td>1.4</td>\n",
              "      <td>1.4</td>\n",
              "      <td>1.4</td>\n",
              "      <td>1.3</td>\n",
              "      <td>1.30</td>\n",
              "      <td>1.30</td>\n",
              "      <td>1.30</td>\n",
              "      <td>1.30</td>\n",
              "      <td>1.30</td>\n",
              "      <td>...</td>\n",
              "      <td>2.0</td>\n",
              "      <td>2.0</td>\n",
              "      <td>2.0</td>\n",
              "      <td>2.0</td>\n",
              "      <td>1.2</td>\n",
              "      <td>1.2</td>\n",
              "      <td>1.2</td>\n",
              "      <td>1.2</td>\n",
              "      <td>1.4</td>\n",
              "      <td>0.0</td>\n",
              "    </tr>\n",
              "    <tr>\n",
              "      <th>1</th>\n",
              "      <td>1.0</td>\n",
              "      <td>1.0</td>\n",
              "      <td>1.0</td>\n",
              "      <td>1.0</td>\n",
              "      <td>1.0</td>\n",
              "      <td>1.00</td>\n",
              "      <td>1.00</td>\n",
              "      <td>1.00</td>\n",
              "      <td>1.00</td>\n",
              "      <td>1.00</td>\n",
              "      <td>...</td>\n",
              "      <td>1.0</td>\n",
              "      <td>1.0</td>\n",
              "      <td>1.0</td>\n",
              "      <td>1.0</td>\n",
              "      <td>1.0</td>\n",
              "      <td>1.0</td>\n",
              "      <td>1.0</td>\n",
              "      <td>1.0</td>\n",
              "      <td>1.0</td>\n",
              "      <td>1.0</td>\n",
              "    </tr>\n",
              "    <tr>\n",
              "      <th>2</th>\n",
              "      <td>415.0</td>\n",
              "      <td>59.0</td>\n",
              "      <td>50.0</td>\n",
              "      <td>51.0</td>\n",
              "      <td>1159.0</td>\n",
              "      <td>8411.31</td>\n",
              "      <td>0.01</td>\n",
              "      <td>103.53</td>\n",
              "      <td>81.24</td>\n",
              "      <td>870848.58</td>\n",
              "      <td>...</td>\n",
              "      <td>359.0</td>\n",
              "      <td>35.0</td>\n",
              "      <td>9.0</td>\n",
              "      <td>10.0</td>\n",
              "      <td>47.0</td>\n",
              "      <td>106.0</td>\n",
              "      <td>692.0</td>\n",
              "      <td>467.0</td>\n",
              "      <td>106.0</td>\n",
              "      <td>1.0</td>\n",
              "    </tr>\n",
              "    <tr>\n",
              "      <th>3</th>\n",
              "      <td>230.0</td>\n",
              "      <td>33.0</td>\n",
              "      <td>10.0</td>\n",
              "      <td>16.0</td>\n",
              "      <td>575.0</td>\n",
              "      <td>3732.82</td>\n",
              "      <td>0.03</td>\n",
              "      <td>39.82</td>\n",
              "      <td>93.74</td>\n",
              "      <td>148644.06</td>\n",
              "      <td>...</td>\n",
              "      <td>174.0</td>\n",
              "      <td>15.0</td>\n",
              "      <td>34.0</td>\n",
              "      <td>5.0</td>\n",
              "      <td>23.0</td>\n",
              "      <td>67.0</td>\n",
              "      <td>343.0</td>\n",
              "      <td>232.0</td>\n",
              "      <td>65.0</td>\n",
              "      <td>1.0</td>\n",
              "    </tr>\n",
              "    <tr>\n",
              "      <th>4</th>\n",
              "      <td>175.0</td>\n",
              "      <td>26.0</td>\n",
              "      <td>12.0</td>\n",
              "      <td>13.0</td>\n",
              "      <td>500.0</td>\n",
              "      <td>3123.96</td>\n",
              "      <td>0.03</td>\n",
              "      <td>29.48</td>\n",
              "      <td>105.96</td>\n",
              "      <td>92103.07</td>\n",
              "      <td>...</td>\n",
              "      <td>142.0</td>\n",
              "      <td>7.0</td>\n",
              "      <td>19.0</td>\n",
              "      <td>4.0</td>\n",
              "      <td>18.0</td>\n",
              "      <td>58.0</td>\n",
              "      <td>310.0</td>\n",
              "      <td>190.0</td>\n",
              "      <td>51.0</td>\n",
              "      <td>1.0</td>\n",
              "    </tr>\n",
              "    <tr>\n",
              "      <th>...</th>\n",
              "      <td>...</td>\n",
              "      <td>...</td>\n",
              "      <td>...</td>\n",
              "      <td>...</td>\n",
              "      <td>...</td>\n",
              "      <td>...</td>\n",
              "      <td>...</td>\n",
              "      <td>...</td>\n",
              "      <td>...</td>\n",
              "      <td>...</td>\n",
              "      <td>...</td>\n",
              "      <td>...</td>\n",
              "      <td>...</td>\n",
              "      <td>...</td>\n",
              "      <td>...</td>\n",
              "      <td>...</td>\n",
              "      <td>...</td>\n",
              "      <td>...</td>\n",
              "      <td>...</td>\n",
              "      <td>...</td>\n",
              "      <td>...</td>\n",
              "    </tr>\n",
              "    <tr>\n",
              "      <th>516</th>\n",
              "      <td>6.0</td>\n",
              "      <td>2.0</td>\n",
              "      <td>1.0</td>\n",
              "      <td>1.0</td>\n",
              "      <td>15.0</td>\n",
              "      <td>53.77</td>\n",
              "      <td>0.40</td>\n",
              "      <td>2.50</td>\n",
              "      <td>21.51</td>\n",
              "      <td>134.44</td>\n",
              "      <td>...</td>\n",
              "      <td>2.0</td>\n",
              "      <td>0.0</td>\n",
              "      <td>2.0</td>\n",
              "      <td>0.0</td>\n",
              "      <td>5.0</td>\n",
              "      <td>7.0</td>\n",
              "      <td>8.0</td>\n",
              "      <td>7.0</td>\n",
              "      <td>3.0</td>\n",
              "      <td>1.0</td>\n",
              "    </tr>\n",
              "    <tr>\n",
              "      <th>517</th>\n",
              "      <td>4.0</td>\n",
              "      <td>1.0</td>\n",
              "      <td>1.0</td>\n",
              "      <td>1.0</td>\n",
              "      <td>5.0</td>\n",
              "      <td>11.61</td>\n",
              "      <td>0.50</td>\n",
              "      <td>2.00</td>\n",
              "      <td>5.80</td>\n",
              "      <td>23.22</td>\n",
              "      <td>...</td>\n",
              "      <td>2.0</td>\n",
              "      <td>0.0</td>\n",
              "      <td>0.0</td>\n",
              "      <td>0.0</td>\n",
              "      <td>4.0</td>\n",
              "      <td>1.0</td>\n",
              "      <td>4.0</td>\n",
              "      <td>1.0</td>\n",
              "      <td>1.0</td>\n",
              "      <td>1.0</td>\n",
              "    </tr>\n",
              "    <tr>\n",
              "      <th>518</th>\n",
              "      <td>4.0</td>\n",
              "      <td>1.0</td>\n",
              "      <td>1.0</td>\n",
              "      <td>1.0</td>\n",
              "      <td>4.0</td>\n",
              "      <td>8.00</td>\n",
              "      <td>0.67</td>\n",
              "      <td>1.50</td>\n",
              "      <td>5.33</td>\n",
              "      <td>12.00</td>\n",
              "      <td>...</td>\n",
              "      <td>2.0</td>\n",
              "      <td>0.0</td>\n",
              "      <td>0.0</td>\n",
              "      <td>0.0</td>\n",
              "      <td>3.0</td>\n",
              "      <td>1.0</td>\n",
              "      <td>3.0</td>\n",
              "      <td>1.0</td>\n",
              "      <td>1.0</td>\n",
              "      <td>1.0</td>\n",
              "    </tr>\n",
              "    <tr>\n",
              "      <th>520</th>\n",
              "      <td>4.0</td>\n",
              "      <td>1.0</td>\n",
              "      <td>1.0</td>\n",
              "      <td>1.0</td>\n",
              "      <td>5.0</td>\n",
              "      <td>11.61</td>\n",
              "      <td>0.67</td>\n",
              "      <td>1.50</td>\n",
              "      <td>7.74</td>\n",
              "      <td>17.41</td>\n",
              "      <td>...</td>\n",
              "      <td>2.0</td>\n",
              "      <td>0.0</td>\n",
              "      <td>0.0</td>\n",
              "      <td>0.0</td>\n",
              "      <td>3.0</td>\n",
              "      <td>2.0</td>\n",
              "      <td>3.0</td>\n",
              "      <td>2.0</td>\n",
              "      <td>1.0</td>\n",
              "      <td>1.0</td>\n",
              "    </tr>\n",
              "    <tr>\n",
              "      <th>521</th>\n",
              "      <td>3.0</td>\n",
              "      <td>1.0</td>\n",
              "      <td>1.0</td>\n",
              "      <td>1.0</td>\n",
              "      <td>1.0</td>\n",
              "      <td>0.00</td>\n",
              "      <td>0.00</td>\n",
              "      <td>0.00</td>\n",
              "      <td>0.00</td>\n",
              "      <td>0.00</td>\n",
              "      <td>...</td>\n",
              "      <td>1.0</td>\n",
              "      <td>0.0</td>\n",
              "      <td>0.0</td>\n",
              "      <td>0.0</td>\n",
              "      <td>1.0</td>\n",
              "      <td>0.0</td>\n",
              "      <td>1.0</td>\n",
              "      <td>0.0</td>\n",
              "      <td>1.0</td>\n",
              "      <td>1.0</td>\n",
              "    </tr>\n",
              "  </tbody>\n",
              "</table>\n",
              "<p>375 rows × 22 columns</p>\n",
              "</div>\n",
              "      <button class=\"colab-df-convert\" onclick=\"convertToInteractive('df-6aa755c0-b351-4206-bed9-d92bf9c6fec6')\"\n",
              "              title=\"Convert this dataframe to an interactive table.\"\n",
              "              style=\"display:none;\">\n",
              "        \n",
              "  <svg xmlns=\"http://www.w3.org/2000/svg\" height=\"24px\"viewBox=\"0 0 24 24\"\n",
              "       width=\"24px\">\n",
              "    <path d=\"M0 0h24v24H0V0z\" fill=\"none\"/>\n",
              "    <path d=\"M18.56 5.44l.94 2.06.94-2.06 2.06-.94-2.06-.94-.94-2.06-.94 2.06-2.06.94zm-11 1L8.5 8.5l.94-2.06 2.06-.94-2.06-.94L8.5 2.5l-.94 2.06-2.06.94zm10 10l.94 2.06.94-2.06 2.06-.94-2.06-.94-.94-2.06-.94 2.06-2.06.94z\"/><path d=\"M17.41 7.96l-1.37-1.37c-.4-.4-.92-.59-1.43-.59-.52 0-1.04.2-1.43.59L10.3 9.45l-7.72 7.72c-.78.78-.78 2.05 0 2.83L4 21.41c.39.39.9.59 1.41.59.51 0 1.02-.2 1.41-.59l7.78-7.78 2.81-2.81c.8-.78.8-2.07 0-2.86zM5.41 20L4 18.59l7.72-7.72 1.47 1.35L5.41 20z\"/>\n",
              "  </svg>\n",
              "      </button>\n",
              "      \n",
              "  <style>\n",
              "    .colab-df-container {\n",
              "      display:flex;\n",
              "      flex-wrap:wrap;\n",
              "      gap: 12px;\n",
              "    }\n",
              "\n",
              "    .colab-df-convert {\n",
              "      background-color: #E8F0FE;\n",
              "      border: none;\n",
              "      border-radius: 50%;\n",
              "      cursor: pointer;\n",
              "      display: none;\n",
              "      fill: #1967D2;\n",
              "      height: 32px;\n",
              "      padding: 0 0 0 0;\n",
              "      width: 32px;\n",
              "    }\n",
              "\n",
              "    .colab-df-convert:hover {\n",
              "      background-color: #E2EBFA;\n",
              "      box-shadow: 0px 1px 2px rgba(60, 64, 67, 0.3), 0px 1px 3px 1px rgba(60, 64, 67, 0.15);\n",
              "      fill: #174EA6;\n",
              "    }\n",
              "\n",
              "    [theme=dark] .colab-df-convert {\n",
              "      background-color: #3B4455;\n",
              "      fill: #D2E3FC;\n",
              "    }\n",
              "\n",
              "    [theme=dark] .colab-df-convert:hover {\n",
              "      background-color: #434B5C;\n",
              "      box-shadow: 0px 1px 3px 1px rgba(0, 0, 0, 0.15);\n",
              "      filter: drop-shadow(0px 1px 2px rgba(0, 0, 0, 0.3));\n",
              "      fill: #FFFFFF;\n",
              "    }\n",
              "  </style>\n",
              "\n",
              "      <script>\n",
              "        const buttonEl =\n",
              "          document.querySelector('#df-6aa755c0-b351-4206-bed9-d92bf9c6fec6 button.colab-df-convert');\n",
              "        buttonEl.style.display =\n",
              "          google.colab.kernel.accessAllowed ? 'block' : 'none';\n",
              "\n",
              "        async function convertToInteractive(key) {\n",
              "          const element = document.querySelector('#df-6aa755c0-b351-4206-bed9-d92bf9c6fec6');\n",
              "          const dataTable =\n",
              "            await google.colab.kernel.invokeFunction('convertToInteractive',\n",
              "                                                     [key], {});\n",
              "          if (!dataTable) return;\n",
              "\n",
              "          const docLinkHtml = 'Like what you see? Visit the ' +\n",
              "            '<a target=\"_blank\" href=https://colab.research.google.com/notebooks/data_table.ipynb>data table notebook</a>'\n",
              "            + ' to learn more about interactive tables.';\n",
              "          element.innerHTML = '';\n",
              "          dataTable['output_type'] = 'display_data';\n",
              "          await google.colab.output.renderOutput(dataTable, element);\n",
              "          const docLink = document.createElement('div');\n",
              "          docLink.innerHTML = docLinkHtml;\n",
              "          element.appendChild(docLink);\n",
              "        }\n",
              "      </script>\n",
              "    </div>\n",
              "  </div>\n",
              "  "
            ]
          },
          "metadata": {},
          "execution_count": 30
        }
      ],
      "source": [
        "new_df"
      ]
    },
    {
      "cell_type": "code",
      "execution_count": 50,
      "id": "82e587d1",
      "metadata": {
        "id": "82e587d1"
      },
      "outputs": [],
      "source": [
        "X = new_df.iloc[:,:-1].to_numpy() #converter para numpy\n",
        "y = new_df.iloc[:,-1].to_numpy() #converter para numpy"
      ]
    },
    {
      "cell_type": "code",
      "source": [
        ""
      ],
      "metadata": {
        "id": "UmgLTHfxFE-E"
      },
      "id": "UmgLTHfxFE-E",
      "execution_count": null,
      "outputs": []
    },
    {
      "cell_type": "code",
      "execution_count": 48,
      "id": "3a93c07d",
      "metadata": {
        "id": "3a93c07d"
      },
      "outputs": [],
      "source": [
        "X_train, X_test, y_train, y_test = train_test_split(X, y, test_size=0.3, random_state=20, stratify=y)"
      ]
    },
    {
      "cell_type": "markdown",
      "id": "24a43ab4",
      "metadata": {
        "id": "24a43ab4"
      },
      "source": [
        "### Treinamento do modelos"
      ]
    },
    {
      "cell_type": "markdown",
      "id": "f6693748",
      "metadata": {
        "id": "f6693748"
      },
      "source": [
        "#### KNN"
      ]
    },
    {
      "cell_type": "code",
      "execution_count": 49,
      "id": "48cfa54e",
      "metadata": {
        "id": "48cfa54e"
      },
      "outputs": [],
      "source": [
        "knn = KNN2(k = 5)\n",
        "knn.fit(X_train, y_train)\n",
        "prediction = knn.predict(X_test)\n",
        "#accuracy = ClassificationMetrics.accuracy(y_test, prediction)\n",
        "#precision = ClassificationMetrics.precision(y_test, prediction)\n",
        "#recall = ClassificationMetrics.recall(y_test, prediction)\n",
        "#f1_score = ClassificationMetrics.f1_score(y_test, prediction)"
      ]
    },
    {
      "cell_type": "code",
      "execution_count": 34,
      "id": "91e60298",
      "metadata": {
        "id": "91e60298"
      },
      "outputs": [],
      "source": [
        "accuracy = ClassificationMetrics.accuracy(y_test, prediction)\n",
        "precision = ClassificationMetrics.precision(y_test, prediction)\n",
        "recall = ClassificationMetrics.recall(y_test, prediction)\n",
        "f1_score = ClassificationMetrics.f1_score(y_test, prediction)"
      ]
    },
    {
      "cell_type": "code",
      "execution_count": 35,
      "id": "03d8cf1a",
      "metadata": {
        "colab": {
          "base_uri": "https://localhost:8080/"
        },
        "id": "03d8cf1a",
        "outputId": "6812b424-44ba-443d-8c1e-60cc8c2d4ecd"
      },
      "outputs": [
        {
          "output_type": "stream",
          "name": "stdout",
          "text": [
            "------ KNN Metrics Results ------\n",
            "Accuracy Model:  0.7345132743362832\n",
            "Precision Model:  0.20481927710843373\n",
            "Recall Model:  0.53125\n",
            "F1_score Model:  0.29565217391304344\n"
          ]
        }
      ],
      "source": [
        "print(\"------ KNN Metrics Results ------\")\n",
        "print(\"Accuracy Model: \", accuracy)\n",
        "print(\"Precision Model: \", precision)\n",
        "print(\"Recall Model: \", recall)\n",
        "print(\"F1_score Model: \", f1_score)"
      ]
    },
    {
      "cell_type": "markdown",
      "id": "96139e93",
      "metadata": {
        "id": "96139e93"
      },
      "source": [
        "#### Árvore de Decisão"
      ]
    },
    {
      "cell_type": "code",
      "execution_count": 36,
      "id": "ab68b3f2",
      "metadata": {
        "id": "ab68b3f2"
      },
      "outputs": [],
      "source": [
        "dt = DecisionTreeClassifier(criterion='entropy')\n",
        "dt = dt.fit(X_train, y_train)\n",
        "prediction = dt.predict(X_test)\n",
        "accuracy = ClassificationMetrics.accuracy(y_test, prediction)\n",
        "precision = ClassificationMetrics.precision(y_test, prediction)\n",
        "recall = ClassificationMetrics.recall(y_test, prediction)\n",
        "f1_score = ClassificationMetrics.f1_score(y_test, prediction)"
      ]
    },
    {
      "cell_type": "code",
      "execution_count": 37,
      "id": "9f6bf288",
      "metadata": {
        "colab": {
          "base_uri": "https://localhost:8080/"
        },
        "id": "9f6bf288",
        "outputId": "f3788b81-67a0-4129-ad3f-112a95e721da"
      },
      "outputs": [
        {
          "output_type": "stream",
          "name": "stdout",
          "text": [
            "------ Decision Tree Metrics Results ------\n",
            "Accuracy Model:  0.7168141592920354\n",
            "Precision Model:  0.19753086419753085\n",
            "Recall Model:  0.5\n",
            "F1_score Model:  0.2831858407079646\n"
          ]
        }
      ],
      "source": [
        "print(\"------ Decision Tree Metrics Results ------\")\n",
        "print(\"Accuracy Model: \", accuracy)\n",
        "print(\"Precision Model: \", precision)\n",
        "print(\"Recall Model: \", recall)\n",
        "print(\"F1_score Model: \", f1_score)"
      ]
    },
    {
      "cell_type": "markdown",
      "id": "7492396f",
      "metadata": {
        "id": "7492396f"
      },
      "source": [
        "### Avaliação dos modelos com K folds"
      ]
    },
    {
      "cell_type": "code",
      "execution_count": 38,
      "id": "ffc44616",
      "metadata": {
        "id": "ffc44616"
      },
      "outputs": [],
      "source": [
        "class Kfolds():\n",
        "    \n",
        "    def __init__(self, folds = 10):\n",
        "        self.folds = folds\n",
        "        \n",
        "    def fold(self):\n",
        "        \n",
        "        np.random.shuffle(self.data)\n",
        "        n = self.data.shape[0]\n",
        "        self.n_folds = []\n",
        "        folds_size = ma.ceil(n / self.folds)     \n",
        "        for i in range(0, n, folds_size):\n",
        "            end = i + folds_size\n",
        "            end = n if end > n else end\n",
        "            fold = self.data[i: end,:]\n",
        "            self.n_folds.append(fold)\n",
        "            \n",
        "    def predict(self, index):\n",
        "        folds = self.n_folds[:]\n",
        "        \n",
        "        test_fold = folds.pop(index)\n",
        "        train_fold = np.vstack(folds)\n",
        "        \n",
        "        x_train = train_fold[:, :-1]\n",
        "        y_train = train_fold[:, -1]\n",
        "        x_test = test_fold[:, :-1]\n",
        "        y_test = test_fold[:, -1]\n",
        "        \n",
        "        self.model.fit(x_train, y_train)\n",
        "        pred = self.model.predict(x_test)\n",
        "        \n",
        "        return pred, y_test\n",
        "    \n",
        "    def folds_results_metrics(self):\n",
        "        \n",
        "        self.accuracies = []\n",
        "        self.precisions = []\n",
        "        self.recalls = []\n",
        "        self.f1_score = []\n",
        "        \n",
        "        for i in range(self.folds):\n",
        "            pred, y_test = self.predict(i)\n",
        "            accuracy = ClassificationMetrics.accuracy(y_test, pred)\n",
        "            precision = ClassificationMetrics.precision(y_test, pred)\n",
        "            recall = ClassificationMetrics.recall(y_test, pred)\n",
        "            f1_score = ClassificationMetrics.f1_score(y_test, pred)\n",
        "            \n",
        "            self.accuracies.append(accuracy)\n",
        "            self.precisions.append(precision)\n",
        "            self.recalls.append(recall)\n",
        "            self.f1_score.append(f1_score)\n",
        "            \n",
        "        self.accurancy_mean = np.mean(self.accuracies)\n",
        "        self.precision_mean = np.mean(self.precisions)\n",
        "        self.recall_mean = np.mean(self.recalls)\n",
        "        self.f1_score_mean = np.mean(self.f1_score)\n",
        "        \n",
        "        self.accurancy_std = np.std(self.accuracies)\n",
        "        self.precision_std = np.std(self.precisions)\n",
        "        self.recall_std = np.std(self.recalls)\n",
        "        self.f1_score_std = np.std(self.f1_score)\n",
        "        \n",
        "    def fit_folds(self, model, x, y):\n",
        "        self.data = np.c_[ x, y ]\n",
        "        self.model = model\n",
        "        self.fold()\n",
        "        self.folds_results_metrics()"
      ]
    },
    {
      "cell_type": "code",
      "execution_count": 39,
      "id": "fd9b39b0",
      "metadata": {
        "id": "fd9b39b0"
      },
      "outputs": [],
      "source": [
        "models = {\n",
        "    'Árvore de Decisão' : dt\n",
        "}\n",
        "models_names = list(models.keys())"
      ]
    },
    {
      "cell_type": "code",
      "execution_count": 40,
      "id": "4f24cfc6",
      "metadata": {
        "id": "4f24cfc6"
      },
      "outputs": [],
      "source": [
        "accuracies_means = []\n",
        "precisions_means = []\n",
        "f1_score_means = []\n",
        "recalls_means = []\n",
        "\n",
        "accuracies_stds = []\n",
        "precisions_stds = []\n",
        "f1_score_stds = []\n",
        "recalls_stds = []\n",
        "\n",
        "for model_name, model in models.items():\n",
        "    kfolds = Kfolds()\n",
        "    kfolds.fit_folds(model, X, y)\n",
        "\n",
        "    accuracies_means.append(kfolds.accurancy_mean)\n",
        "    precisions_means.append(kfolds.precision_mean)\n",
        "    recalls_means.append(kfolds.recall_mean)\n",
        "    f1_score_means.append(kfolds.f1_score_mean)\n",
        "\n",
        "    accuracies_stds.append(kfolds.accurancy_std)\n",
        "    precisions_stds.append(kfolds.precision_std)\n",
        "    recalls_stds.append(kfolds.recall_std)\n",
        "    f1_score_stds.append(kfolds.f1_score_std)"
      ]
    },
    {
      "cell_type": "markdown",
      "id": "eceb1bbf",
      "metadata": {
        "id": "eceb1bbf"
      },
      "source": [
        "### Médias das métricas "
      ]
    },
    {
      "cell_type": "code",
      "execution_count": 41,
      "id": "a47af5a6",
      "metadata": {
        "id": "a47af5a6"
      },
      "outputs": [],
      "source": [
        "metrics = [\"Acurácia\", \"Precisão\", \"Revocação\", \"F1-Score\"]\n",
        "dt_metrics_mean = np.array([accuracies_means, precisions_means, recalls_means, f1_score_means]).T\n",
        "dt_metrics_std = np.array([accuracies_stds, precisions_stds, recalls_stds, f1_score_stds]).T"
      ]
    },
    {
      "cell_type": "markdown",
      "id": "e825b92d",
      "metadata": {
        "id": "e825b92d"
      },
      "source": [
        "### Visualização dos resultados das métricas por modelo"
      ]
    },
    {
      "cell_type": "code",
      "execution_count": 42,
      "id": "b29e7f80",
      "metadata": {
        "scrolled": false,
        "colab": {
          "base_uri": "https://localhost:8080/",
          "height": 384
        },
        "id": "b29e7f80",
        "outputId": "03c8ad97-5874-4c9f-e48f-ccd6c6c814c5"
      },
      "outputs": [
        {
          "output_type": "execute_result",
          "data": {
            "text/plain": [
              "<matplotlib.legend.Legend at 0x7fb9352b0690>"
            ]
          },
          "metadata": {},
          "execution_count": 42
        },
        {
          "output_type": "display_data",
          "data": {
            "text/plain": [
              "<Figure size 1440x576 with 2 Axes>"
            ],
            "image/png": "[encoded data removed]"
          },
          "metadata": {
            "needs_background": "light"
          }
        }
      ],
      "source": [
        "fig, (ax1, ax2) = plt.subplots(1, 2, figsize=(20,8))\n",
        "\n",
        "ax1.set_title(\"Médias por modelo\")\n",
        "ax1.plot(metrics, dt_metrics_mean[0], 'g', label=\"Árvore de Decisão\")\n",
        "#ax1.plot(metrics, gda_metrics_mean, 'b', label=\"Discriminante Gaussiano\")\n",
        "#ax1.plot(metrics, gnb_metrics_mean, 'r', label=\"Naive Bayes Gaussiano\")\n",
        "ax1.legend()\n",
        "\n",
        "ax2.set_title(\"Médias de desvio padrão por modelo\")\n",
        "ax2.plot(metrics, dt_metrics_std[0], 'g', label=\"Árvore de Decisão\")\n",
        "#ax2.plot(metrics, gda_metrics_std, 'b', label=\"Discriminante Gaussiano\")\n",
        "#ax2.plot(metrics, gnb_metrics_std, 'r', label=\"Naive Bayes Gaussiano\")\n",
        "ax2.legend()"
      ]
    },
    {
      "cell_type": "code",
      "execution_count": null,
      "id": "214844b8",
      "metadata": {
        "id": "214844b8"
      },
      "outputs": [],
      "source": [
        ""
      ]
    }
  ],
  "metadata": {
    "kernelspec": {
      "display_name": "Python 3 (ipykernel)",
      "language": "python",
      "name": "python3"
    },
    "language_info": {
      "codemirror_mode": {
        "name": "ipython",
        "version": 3
      },
      "file_extension": ".py",
      "mimetype": "text/x-python",
      "name": "python",
      "nbconvert_exporter": "python",
      "pygments_lexer": "ipython3",
      "version": "3.9.4"
    },
    "colab": {
      "name": "Lista_3_ML_Joyce_QuintinoDemiliterTonumpy.ipynb",
      "provenance": []
    }
  },
  "nbformat": 4,
  "nbformat_minor": 5
}