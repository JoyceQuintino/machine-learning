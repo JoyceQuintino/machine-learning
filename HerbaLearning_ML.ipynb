{
 "cells": [
  {
   "cell_type": "code",
   "execution_count": 63,
   "id": "661e3c10",
   "metadata": {},
   "outputs": [],
   "source": [
    "import numpy as np\n",
    "import pandas as pd\n",
    "import pickle\n",
    "from sklearn.model_selection import train_test_split\n",
    "from sklearn.preprocessing import LabelEncoder\n",
    "from sklearn.cluster import KMeans\n",
    "from sklearn.ensemble import RandomForestClassifier\n",
    "from sklearn.neighbors import KNeighborsClassifier\n",
    "from sklearn.linear_model import LogisticRegression\n",
    "from xgboost import XGBClassifier\n",
    "from sklearn.svm import SVC\n",
    "from sklearn.metrics import accuracy_score, precision_score, recall_score, f1_score\n",
    "from matplotlib import pyplot as plt\n",
    "from joblib import Parallel, delayed\n",
    "from PIL import Image\n",
    "from PIL import ImageOps\n",
    "from sklearn.model_selection import RandomizedSearchCV\n",
    "from sklearn.model_selection import GridSearchCV\n",
    "from sklearn.model_selection import KFold\n",
    "from sklearn.pipeline import Pipeline\n",
    "from tqdm.notebook import tqdm\n",
    "from sklearn.metrics import plot_confusion_matrix\n",
    "from sklearn.metrics import classification_report\n",
    "from tensorflow.keras.utils import to_categorical\n",
    "import cv2\n",
    "import warnings\n",
    "warnings.filterwarnings(\"ignore\")"
   ]
  },
  {
   "cell_type": "markdown",
   "id": "05c5d20c",
   "metadata": {},
   "source": [
    "### Função de treinamento"
   ]
  },
  {
   "cell_type": "code",
   "execution_count": 64,
   "id": "6b3a37e7",
   "metadata": {},
   "outputs": [],
   "source": [
    "def make_train(X, Y, pipeline, param_grid, alg):\n",
    "    kfolds = KFold(n_splits=X.shape[0])\n",
    "\n",
    "    grid = RandomizedSearchCV(pipeline, param_grid, n_jobs=-1, cv=kfolds, return_train_score=False, n_iter=10)\n",
    "\n",
    "    grid_train = grid.fit(X, Y)\n",
    "    scores = grid_train.score(X, Y)\n",
    "    \n",
    "    filename = 'models/'+alg+'_model.sav'\n",
    "    pickle.dump(grid_train, open(filename, 'wb'))\n",
    "\n",
    "    print(\"CV results\\n\", grid.cv_results_)\n",
    "    print()\n",
    "    print(\"Optimal hyperparameter combination: \", grid.best_params_)\n",
    "    print(\"Best model time\", grid.refit_time_)\n",
    "    print(\"\\nScore mean: \", scores)\n",
    "    return grid_train.best_params_, scores "
   ]
  },
  {
   "cell_type": "markdown",
   "id": "3d9e6d70",
   "metadata": {},
   "source": [
    "### Carregamento dos dados"
   ]
  },
  {
   "cell_type": "code",
   "execution_count": 65,
   "id": "06730684",
   "metadata": {},
   "outputs": [
    {
     "data": {
      "text/html": [
       "<div>\n",
       "<style scoped>\n",
       "    .dataframe tbody tr th:only-of-type {\n",
       "        vertical-align: middle;\n",
       "    }\n",
       "\n",
       "    .dataframe tbody tr th {\n",
       "        vertical-align: top;\n",
       "    }\n",
       "\n",
       "    .dataframe thead th {\n",
       "        text-align: right;\n",
       "    }\n",
       "</style>\n",
       "<table border=\"1\" class=\"dataframe\">\n",
       "  <thead>\n",
       "    <tr style=\"text-align: right;\">\n",
       "      <th></th>\n",
       "      <th>0</th>\n",
       "      <th>1</th>\n",
       "      <th>2</th>\n",
       "      <th>3</th>\n",
       "      <th>4</th>\n",
       "      <th>5</th>\n",
       "      <th>6</th>\n",
       "      <th>7</th>\n",
       "      <th>8</th>\n",
       "      <th>9</th>\n",
       "      <th>...</th>\n",
       "      <th>60</th>\n",
       "      <th>61</th>\n",
       "      <th>62</th>\n",
       "      <th>63</th>\n",
       "      <th>64</th>\n",
       "      <th>65</th>\n",
       "      <th>66</th>\n",
       "      <th>67</th>\n",
       "      <th>68</th>\n",
       "      <th>69</th>\n",
       "    </tr>\n",
       "  </thead>\n",
       "  <tbody>\n",
       "    <tr>\n",
       "      <th>0</th>\n",
       "      <td>8575.369720</td>\n",
       "      <td>3070.524971</td>\n",
       "      <td>-5834.143007</td>\n",
       "      <td>6041.903850</td>\n",
       "      <td>896.143775</td>\n",
       "      <td>1417.693965</td>\n",
       "      <td>-485.812639</td>\n",
       "      <td>765.273835</td>\n",
       "      <td>-1207.929461</td>\n",
       "      <td>-1121.759344</td>\n",
       "      <td>...</td>\n",
       "      <td>258.117607</td>\n",
       "      <td>14700.347795</td>\n",
       "      <td>1958.645958</td>\n",
       "      <td>-10313.205052</td>\n",
       "      <td>4081.031869</td>\n",
       "      <td>-5209.716191</td>\n",
       "      <td>-3138.701174</td>\n",
       "      <td>-1018.359123</td>\n",
       "      <td>-4569.791910</td>\n",
       "      <td>-6887.447276</td>\n",
       "    </tr>\n",
       "    <tr>\n",
       "      <th>1</th>\n",
       "      <td>9679.597132</td>\n",
       "      <td>1825.457559</td>\n",
       "      <td>-5874.524262</td>\n",
       "      <td>5774.953071</td>\n",
       "      <td>456.276528</td>\n",
       "      <td>-187.326118</td>\n",
       "      <td>-548.018905</td>\n",
       "      <td>233.029544</td>\n",
       "      <td>-801.621263</td>\n",
       "      <td>-708.571336</td>\n",
       "      <td>...</td>\n",
       "      <td>-1105.907216</td>\n",
       "      <td>4005.216775</td>\n",
       "      <td>2149.134728</td>\n",
       "      <td>6729.341701</td>\n",
       "      <td>5223.231334</td>\n",
       "      <td>4851.383722</td>\n",
       "      <td>-906.551946</td>\n",
       "      <td>753.210036</td>\n",
       "      <td>-1781.364371</td>\n",
       "      <td>-5430.509158</td>\n",
       "    </tr>\n",
       "    <tr>\n",
       "      <th>2</th>\n",
       "      <td>5140.225289</td>\n",
       "      <td>1010.205323</td>\n",
       "      <td>-5248.842179</td>\n",
       "      <td>6767.753044</td>\n",
       "      <td>585.302308</td>\n",
       "      <td>516.785563</td>\n",
       "      <td>-1304.903072</td>\n",
       "      <td>-178.350951</td>\n",
       "      <td>-106.118566</td>\n",
       "      <td>380.217382</td>\n",
       "      <td>...</td>\n",
       "      <td>2259.122872</td>\n",
       "      <td>4081.514699</td>\n",
       "      <td>-1819.467997</td>\n",
       "      <td>-663.467782</td>\n",
       "      <td>2213.522834</td>\n",
       "      <td>-1075.488922</td>\n",
       "      <td>-838.599804</td>\n",
       "      <td>223.490913</td>\n",
       "      <td>-440.776344</td>\n",
       "      <td>-528.692788</td>\n",
       "    </tr>\n",
       "    <tr>\n",
       "      <th>3</th>\n",
       "      <td>11143.616299</td>\n",
       "      <td>3326.860327</td>\n",
       "      <td>-6677.077579</td>\n",
       "      <td>6730.435734</td>\n",
       "      <td>868.376165</td>\n",
       "      <td>933.053788</td>\n",
       "      <td>-1822.858130</td>\n",
       "      <td>327.489657</td>\n",
       "      <td>-1922.783710</td>\n",
       "      <td>-642.230006</td>\n",
       "      <td>...</td>\n",
       "      <td>-25003.306512</td>\n",
       "      <td>68772.814441</td>\n",
       "      <td>16590.965216</td>\n",
       "      <td>1617.654469</td>\n",
       "      <td>21805.590825</td>\n",
       "      <td>-6436.197925</td>\n",
       "      <td>-9132.980911</td>\n",
       "      <td>578.260075</td>\n",
       "      <td>-788.046211</td>\n",
       "      <td>-15668.102208</td>\n",
       "    </tr>\n",
       "    <tr>\n",
       "      <th>4</th>\n",
       "      <td>-2544.011236</td>\n",
       "      <td>678.761593</td>\n",
       "      <td>-4078.725019</td>\n",
       "      <td>8763.533243</td>\n",
       "      <td>1362.667068</td>\n",
       "      <td>1398.862080</td>\n",
       "      <td>-737.008036</td>\n",
       "      <td>-153.169863</td>\n",
       "      <td>-997.534822</td>\n",
       "      <td>-872.013538</td>\n",
       "      <td>...</td>\n",
       "      <td>734.832060</td>\n",
       "      <td>1507.914649</td>\n",
       "      <td>1074.141603</td>\n",
       "      <td>-1572.540624</td>\n",
       "      <td>1376.820240</td>\n",
       "      <td>-117.704924</td>\n",
       "      <td>-1714.522103</td>\n",
       "      <td>363.290151</td>\n",
       "      <td>322.632996</td>\n",
       "      <td>409.054338</td>\n",
       "    </tr>\n",
       "    <tr>\n",
       "      <th>...</th>\n",
       "      <td>...</td>\n",
       "      <td>...</td>\n",
       "      <td>...</td>\n",
       "      <td>...</td>\n",
       "      <td>...</td>\n",
       "      <td>...</td>\n",
       "      <td>...</td>\n",
       "      <td>...</td>\n",
       "      <td>...</td>\n",
       "      <td>...</td>\n",
       "      <td>...</td>\n",
       "      <td>...</td>\n",
       "      <td>...</td>\n",
       "      <td>...</td>\n",
       "      <td>...</td>\n",
       "      <td>...</td>\n",
       "      <td>...</td>\n",
       "      <td>...</td>\n",
       "      <td>...</td>\n",
       "      <td>...</td>\n",
       "      <td>...</td>\n",
       "    </tr>\n",
       "    <tr>\n",
       "      <th>76</th>\n",
       "      <td>-6293.970933</td>\n",
       "      <td>43.774065</td>\n",
       "      <td>-3180.195687</td>\n",
       "      <td>3326.565254</td>\n",
       "      <td>765.422472</td>\n",
       "      <td>67.415924</td>\n",
       "      <td>-1291.234168</td>\n",
       "      <td>-2086.646653</td>\n",
       "      <td>-127.183182</td>\n",
       "      <td>-1151.312870</td>\n",
       "      <td>...</td>\n",
       "      <td>334.010906</td>\n",
       "      <td>444.921405</td>\n",
       "      <td>-446.680845</td>\n",
       "      <td>-315.807063</td>\n",
       "      <td>255.394959</td>\n",
       "      <td>-1213.880817</td>\n",
       "      <td>-718.529565</td>\n",
       "      <td>25.525339</td>\n",
       "      <td>298.954723</td>\n",
       "      <td>-283.521485</td>\n",
       "    </tr>\n",
       "    <tr>\n",
       "      <th>77</th>\n",
       "      <td>-19640.111793</td>\n",
       "      <td>-982.024066</td>\n",
       "      <td>-625.748192</td>\n",
       "      <td>10615.746189</td>\n",
       "      <td>-1235.083357</td>\n",
       "      <td>-129.668486</td>\n",
       "      <td>-4935.725094</td>\n",
       "      <td>464.035698</td>\n",
       "      <td>-2353.403902</td>\n",
       "      <td>-1869.686250</td>\n",
       "      <td>...</td>\n",
       "      <td>291.111470</td>\n",
       "      <td>-219.926875</td>\n",
       "      <td>632.697772</td>\n",
       "      <td>-224.378219</td>\n",
       "      <td>-71.587421</td>\n",
       "      <td>938.025916</td>\n",
       "      <td>311.096857</td>\n",
       "      <td>1058.311625</td>\n",
       "      <td>-54.253733</td>\n",
       "      <td>-626.112420</td>\n",
       "    </tr>\n",
       "    <tr>\n",
       "      <th>78</th>\n",
       "      <td>-3041.945781</td>\n",
       "      <td>1231.509474</td>\n",
       "      <td>-4842.242258</td>\n",
       "      <td>9213.770666</td>\n",
       "      <td>974.612547</td>\n",
       "      <td>1364.455212</td>\n",
       "      <td>-660.800482</td>\n",
       "      <td>-755.636064</td>\n",
       "      <td>-2010.142220</td>\n",
       "      <td>388.749788</td>\n",
       "      <td>...</td>\n",
       "      <td>948.167227</td>\n",
       "      <td>-320.467029</td>\n",
       "      <td>757.325329</td>\n",
       "      <td>956.827461</td>\n",
       "      <td>1326.988148</td>\n",
       "      <td>656.933063</td>\n",
       "      <td>-996.753908</td>\n",
       "      <td>1273.220744</td>\n",
       "      <td>616.220869</td>\n",
       "      <td>1168.687265</td>\n",
       "    </tr>\n",
       "    <tr>\n",
       "      <th>79</th>\n",
       "      <td>-2853.134506</td>\n",
       "      <td>329.939437</td>\n",
       "      <td>-3976.584491</td>\n",
       "      <td>2789.172669</td>\n",
       "      <td>1723.763440</td>\n",
       "      <td>179.693305</td>\n",
       "      <td>-534.506817</td>\n",
       "      <td>-447.008752</td>\n",
       "      <td>-764.375904</td>\n",
       "      <td>-924.638145</td>\n",
       "      <td>...</td>\n",
       "      <td>-577.674023</td>\n",
       "      <td>164.376149</td>\n",
       "      <td>-1660.001356</td>\n",
       "      <td>542.749668</td>\n",
       "      <td>-641.439439</td>\n",
       "      <td>692.420489</td>\n",
       "      <td>-1095.162753</td>\n",
       "      <td>-1752.107641</td>\n",
       "      <td>258.941124</td>\n",
       "      <td>-211.858706</td>\n",
       "    </tr>\n",
       "    <tr>\n",
       "      <th>80</th>\n",
       "      <td>-20569.845248</td>\n",
       "      <td>-1287.439418</td>\n",
       "      <td>-1320.733159</td>\n",
       "      <td>14060.609689</td>\n",
       "      <td>2917.083817</td>\n",
       "      <td>3915.276018</td>\n",
       "      <td>-4187.892946</td>\n",
       "      <td>-718.120508</td>\n",
       "      <td>-3788.848897</td>\n",
       "      <td>-2601.103488</td>\n",
       "      <td>...</td>\n",
       "      <td>538.622492</td>\n",
       "      <td>-246.196916</td>\n",
       "      <td>-649.989355</td>\n",
       "      <td>-882.915163</td>\n",
       "      <td>635.038042</td>\n",
       "      <td>411.996071</td>\n",
       "      <td>287.893865</td>\n",
       "      <td>78.055065</td>\n",
       "      <td>604.288648</td>\n",
       "      <td>385.705862</td>\n",
       "    </tr>\n",
       "  </tbody>\n",
       "</table>\n",
       "<p>81 rows × 70 columns</p>\n",
       "</div>"
      ],
      "text/plain": [
       "               0            1            2             3            4  \\\n",
       "0    8575.369720  3070.524971 -5834.143007   6041.903850   896.143775   \n",
       "1    9679.597132  1825.457559 -5874.524262   5774.953071   456.276528   \n",
       "2    5140.225289  1010.205323 -5248.842179   6767.753044   585.302308   \n",
       "3   11143.616299  3326.860327 -6677.077579   6730.435734   868.376165   \n",
       "4   -2544.011236   678.761593 -4078.725019   8763.533243  1362.667068   \n",
       "..           ...          ...          ...           ...          ...   \n",
       "76  -6293.970933    43.774065 -3180.195687   3326.565254   765.422472   \n",
       "77 -19640.111793  -982.024066  -625.748192  10615.746189 -1235.083357   \n",
       "78  -3041.945781  1231.509474 -4842.242258   9213.770666   974.612547   \n",
       "79  -2853.134506   329.939437 -3976.584491   2789.172669  1723.763440   \n",
       "80 -20569.845248 -1287.439418 -1320.733159  14060.609689  2917.083817   \n",
       "\n",
       "              5            6            7            8            9  ...  \\\n",
       "0   1417.693965  -485.812639   765.273835 -1207.929461 -1121.759344  ...   \n",
       "1   -187.326118  -548.018905   233.029544  -801.621263  -708.571336  ...   \n",
       "2    516.785563 -1304.903072  -178.350951  -106.118566   380.217382  ...   \n",
       "3    933.053788 -1822.858130   327.489657 -1922.783710  -642.230006  ...   \n",
       "4   1398.862080  -737.008036  -153.169863  -997.534822  -872.013538  ...   \n",
       "..          ...          ...          ...          ...          ...  ...   \n",
       "76    67.415924 -1291.234168 -2086.646653  -127.183182 -1151.312870  ...   \n",
       "77  -129.668486 -4935.725094   464.035698 -2353.403902 -1869.686250  ...   \n",
       "78  1364.455212  -660.800482  -755.636064 -2010.142220   388.749788  ...   \n",
       "79   179.693305  -534.506817  -447.008752  -764.375904  -924.638145  ...   \n",
       "80  3915.276018 -4187.892946  -718.120508 -3788.848897 -2601.103488  ...   \n",
       "\n",
       "              60            61            62            63            64  \\\n",
       "0     258.117607  14700.347795   1958.645958 -10313.205052   4081.031869   \n",
       "1   -1105.907216   4005.216775   2149.134728   6729.341701   5223.231334   \n",
       "2    2259.122872   4081.514699  -1819.467997   -663.467782   2213.522834   \n",
       "3  -25003.306512  68772.814441  16590.965216   1617.654469  21805.590825   \n",
       "4     734.832060   1507.914649   1074.141603  -1572.540624   1376.820240   \n",
       "..           ...           ...           ...           ...           ...   \n",
       "76    334.010906    444.921405   -446.680845   -315.807063    255.394959   \n",
       "77    291.111470   -219.926875    632.697772   -224.378219    -71.587421   \n",
       "78    948.167227   -320.467029    757.325329    956.827461   1326.988148   \n",
       "79   -577.674023    164.376149  -1660.001356    542.749668   -641.439439   \n",
       "80    538.622492   -246.196916   -649.989355   -882.915163    635.038042   \n",
       "\n",
       "             65           66           67           68            69  \n",
       "0  -5209.716191 -3138.701174 -1018.359123 -4569.791910  -6887.447276  \n",
       "1   4851.383722  -906.551946   753.210036 -1781.364371  -5430.509158  \n",
       "2  -1075.488922  -838.599804   223.490913  -440.776344   -528.692788  \n",
       "3  -6436.197925 -9132.980911   578.260075  -788.046211 -15668.102208  \n",
       "4   -117.704924 -1714.522103   363.290151   322.632996    409.054338  \n",
       "..          ...          ...          ...          ...           ...  \n",
       "76 -1213.880817  -718.529565    25.525339   298.954723   -283.521485  \n",
       "77   938.025916   311.096857  1058.311625   -54.253733   -626.112420  \n",
       "78   656.933063  -996.753908  1273.220744   616.220869   1168.687265  \n",
       "79   692.420489 -1095.162753 -1752.107641   258.941124   -211.858706  \n",
       "80   411.996071   287.893865    78.055065   604.288648    385.705862  \n",
       "\n",
       "[81 rows x 70 columns]"
      ]
     },
     "execution_count": 65,
     "metadata": {},
     "output_type": "execute_result"
    }
   ],
   "source": [
    "X_pca = pd.read_csv('data/df_X_pca.csv')\n",
    "X_pca"
   ]
  },
  {
   "cell_type": "code",
   "execution_count": 66,
   "id": "2a435003",
   "metadata": {},
   "outputs": [
    {
     "data": {
      "text/plain": [
       "(81, 70)"
      ]
     },
     "execution_count": 66,
     "metadata": {},
     "output_type": "execute_result"
    }
   ],
   "source": [
    "X_pca.shape"
   ]
  },
  {
   "cell_type": "code",
   "execution_count": 67,
   "id": "4a330cb6",
   "metadata": {},
   "outputs": [
    {
     "data": {
      "text/html": [
       "<div>\n",
       "<style scoped>\n",
       "    .dataframe tbody tr th:only-of-type {\n",
       "        vertical-align: middle;\n",
       "    }\n",
       "\n",
       "    .dataframe tbody tr th {\n",
       "        vertical-align: top;\n",
       "    }\n",
       "\n",
       "    .dataframe thead th {\n",
       "        text-align: right;\n",
       "    }\n",
       "</style>\n",
       "<table border=\"1\" class=\"dataframe\">\n",
       "  <thead>\n",
       "    <tr style=\"text-align: right;\">\n",
       "      <th></th>\n",
       "      <th>class</th>\n",
       "    </tr>\n",
       "  </thead>\n",
       "  <tbody>\n",
       "    <tr>\n",
       "      <th>0</th>\n",
       "      <td>brachiaria decumbens</td>\n",
       "    </tr>\n",
       "    <tr>\n",
       "      <th>1</th>\n",
       "      <td>brachiaria decumbens</td>\n",
       "    </tr>\n",
       "    <tr>\n",
       "      <th>2</th>\n",
       "      <td>brachiaria decumbens</td>\n",
       "    </tr>\n",
       "    <tr>\n",
       "      <th>3</th>\n",
       "      <td>brachiaria decumbens</td>\n",
       "    </tr>\n",
       "    <tr>\n",
       "      <th>4</th>\n",
       "      <td>brachiaria decumbens</td>\n",
       "    </tr>\n",
       "    <tr>\n",
       "      <th>...</th>\n",
       "      <td>...</td>\n",
       "    </tr>\n",
       "    <tr>\n",
       "      <th>76</th>\n",
       "      <td>brachiaria humidicola</td>\n",
       "    </tr>\n",
       "    <tr>\n",
       "      <th>77</th>\n",
       "      <td>brachiaria humidicola</td>\n",
       "    </tr>\n",
       "    <tr>\n",
       "      <th>78</th>\n",
       "      <td>brachiaria humidicola</td>\n",
       "    </tr>\n",
       "    <tr>\n",
       "      <th>79</th>\n",
       "      <td>brachiaria humidicola</td>\n",
       "    </tr>\n",
       "    <tr>\n",
       "      <th>80</th>\n",
       "      <td>brachiaria humidicola</td>\n",
       "    </tr>\n",
       "  </tbody>\n",
       "</table>\n",
       "<p>81 rows × 1 columns</p>\n",
       "</div>"
      ],
      "text/plain": [
       "                    class\n",
       "0    brachiaria decumbens\n",
       "1    brachiaria decumbens\n",
       "2    brachiaria decumbens\n",
       "3    brachiaria decumbens\n",
       "4    brachiaria decumbens\n",
       "..                    ...\n",
       "76  brachiaria humidicola\n",
       "77  brachiaria humidicola\n",
       "78  brachiaria humidicola\n",
       "79  brachiaria humidicola\n",
       "80  brachiaria humidicola\n",
       "\n",
       "[81 rows x 1 columns]"
      ]
     },
     "execution_count": 67,
     "metadata": {},
     "output_type": "execute_result"
    }
   ],
   "source": [
    "Y = pd.read_csv('data/df_Y.csv')\n",
    "Y"
   ]
  },
  {
   "cell_type": "code",
   "execution_count": 68,
   "id": "7d93aa1a",
   "metadata": {},
   "outputs": [
    {
     "data": {
      "text/plain": [
       "array([0, 0, 0, 0, 0, 0, 0, 0, 0, 0, 2, 2, 2, 2, 2, 2, 2, 2, 2, 2, 2, 2,\n",
       "       2, 2, 3, 3, 3, 3, 3, 3, 3, 3, 3, 3, 3, 3, 3, 3, 3, 3, 4, 4, 4, 4,\n",
       "       4, 4, 4, 4, 4, 4, 4, 5, 5, 5, 5, 5, 5, 5, 5, 5, 5, 5, 5, 1, 1, 1,\n",
       "       1, 1, 1, 1, 1, 1, 1, 1, 1, 1, 1, 1, 1, 1, 1])"
      ]
     },
     "execution_count": 68,
     "metadata": {},
     "output_type": "execute_result"
    }
   ],
   "source": [
    "label_encoder = LabelEncoder()\n",
    "Y_encoder = label_encoder.fit_transform(Y)\n",
    "Y_encoder"
   ]
  },
  {
   "cell_type": "code",
   "execution_count": 69,
   "id": "41ad257c",
   "metadata": {},
   "outputs": [],
   "source": [
    "np.random.seed(42)"
   ]
  },
  {
   "cell_type": "code",
   "execution_count": 70,
   "id": "4a2e34fc",
   "metadata": {},
   "outputs": [],
   "source": [
    "X_train, X_test, Y_train, Y_test = train_test_split(X_pca, Y_encoder, test_size = 0.3, random_state=42)"
   ]
  },
  {
   "cell_type": "markdown",
   "id": "35cf337a",
   "metadata": {},
   "source": [
    "### Treinamento dos algoritmos"
   ]
  },
  {
   "cell_type": "markdown",
   "id": "12b21a60",
   "metadata": {},
   "source": [
    "#### Random Forest"
   ]
  },
  {
   "cell_type": "markdown",
   "id": "9c471eb0",
   "metadata": {},
   "source": [
    "##### Abordagem PCA"
   ]
  },
  {
   "cell_type": "code",
   "execution_count": 71,
   "id": "1875edf0",
   "metadata": {},
   "outputs": [],
   "source": [
    "pipeline = Pipeline(steps=[(\"rf\", RandomForestClassifier(n_jobs=-1, criterion='entropy'))])\n",
    "\n",
    "param_grid = {'rf__max_depth': range(2, 100),\n",
    "              'rf__min_samples_split': range(2, 100)\n",
    "             }"
   ]
  },
  {
   "cell_type": "code",
   "execution_count": 72,
   "id": "71abb3b9",
   "metadata": {},
   "outputs": [
    {
     "name": "stdout",
     "output_type": "stream",
     "text": [
      "CV results\n",
      " {'mean_fit_time': array([0.47497581, 0.49033464, 0.50462859, 0.40601384, 0.41045798,\n",
      "       0.35221255, 0.31840681, 0.36919319, 0.36310463, 0.34147806]), 'std_fit_time': array([0.20492398, 0.07306002, 0.09228483, 0.05013174, 0.06408203,\n",
      "       0.05662223, 0.02811843, 0.04287987, 0.05628273, 0.0360467 ]), 'mean_score_time': array([0.11846553, 0.1426681 , 0.09191026, 0.06342891, 0.07474973,\n",
      "       0.06896242, 0.04794898, 0.0540536 , 0.06135675, 0.05255439]), 'std_score_time': array([0.08432114, 0.04951362, 0.03612674, 0.01227269, 0.02807105,\n",
      "       0.03872594, 0.00834241, 0.00765857, 0.02009662, 0.01394522]), 'param_rf__min_samples_split': masked_array(data=[20, 78, 2, 97, 52, 93, 76, 18, 92, 92],\n",
      "             mask=[False, False, False, False, False, False, False, False,\n",
      "                   False, False],\n",
      "       fill_value='?',\n",
      "            dtype=object), 'param_rf__max_depth': masked_array(data=[76, 10, 57, 54, 60, 65, 6, 47, 58, 86],\n",
      "             mask=[False, False, False, False, False, False, False, False,\n",
      "                   False, False],\n",
      "       fill_value='?',\n",
      "            dtype=object), 'params': [{'rf__min_samples_split': 20, 'rf__max_depth': 76}, {'rf__min_samples_split': 78, 'rf__max_depth': 10}, {'rf__min_samples_split': 2, 'rf__max_depth': 57}, {'rf__min_samples_split': 97, 'rf__max_depth': 54}, {'rf__min_samples_split': 52, 'rf__max_depth': 60}, {'rf__min_samples_split': 93, 'rf__max_depth': 65}, {'rf__min_samples_split': 76, 'rf__max_depth': 6}, {'rf__min_samples_split': 18, 'rf__max_depth': 47}, {'rf__min_samples_split': 92, 'rf__max_depth': 58}, {'rf__min_samples_split': 92, 'rf__max_depth': 86}], 'split0_test_score': array([0., 0., 0., 0., 0., 0., 0., 0., 0., 0.]), 'split1_test_score': array([0., 0., 1., 0., 0., 0., 0., 0., 0., 0.]), 'split2_test_score': array([0., 0., 0., 0., 0., 0., 0., 0., 0., 0.]), 'split3_test_score': array([0., 0., 1., 0., 0., 0., 0., 1., 0., 0.]), 'split4_test_score': array([0., 0., 0., 0., 0., 0., 0., 0., 0., 0.]), 'split5_test_score': array([0., 0., 0., 0., 0., 0., 0., 0., 0., 0.]), 'split6_test_score': array([1., 1., 1., 1., 1., 1., 1., 1., 1., 1.]), 'split7_test_score': array([0., 0., 0., 0., 0., 0., 0., 0., 0., 0.]), 'split8_test_score': array([1., 0., 1., 0., 0., 0., 0., 1., 0., 0.]), 'split9_test_score': array([0., 0., 0., 0., 0., 0., 0., 0., 0., 0.]), 'split10_test_score': array([0., 0., 0., 0., 0., 0., 0., 0., 0., 0.]), 'split11_test_score': array([1., 1., 1., 1., 1., 1., 1., 1., 1., 1.]), 'split12_test_score': array([0., 0., 1., 0., 0., 0., 0., 0., 0., 0.]), 'split13_test_score': array([1., 0., 1., 0., 0., 0., 0., 1., 0., 0.]), 'split14_test_score': array([0., 0., 0., 0., 0., 0., 0., 0., 0., 0.]), 'split15_test_score': array([1., 1., 1., 1., 1., 1., 1., 1., 1., 1.]), 'split16_test_score': array([0., 0., 1., 0., 0., 0., 0., 0., 0., 0.]), 'split17_test_score': array([0., 0., 0., 0., 0., 0., 0., 1., 0., 0.]), 'split18_test_score': array([1., 0., 0., 0., 0., 0., 0., 1., 0., 0.]), 'split19_test_score': array([0., 0., 1., 0., 0., 0., 0., 0., 0., 0.]), 'split20_test_score': array([1., 1., 1., 1., 1., 1., 1., 1., 1., 1.]), 'split21_test_score': array([0., 0., 0., 0., 0., 0., 0., 0., 0., 0.]), 'split22_test_score': array([0., 0., 0., 0., 0., 0., 0., 0., 0., 0.]), 'split23_test_score': array([0., 1., 0., 1., 1., 1., 1., 0., 1., 1.]), 'split24_test_score': array([1., 0., 1., 0., 0., 0., 0., 0., 0., 0.]), 'split25_test_score': array([0., 0., 0., 0., 0., 0., 0., 0., 0., 0.]), 'split26_test_score': array([1., 1., 1., 1., 1., 1., 1., 1., 1., 1.]), 'split27_test_score': array([0., 0., 1., 0., 0., 0., 0., 1., 0., 0.]), 'split28_test_score': array([0., 0., 0., 0., 0., 0., 0., 0., 0., 0.]), 'split29_test_score': array([0., 0., 1., 0., 0., 0., 0., 0., 0., 0.]), 'split30_test_score': array([0., 0., 0., 0., 0., 0., 0., 0., 0., 0.]), 'split31_test_score': array([1., 0., 1., 0., 0., 0., 0., 1., 0., 0.]), 'split32_test_score': array([0., 0., 0., 0., 0., 0., 0., 1., 0., 0.]), 'split33_test_score': array([0., 0., 1., 0., 0., 0., 0., 1., 0., 0.]), 'split34_test_score': array([0., 1., 0., 1., 1., 1., 1., 0., 1., 1.]), 'split35_test_score': array([0., 0., 1., 0., 0., 0., 0., 1., 0., 0.]), 'split36_test_score': array([0., 0., 0., 0., 0., 0., 0., 0., 0., 0.]), 'split37_test_score': array([1., 0., 1., 0., 0., 0., 0., 1., 0., 0.]), 'split38_test_score': array([0., 1., 1., 1., 1., 1., 1., 0., 1., 1.]), 'split39_test_score': array([0., 0., 0., 0., 0., 0., 0., 0., 0., 0.]), 'split40_test_score': array([1., 1., 1., 1., 1., 1., 1., 1., 1., 1.]), 'split41_test_score': array([0., 1., 0., 1., 1., 1., 1., 0., 1., 1.]), 'split42_test_score': array([1., 0., 0., 0., 0., 0., 0., 1., 0., 0.]), 'split43_test_score': array([1., 0., 1., 0., 0., 0., 0., 1., 0., 0.]), 'split44_test_score': array([0., 0., 0., 0., 0., 0., 0., 0., 0., 0.]), 'split45_test_score': array([0., 0., 0., 0., 0., 0., 0., 0., 0., 0.]), 'split46_test_score': array([0., 0., 0., 0., 0., 0., 0., 0., 0., 0.]), 'split47_test_score': array([0., 0., 0., 0., 0., 0., 0., 0., 0., 0.]), 'split48_test_score': array([0., 0., 0., 0., 0., 0., 0., 0., 0., 0.]), 'split49_test_score': array([1., 1., 1., 1., 1., 1., 1., 1., 1., 1.]), 'split50_test_score': array([0., 1., 0., 1., 1., 1., 1., 0., 1., 1.]), 'split51_test_score': array([0., 0., 0., 0., 0., 0., 0., 0., 0., 0.]), 'split52_test_score': array([0., 0., 0., 0., 0., 0., 0., 0., 0., 0.]), 'split53_test_score': array([0., 1., 0., 1., 1., 1., 1., 0., 1., 1.]), 'split54_test_score': array([0., 0., 1., 0., 0., 0., 0., 0., 0., 0.]), 'split55_test_score': array([1., 0., 1., 0., 0., 0., 0., 1., 0., 0.]), 'mean_test_score': array([0.28571429, 0.23214286, 0.44642857, 0.23214286, 0.23214286,\n",
      "       0.23214286, 0.23214286, 0.375     , 0.23214286, 0.23214286]), 'std_test_score': array([0.45175395, 0.42219966, 0.49712182, 0.42219966, 0.42219966,\n",
      "       0.42219966, 0.42219966, 0.48412292, 0.42219966, 0.42219966]), 'rank_test_score': array([3, 4, 1, 4, 4, 4, 4, 2, 4, 4])}\n",
      "\n",
      "Optimal hyperparameter combination:  {'rf__min_samples_split': 2, 'rf__max_depth': 57}\n",
      "Best model time 0.3399958610534668\n",
      "\n",
      "Score mean:  1.0\n"
     ]
    }
   ],
   "source": [
    "rf_pca_model, rf_pca_scores = make_train(X_train, Y_train, pipeline, param_grid, 'rf_just_pca')"
   ]
  },
  {
   "cell_type": "markdown",
   "id": "9f9fff1b",
   "metadata": {},
   "source": [
    "##### Abordagem PCA + Kmeans"
   ]
  },
  {
   "cell_type": "code",
   "execution_count": 73,
   "id": "46b6151e",
   "metadata": {},
   "outputs": [],
   "source": [
    "pipeline = Pipeline(steps = [(\"kmeans\", KMeans()),                     \n",
    "                             (\"rf\", RandomForestClassifier(n_jobs=-1, criterion='entropy'))                           \n",
    "                    ])\n",
    "\n",
    "param_grid = {'rf__max_depth': range(2, 100),\n",
    "              'rf__min_samples_split': range(2, 100),\n",
    "              'kmeans__n_clusters': range(2, 50)\n",
    "              }"
   ]
  },
  {
   "cell_type": "code",
   "execution_count": 74,
   "id": "288f31ad",
   "metadata": {},
   "outputs": [
    {
     "name": "stdout",
     "output_type": "stream",
     "text": [
      "CV results\n",
      " {'mean_fit_time': array([0.39448997, 0.41042688, 0.43727206, 0.36614473, 0.61433796,\n",
      "       0.56314005, 0.50814502, 0.52347991, 0.61748352, 0.58916908]), 'std_fit_time': array([0.06658589, 0.04192157, 0.02796489, 0.04910073, 0.05814035,\n",
      "       0.05001782, 0.03308248, 0.02890261, 0.04820602, 0.07666424]), 'mean_score_time': array([0.05759008, 0.06380191, 0.05300004, 0.05574751, 0.06029672,\n",
      "       0.05126716, 0.05021756, 0.05177528, 0.05175056, 0.05573516]), 'std_score_time': array([0.0158779 , 0.01919789, 0.01027937, 0.01518793, 0.02024868,\n",
      "       0.01467328, 0.00904477, 0.00897937, 0.01229267, 0.02705621]), 'param_rf__min_samples_split': masked_array(data=[23, 96, 88, 58, 73, 29, 52, 97, 39, 87],\n",
      "             mask=[False, False, False, False, False, False, False, False,\n",
      "                   False, False],\n",
      "       fill_value='?',\n",
      "            dtype=object), 'param_rf__max_depth': masked_array(data=[43, 53, 62, 96, 34, 57, 29, 68, 3, 83],\n",
      "             mask=[False, False, False, False, False, False, False, False,\n",
      "                   False, False],\n",
      "       fill_value='?',\n",
      "            dtype=object), 'param_kmeans__n_clusters': masked_array(data=[4, 4, 10, 2, 38, 30, 22, 24, 47, 43],\n",
      "             mask=[False, False, False, False, False, False, False, False,\n",
      "                   False, False],\n",
      "       fill_value='?',\n",
      "            dtype=object), 'params': [{'rf__min_samples_split': 23, 'rf__max_depth': 43, 'kmeans__n_clusters': 4}, {'rf__min_samples_split': 96, 'rf__max_depth': 53, 'kmeans__n_clusters': 4}, {'rf__min_samples_split': 88, 'rf__max_depth': 62, 'kmeans__n_clusters': 10}, {'rf__min_samples_split': 58, 'rf__max_depth': 96, 'kmeans__n_clusters': 2}, {'rf__min_samples_split': 73, 'rf__max_depth': 34, 'kmeans__n_clusters': 38}, {'rf__min_samples_split': 29, 'rf__max_depth': 57, 'kmeans__n_clusters': 30}, {'rf__min_samples_split': 52, 'rf__max_depth': 29, 'kmeans__n_clusters': 22}, {'rf__min_samples_split': 97, 'rf__max_depth': 68, 'kmeans__n_clusters': 24}, {'rf__min_samples_split': 39, 'rf__max_depth': 3, 'kmeans__n_clusters': 47}, {'rf__min_samples_split': 87, 'rf__max_depth': 83, 'kmeans__n_clusters': 43}], 'split0_test_score': array([0., 0., 0., 0., 0., 1., 0., 0., 0., 0.]), 'split1_test_score': array([1., 0., 0., 0., 0., 1., 0., 0., 0., 0.]), 'split2_test_score': array([0., 0., 0., 0., 0., 0., 0., 0., 0., 0.]), 'split3_test_score': array([1., 0., 0., 0., 0., 1., 0., 0., 0., 0.]), 'split4_test_score': array([0., 0., 0., 0., 0., 0., 0., 0., 0., 0.]), 'split5_test_score': array([0., 0., 0., 0., 0., 0., 0., 0., 0., 0.]), 'split6_test_score': array([1., 1., 1., 1., 1., 1., 1., 1., 1., 1.]), 'split7_test_score': array([0., 0., 0., 0., 0., 0., 0., 0., 0., 0.]), 'split8_test_score': array([1., 0., 0., 0., 0., 1., 0., 0., 0., 0.]), 'split9_test_score': array([0., 0., 0., 0., 0., 0., 0., 0., 0., 0.]), 'split10_test_score': array([1., 0., 0., 0., 0., 1., 0., 0., 0., 0.]), 'split11_test_score': array([0., 1., 1., 1., 1., 1., 1., 1., 1., 1.]), 'split12_test_score': array([0., 0., 0., 0., 0., 0., 0., 0., 0., 0.]), 'split13_test_score': array([1., 0., 0., 0., 0., 1., 0., 0., 0., 0.]), 'split14_test_score': array([0., 0., 0., 0., 0., 0., 0., 0., 0., 0.]), 'split15_test_score': array([1., 1., 1., 1., 1., 1., 1., 1., 1., 1.]), 'split16_test_score': array([0., 0., 0., 0., 0., 0., 0., 0., 0., 0.]), 'split17_test_score': array([1., 0., 0., 0., 0., 1., 0., 0., 0., 0.]), 'split18_test_score': array([0., 0., 0., 0., 0., 0., 0., 0., 0., 0.]), 'split19_test_score': array([0., 0., 0., 0., 0., 0., 0., 0., 0., 0.]), 'split20_test_score': array([0., 1., 1., 1., 1., 0., 1., 1., 1., 1.]), 'split21_test_score': array([0., 0., 0., 0., 0., 0., 0., 0., 0., 0.]), 'split22_test_score': array([0., 0., 0., 0., 0., 0., 0., 0., 0., 0.]), 'split23_test_score': array([1., 1., 1., 1., 1., 0., 1., 1., 1., 1.]), 'split24_test_score': array([0., 0., 0., 0., 0., 0., 0., 0., 0., 0.]), 'split25_test_score': array([1., 0., 0., 0., 0., 1., 0., 0., 0., 0.]), 'split26_test_score': array([1., 1., 1., 1., 1., 1., 1., 1., 1., 1.]), 'split27_test_score': array([1., 0., 0., 0., 0., 1., 0., 0., 0., 0.]), 'split28_test_score': array([0., 0., 0., 0., 0., 0., 0., 0., 0., 0.]), 'split29_test_score': array([1., 0., 0., 0., 0., 1., 0., 0., 0., 0.]), 'split30_test_score': array([0., 0., 0., 0., 0., 0., 0., 0., 0., 0.]), 'split31_test_score': array([1., 0., 0., 0., 0., 1., 0., 0., 0., 0.]), 'split32_test_score': array([0., 0., 0., 0., 0., 0., 0., 0., 0., 0.]), 'split33_test_score': array([1., 0., 0., 0., 0., 1., 0., 0., 0., 0.]), 'split34_test_score': array([0., 1., 1., 1., 1., 0., 1., 1., 1., 1.]), 'split35_test_score': array([0., 0., 0., 0., 0., 0., 0., 0., 0., 0.]), 'split36_test_score': array([0., 0., 0., 0., 0., 1., 0., 0., 0., 0.]), 'split37_test_score': array([0., 0., 0., 0., 0., 0., 0., 0., 0., 0.]), 'split38_test_score': array([0., 1., 1., 1., 1., 1., 1., 1., 1., 1.]), 'split39_test_score': array([0., 0., 0., 0., 0., 0., 0., 0., 0., 0.]), 'split40_test_score': array([0., 1., 1., 1., 1., 0., 1., 1., 1., 1.]), 'split41_test_score': array([0., 1., 1., 1., 1., 0., 1., 1., 1., 1.]), 'split42_test_score': array([0., 0., 0., 0., 0., 0., 0., 0., 0., 0.]), 'split43_test_score': array([0., 0., 0., 0., 0., 0., 0., 0., 0., 0.]), 'split44_test_score': array([0., 0., 0., 0., 0., 0., 0., 0., 0., 0.]), 'split45_test_score': array([0., 0., 0., 0., 0., 0., 0., 0., 0., 0.]), 'split46_test_score': array([0., 0., 0., 0., 0., 0., 0., 0., 0., 0.]), 'split47_test_score': array([0., 0., 0., 0., 0., 0., 0., 0., 0., 0.]), 'split48_test_score': array([1., 0., 0., 0., 0., 1., 0., 0., 0., 0.]), 'split49_test_score': array([0., 1., 1., 1., 1., 1., 1., 1., 1., 1.]), 'split50_test_score': array([0., 1., 1., 1., 1., 0., 1., 1., 1., 1.]), 'split51_test_score': array([0., 0., 0., 0., 0., 0., 0., 0., 0., 0.]), 'split52_test_score': array([0., 0., 0., 0., 0., 0., 0., 0., 0., 0.]), 'split53_test_score': array([0., 1., 1., 1., 1., 0., 1., 1., 1., 1.]), 'split54_test_score': array([1., 0., 0., 0., 0., 1., 0., 0., 0., 0.]), 'split55_test_score': array([0., 0., 0., 0., 0., 0., 0., 0., 0., 0.]), 'mean_test_score': array([0.30357143, 0.23214286, 0.23214286, 0.23214286, 0.23214286,\n",
      "       0.375     , 0.23214286, 0.23214286, 0.23214286, 0.23214286]), 'std_test_score': array([0.45979976, 0.42219966, 0.42219966, 0.42219966, 0.42219966,\n",
      "       0.48412292, 0.42219966, 0.42219966, 0.42219966, 0.42219966]), 'rank_test_score': array([2, 3, 3, 3, 3, 1, 3, 3, 3, 3])}\n",
      "\n",
      "Optimal hyperparameter combination:  {'rf__min_samples_split': 29, 'rf__max_depth': 57, 'kmeans__n_clusters': 30}\n",
      "Best model time 0.31100893020629883\n",
      "\n",
      "Score mean:  0.5\n"
     ]
    }
   ],
   "source": [
    "rf_pca_kmeans_model, rf_pca__kmeans_scores = make_train(X_train, Y_train, pipeline, param_grid, 'rf_pca_kmeans')"
   ]
  },
  {
   "cell_type": "markdown",
   "id": "5da8838f",
   "metadata": {},
   "source": [
    "#### KNN"
   ]
  },
  {
   "cell_type": "markdown",
   "id": "c2854c30",
   "metadata": {},
   "source": [
    "##### Abordagem PCA"
   ]
  },
  {
   "cell_type": "code",
   "execution_count": 75,
   "id": "f8904e5e",
   "metadata": {},
   "outputs": [],
   "source": [
    "pipeline = Pipeline(steps=[(\"knn\", KNeighborsClassifier(n_jobs=-1, metric='euclidean'))])\n",
    "\n",
    "param_grid = {'knn__n_neighbors': range(2, 100)}"
   ]
  },
  {
   "cell_type": "code",
   "execution_count": 76,
   "id": "b8ff6ac3",
   "metadata": {},
   "outputs": [
    {
     "name": "stdout",
     "output_type": "stream",
     "text": [
      "CV results\n",
      " {'mean_fit_time': array([0.00573317, 0.01041126, 0.00867823, 0.00898395, 0.00653702,\n",
      "       0.01055054, 0.01166167, 0.007411  , 0.01268083, 0.01080427]), 'std_fit_time': array([0.00140578, 0.00528727, 0.00440171, 0.00612649, 0.00186154,\n",
      "       0.00587243, 0.00650597, 0.00274906, 0.00659948, 0.00864277]), 'mean_score_time': array([0.03365825, 0.02744673, 0.02719596, 0.0237838 , 0.05358636,\n",
      "       0.01902034, 0.02855325, 0.06790932, 0.02346167, 0.0193199 ]), 'std_score_time': array([0.02460754, 0.01542611, 0.01280277, 0.01572751, 0.02164382,\n",
      "       0.01163041, 0.01707292, 0.02585584, 0.01367326, 0.01076174]), 'param_knn__n_neighbors': masked_array(data=[30, 57, 80, 77, 15, 96, 64, 44, 88, 84],\n",
      "             mask=[False, False, False, False, False, False, False, False,\n",
      "                   False, False],\n",
      "       fill_value='?',\n",
      "            dtype=object), 'params': [{'knn__n_neighbors': 30}, {'knn__n_neighbors': 57}, {'knn__n_neighbors': 80}, {'knn__n_neighbors': 77}, {'knn__n_neighbors': 15}, {'knn__n_neighbors': 96}, {'knn__n_neighbors': 64}, {'knn__n_neighbors': 44}, {'knn__n_neighbors': 88}, {'knn__n_neighbors': 84}], 'split0_test_score': array([ 0., nan, nan, nan,  0., nan, nan,  0., nan, nan]), 'split1_test_score': array([ 0., nan, nan, nan,  0., nan, nan,  0., nan, nan]), 'split2_test_score': array([ 0., nan, nan, nan,  0., nan, nan,  0., nan, nan]), 'split3_test_score': array([ 1., nan, nan, nan,  1., nan, nan,  0., nan, nan]), 'split4_test_score': array([ 0., nan, nan, nan,  0., nan, nan,  0., nan, nan]), 'split5_test_score': array([ 0., nan, nan, nan,  0., nan, nan,  0., nan, nan]), 'split6_test_score': array([ 0., nan, nan, nan,  0., nan, nan,  0., nan, nan]), 'split7_test_score': array([ 0., nan, nan, nan,  0., nan, nan,  0., nan, nan]), 'split8_test_score': array([ 0., nan, nan, nan,  0., nan, nan,  0., nan, nan]), 'split9_test_score': array([ 0., nan, nan, nan,  0., nan, nan,  0., nan, nan]), 'split10_test_score': array([ 1., nan, nan, nan,  1., nan, nan,  0., nan, nan]), 'split11_test_score': array([ 0., nan, nan, nan,  0., nan, nan,  0., nan, nan]), 'split12_test_score': array([ 0., nan, nan, nan,  0., nan, nan,  0., nan, nan]), 'split13_test_score': array([ 0., nan, nan, nan,  0., nan, nan,  0., nan, nan]), 'split14_test_score': array([ 1., nan, nan, nan,  1., nan, nan,  0., nan, nan]), 'split15_test_score': array([ 0., nan, nan, nan,  0., nan, nan,  0., nan, nan]), 'split16_test_score': array([ 0., nan, nan, nan,  0., nan, nan,  0., nan, nan]), 'split17_test_score': array([ 1., nan, nan, nan,  1., nan, nan,  0., nan, nan]), 'split18_test_score': array([ 0., nan, nan, nan,  0., nan, nan,  0., nan, nan]), 'split19_test_score': array([ 0., nan, nan, nan,  0., nan, nan,  0., nan, nan]), 'split20_test_score': array([ 0., nan, nan, nan,  0., nan, nan,  0., nan, nan]), 'split21_test_score': array([ 0., nan, nan, nan,  0., nan, nan,  0., nan, nan]), 'split22_test_score': array([ 0., nan, nan, nan,  0., nan, nan,  0., nan, nan]), 'split23_test_score': array([ 0., nan, nan, nan,  0., nan, nan,  0., nan, nan]), 'split24_test_score': array([ 0., nan, nan, nan,  0., nan, nan,  0., nan, nan]), 'split25_test_score': array([ 0., nan, nan, nan,  0., nan, nan,  0., nan, nan]), 'split26_test_score': array([ 0., nan, nan, nan,  0., nan, nan,  0., nan, nan]), 'split27_test_score': array([ 1., nan, nan, nan,  1., nan, nan,  0., nan, nan]), 'split28_test_score': array([ 0., nan, nan, nan,  0., nan, nan,  0., nan, nan]), 'split29_test_score': array([ 0., nan, nan, nan,  0., nan, nan,  0., nan, nan]), 'split30_test_score': array([ 0., nan, nan, nan,  0., nan, nan,  0., nan, nan]), 'split31_test_score': array([ 0., nan, nan, nan,  0., nan, nan,  0., nan, nan]), 'split32_test_score': array([ 0., nan, nan, nan,  0., nan, nan,  0., nan, nan]), 'split33_test_score': array([ 0., nan, nan, nan,  0., nan, nan,  0., nan, nan]), 'split34_test_score': array([ 0., nan, nan, nan,  0., nan, nan,  0., nan, nan]), 'split35_test_score': array([ 0., nan, nan, nan,  0., nan, nan,  0., nan, nan]), 'split36_test_score': array([ 1., nan, nan, nan,  1., nan, nan,  0., nan, nan]), 'split37_test_score': array([ 0., nan, nan, nan,  0., nan, nan,  0., nan, nan]), 'split38_test_score': array([ 0., nan, nan, nan,  0., nan, nan,  0., nan, nan]), 'split39_test_score': array([ 0., nan, nan, nan,  0., nan, nan,  0., nan, nan]), 'split40_test_score': array([ 0., nan, nan, nan,  0., nan, nan,  0., nan, nan]), 'split41_test_score': array([ 0., nan, nan, nan,  0., nan, nan,  0., nan, nan]), 'split42_test_score': array([ 0., nan, nan, nan,  0., nan, nan,  0., nan, nan]), 'split43_test_score': array([ 0., nan, nan, nan,  0., nan, nan,  0., nan, nan]), 'split44_test_score': array([ 0., nan, nan, nan,  0., nan, nan,  0., nan, nan]), 'split45_test_score': array([ 0., nan, nan, nan,  0., nan, nan,  0., nan, nan]), 'split46_test_score': array([ 1., nan, nan, nan,  1., nan, nan,  0., nan, nan]), 'split47_test_score': array([ 0., nan, nan, nan,  0., nan, nan,  0., nan, nan]), 'split48_test_score': array([ 1., nan, nan, nan,  1., nan, nan,  0., nan, nan]), 'split49_test_score': array([ 0., nan, nan, nan,  0., nan, nan,  0., nan, nan]), 'split50_test_score': array([ 0., nan, nan, nan,  0., nan, nan,  0., nan, nan]), 'split51_test_score': array([ 1., nan, nan, nan,  1., nan, nan,  0., nan, nan]), 'split52_test_score': array([ 0., nan, nan, nan,  0., nan, nan,  0., nan, nan]), 'split53_test_score': array([ 0., nan, nan, nan,  0., nan, nan,  0., nan, nan]), 'split54_test_score': array([ 1., nan, nan, nan,  1., nan, nan,  0., nan, nan]), 'split55_test_score': array([ 0., nan, nan, nan,  0., nan, nan,  0., nan, nan]), 'mean_test_score': array([0.17857143,        nan,        nan,        nan, 0.17857143,\n",
      "              nan,        nan, 0.        ,        nan,        nan]), 'std_test_score': array([0.38299305,        nan,        nan,        nan, 0.38299305,\n",
      "              nan,        nan, 0.        ,        nan,        nan]), 'rank_test_score': array([ 1,  4,  5,  6,  1,  7,  8,  3,  9, 10])}\n",
      "\n",
      "Optimal hyperparameter combination:  {'knn__n_neighbors': 30}\n",
      "Best model time 0.004994630813598633\n",
      "\n",
      "Score mean:  0.17857142857142858\n"
     ]
    }
   ],
   "source": [
    "knn_pca_model, knn_pca_scores = make_train(X_train, Y_train, pipeline, param_grid, 'knn_just_pca')"
   ]
  },
  {
   "cell_type": "markdown",
   "id": "ccb982b8",
   "metadata": {},
   "source": [
    "##### Abordagem PCA + Kmeans"
   ]
  },
  {
   "cell_type": "code",
   "execution_count": 77,
   "id": "d9f13a5b",
   "metadata": {},
   "outputs": [],
   "source": [
    "pipeline = Pipeline(steps = [(\"kmeans\", KMeans()),                     \n",
    "                             (\"knn\", KNeighborsClassifier(n_jobs=-1, metric='euclidean')),\n",
    "])\n",
    "\n",
    "param_grid = {'knn__n_neighbors': range(2, 50),\n",
    "              'kmeans__n_clusters': range(2, 50)\n",
    "              }"
   ]
  },
  {
   "cell_type": "code",
   "execution_count": 78,
   "id": "e143a0ed",
   "metadata": {
    "scrolled": false
   },
   "outputs": [
    {
     "name": "stdout",
     "output_type": "stream",
     "text": [
      "CV results\n",
      " {'mean_fit_time': array([0.05214331, 0.05494729, 0.16780106, 0.0721975 , 0.18253487,\n",
      "       0.10405457, 0.14023442, 0.12623454, 0.16801807, 0.08814928]), 'std_fit_time': array([0.00483736, 0.01595958, 0.03171985, 0.00657412, 0.01067096,\n",
      "       0.010454  , 0.01838276, 0.00991863, 0.01716456, 0.02008474]), 'mean_score_time': array([0.02554536, 0.03135201, 0.03818974, 0.0237434 , 0.02758285,\n",
      "       0.02576088, 0.02833153, 0.0303688 , 0.02474443, 0.02897732]), 'std_score_time': array([0.00812265, 0.01542665, 0.0183309 , 0.00704449, 0.0085678 ,\n",
      "       0.00708484, 0.0092536 , 0.00777018, 0.00636567, 0.01511839]), 'param_knn__n_neighbors': masked_array(data=[47, 6, 5, 25, 40, 33, 34, 6, 37, 2],\n",
      "             mask=[False, False, False, False, False, False, False, False,\n",
      "                   False, False],\n",
      "       fill_value='?',\n",
      "            dtype=object), 'param_kmeans__n_clusters': masked_array(data=[7, 5, 25, 11, 38, 18, 26, 23, 33, 12],\n",
      "             mask=[False, False, False, False, False, False, False, False,\n",
      "                   False, False],\n",
      "       fill_value='?',\n",
      "            dtype=object), 'params': [{'knn__n_neighbors': 47, 'kmeans__n_clusters': 7}, {'knn__n_neighbors': 6, 'kmeans__n_clusters': 5}, {'knn__n_neighbors': 5, 'kmeans__n_clusters': 25}, {'knn__n_neighbors': 25, 'kmeans__n_clusters': 11}, {'knn__n_neighbors': 40, 'kmeans__n_clusters': 38}, {'knn__n_neighbors': 33, 'kmeans__n_clusters': 18}, {'knn__n_neighbors': 34, 'kmeans__n_clusters': 26}, {'knn__n_neighbors': 6, 'kmeans__n_clusters': 23}, {'knn__n_neighbors': 37, 'kmeans__n_clusters': 33}, {'knn__n_neighbors': 2, 'kmeans__n_clusters': 12}], 'split0_test_score': array([0., 1., 0., 0., 0., 0., 0., 0., 1., 0.]), 'split1_test_score': array([0., 1., 0., 0., 0., 0., 0., 0., 0., 0.]), 'split2_test_score': array([0., 0., 0., 1., 0., 1., 0., 1., 1., 0.]), 'split3_test_score': array([0., 1., 1., 1., 0., 1., 1., 1., 1., 1.]), 'split4_test_score': array([0., 0., 0., 0., 0., 0., 0., 0., 0., 1.]), 'split5_test_score': array([0., 0., 1., 0., 0., 1., 0., 1., 1., 0.]), 'split6_test_score': array([0., 1., 1., 0., 1., 0., 0., 0., 0., 0.]), 'split7_test_score': array([0., 0., 0., 0., 0., 0., 0., 0., 0., 0.]), 'split8_test_score': array([0., 1., 0., 0., 0., 0., 0., 0., 0., 0.]), 'split9_test_score': array([0., 0., 0., 0., 0., 0., 1., 0., 1., 0.]), 'split10_test_score': array([0., 1., 1., 1., 0., 1., 1., 1., 1., 0.]), 'split11_test_score': array([1., 0., 0., 0., 0., 0., 0., 0., 0., 1.]), 'split12_test_score': array([0., 0., 1., 0., 0., 0., 0., 0., 0., 0.]), 'split13_test_score': array([0., 1., 0., 0., 0., 0., 0., 0., 0., 0.]), 'split14_test_score': array([0., 0., 0., 0., 0., 0., 0., 0., 0., 0.]), 'split15_test_score': array([1., 1., 0., 0., 0., 1., 0., 0., 0., 1.]), 'split16_test_score': array([0., 0., 1., 0., 0., 0., 0., 1., 0., 0.]), 'split17_test_score': array([0., 0., 0., 0., 0., 0., 1., 0., 1., 0.]), 'split18_test_score': array([0., 1., 0., 0., 0., 0., 0., 0., 0., 1.]), 'split19_test_score': array([0., 0., 0., 0., 0., 0., 0., 0., 0., 1.]), 'split20_test_score': array([0., 0., 0., 0., 0., 0., 0., 0., 0., 0.]), 'split21_test_score': array([0., 0., 0., 0., 0., 0., 0., 0., 0., 0.]), 'split22_test_score': array([0., 0., 0., 0., 0., 0., 0., 0., 0., 0.]), 'split23_test_score': array([0., 1., 0., 0., 0., 0., 0., 0., 0., 0.]), 'split24_test_score': array([0., 0., 0., 0., 0., 1., 1., 0., 1., 0.]), 'split25_test_score': array([0., 1., 0., 0., 0., 0., 0., 0., 0., 0.]), 'split26_test_score': array([0., 1., 0., 0., 0., 0., 0., 0., 0., 1.]), 'split27_test_score': array([0., 0., 0., 0., 0., 0., 0., 0., 0., 0.]), 'split28_test_score': array([0., 0., 1., 0., 0., 0., 0., 0., 0., 1.]), 'split29_test_score': array([0., 1., 0., 0., 0., 0., 0., 0., 0., 1.]), 'split30_test_score': array([0., 0., 0., 0., 0., 0., 0., 0., 0., 0.]), 'split31_test_score': array([0., 1., 0., 0., 0., 0., 0., 0., 0., 0.]), 'split32_test_score': array([0., 0., 0., 0., 0., 0., 0., 0., 0., 0.]), 'split33_test_score': array([0., 1., 0., 0., 0., 0., 0., 0., 0., 1.]), 'split34_test_score': array([0., 1., 0., 0., 0., 0., 0., 1., 0., 1.]), 'split35_test_score': array([0., 0., 0., 1., 0., 1., 1., 0., 1., 0.]), 'split36_test_score': array([0., 0., 0., 0., 0., 0., 0., 0., 0., 0.]), 'split37_test_score': array([0., 0., 0., 0., 0., 0., 0., 0., 0., 0.]), 'split38_test_score': array([0., 1., 0., 0., 0., 0., 0., 0., 0., 0.]), 'split39_test_score': array([0., 0., 0., 0., 0., 0., 1., 0., 1., 0.]), 'split40_test_score': array([0., 0., 0., 0., 0., 0., 0., 0., 0., 1.]), 'split41_test_score': array([0., 0., 0., 0., 0., 0., 0., 0., 0., 0.]), 'split42_test_score': array([0., 0., 0., 0., 0., 0., 0., 0., 0., 0.]), 'split43_test_score': array([0., 0., 0., 0., 0., 0., 0., 0., 0., 0.]), 'split44_test_score': array([0., 0., 0., 0., 0., 0., 0., 0., 0., 0.]), 'split45_test_score': array([0., 0., 1., 0., 0., 1., 0., 1., 1., 0.]), 'split46_test_score': array([0., 0., 0., 0., 0., 0., 0., 0., 0., 0.]), 'split47_test_score': array([0., 0., 0., 0., 0., 0., 0., 0., 0., 0.]), 'split48_test_score': array([0., 1., 1., 1., 0., 1., 1., 1., 1., 0.]), 'split49_test_score': array([0., 0., 0., 0., 1., 0., 1., 0., 0., 1.]), 'split50_test_score': array([0., 0., 0., 1., 1., 0., 0., 0., 1., 0.]), 'split51_test_score': array([0., 0., 0., 0., 0., 0., 0., 0., 0., 0.]), 'split52_test_score': array([0., 1., 0., 1., 0., 0., 0., 0., 1., 0.]), 'split53_test_score': array([1., 0., 0., 0., 0., 0., 0., 0., 0., 0.]), 'split54_test_score': array([0., 1., 1., 1., 0., 1., 1., 1., 1., 1.]), 'split55_test_score': array([0., 0., 0., 0., 0., 0., 0., 0., 1., 0.]), 'mean_test_score': array([0.05357143, 0.35714286, 0.17857143, 0.14285714, 0.05357143,\n",
      "       0.17857143, 0.17857143, 0.16071429, 0.28571429, 0.25      ]), 'std_test_score': array([0.22517   , 0.47915742, 0.38299305, 0.34992711, 0.22517   ,\n",
      "       0.38299305, 0.38299305, 0.36726721, 0.45175395, 0.4330127 ]), 'rank_test_score': array([9, 1, 4, 8, 9, 4, 4, 7, 2, 3])}\n",
      "\n",
      "Optimal hyperparameter combination:  {'knn__n_neighbors': 6, 'kmeans__n_clusters': 5}\n",
      "Best model time 0.05099177360534668\n",
      "\n",
      "Score mean:  0.5892857142857143\n"
     ]
    }
   ],
   "source": [
    "knn_pca_kmeans_model, knn_pca_kmeans_scores = make_train(X_train, Y_train, pipeline, param_grid, 'knn_pca_kmeans')"
   ]
  },
  {
   "cell_type": "markdown",
   "id": "48480023",
   "metadata": {},
   "source": [
    "#### Regressão Logística"
   ]
  },
  {
   "cell_type": "markdown",
   "id": "bbee01bc",
   "metadata": {},
   "source": [
    "##### Abordagem PCA"
   ]
  },
  {
   "cell_type": "code",
   "execution_count": 79,
   "id": "17fad5e1",
   "metadata": {},
   "outputs": [],
   "source": [
    "pipeline = Pipeline(steps=[(\"rl\", LogisticRegression(n_jobs=-1, penalty='l2'))])\n",
    "\n",
    "param_grid = {'rl__C': np.linspace(0.01, 1)}"
   ]
  },
  {
   "cell_type": "code",
   "execution_count": 80,
   "id": "527fb7bc",
   "metadata": {},
   "outputs": [
    {
     "name": "stdout",
     "output_type": "stream",
     "text": [
      "CV results\n",
      " {'mean_fit_time': array([0.22902934, 0.1997959 , 0.20340243, 0.2285839 , 0.21060167,\n",
      "       0.19299313, 0.19416638, 0.2130186 , 0.23474694, 0.2065917 ]), 'std_fit_time': array([0.05566573, 0.02619522, 0.03103706, 0.04333106, 0.03613041,\n",
      "       0.02588786, 0.02184633, 0.03666738, 0.0463225 , 0.0355511 ]), 'mean_score_time': array([0.00521668, 0.00509272, 0.00502584, 0.00564659, 0.00536259,\n",
      "       0.00500835, 0.00520385, 0.00503511, 0.00537809, 0.00499151]), 'std_score_time': array([0.00116006, 0.00090957, 0.00095233, 0.00141906, 0.00134214,\n",
      "       0.00070555, 0.00104156, 0.00111856, 0.00091784, 0.00109249]), 'param_rl__C': masked_array(data=[0.11102040816326529, 0.7777551020408163, 1.0,\n",
      "                   0.7373469387755102, 0.2726530612244898,\n",
      "                   0.8787755102040816, 0.1716326530612245,\n",
      "                   0.13122448979591836, 0.39387755102040817,\n",
      "                   0.6161224489795918],\n",
      "             mask=[False, False, False, False, False, False, False, False,\n",
      "                   False, False],\n",
      "       fill_value='?',\n",
      "            dtype=object), 'params': [{'rl__C': 0.11102040816326529}, {'rl__C': 0.7777551020408163}, {'rl__C': 1.0}, {'rl__C': 0.7373469387755102}, {'rl__C': 0.2726530612244898}, {'rl__C': 0.8787755102040816}, {'rl__C': 0.1716326530612245}, {'rl__C': 0.13122448979591836}, {'rl__C': 0.39387755102040817}, {'rl__C': 0.6161224489795918}], 'split0_test_score': array([0., 0., 0., 0., 0., 0., 0., 0., 0., 0.]), 'split1_test_score': array([0., 0., 0., 0., 0., 0., 0., 0., 0., 0.]), 'split2_test_score': array([0., 0., 0., 0., 0., 0., 0., 0., 0., 0.]), 'split3_test_score': array([1., 1., 1., 1., 1., 1., 1., 1., 1., 1.]), 'split4_test_score': array([0., 0., 0., 0., 0., 0., 0., 0., 0., 0.]), 'split5_test_score': array([0., 0., 0., 0., 0., 0., 0., 0., 0., 0.]), 'split6_test_score': array([0., 0., 0., 0., 0., 0., 0., 0., 0., 0.]), 'split7_test_score': array([0., 0., 0., 0., 0., 0., 0., 0., 0., 0.]), 'split8_test_score': array([0., 0., 0., 0., 0., 0., 0., 0., 0., 0.]), 'split9_test_score': array([0., 0., 0., 0., 0., 0., 0., 0., 0., 0.]), 'split10_test_score': array([0., 0., 0., 0., 0., 0., 0., 0., 0., 0.]), 'split11_test_score': array([1., 1., 1., 1., 1., 1., 1., 1., 1., 1.]), 'split12_test_score': array([0., 0., 0., 0., 0., 0., 0., 0., 0., 0.]), 'split13_test_score': array([0., 0., 0., 0., 0., 0., 0., 0., 0., 0.]), 'split14_test_score': array([0., 0., 0., 0., 0., 0., 0., 0., 0., 0.]), 'split15_test_score': array([0., 0., 0., 0., 0., 0., 0., 0., 0., 0.]), 'split16_test_score': array([0., 0., 0., 0., 0., 0., 0., 0., 0., 0.]), 'split17_test_score': array([1., 1., 1., 1., 1., 1., 1., 1., 1., 1.]), 'split18_test_score': array([1., 1., 1., 1., 1., 1., 1., 1., 1., 1.]), 'split19_test_score': array([0., 0., 0., 0., 0., 0., 0., 0., 0., 0.]), 'split20_test_score': array([0., 0., 0., 0., 0., 0., 0., 0., 0., 0.]), 'split21_test_score': array([0., 0., 0., 0., 0., 0., 0., 0., 0., 0.]), 'split22_test_score': array([0., 0., 0., 0., 0., 0., 0., 0., 0., 0.]), 'split23_test_score': array([0., 0., 0., 0., 0., 0., 0., 0., 0., 0.]), 'split24_test_score': array([0., 0., 0., 0., 0., 0., 0., 0., 0., 0.]), 'split25_test_score': array([0., 0., 0., 0., 0., 0., 0., 0., 0., 0.]), 'split26_test_score': array([0., 0., 0., 0., 0., 0., 0., 0., 0., 0.]), 'split27_test_score': array([0., 0., 0., 0., 0., 0., 0., 0., 0., 0.]), 'split28_test_score': array([1., 1., 1., 1., 1., 1., 1., 1., 1., 1.]), 'split29_test_score': array([0., 0., 0., 0., 0., 0., 0., 0., 0., 0.]), 'split30_test_score': array([0., 0., 0., 0., 0., 0., 0., 0., 0., 0.]), 'split31_test_score': array([0., 0., 0., 0., 0., 0., 0., 0., 0., 0.]), 'split32_test_score': array([0., 0., 0., 0., 0., 0., 0., 0., 0., 0.]), 'split33_test_score': array([0., 0., 0., 0., 0., 0., 0., 0., 0., 0.]), 'split34_test_score': array([0., 0., 0., 0., 0., 0., 0., 0., 0., 0.]), 'split35_test_score': array([0., 0., 0., 0., 0., 0., 0., 0., 0., 0.]), 'split36_test_score': array([0., 0., 0., 0., 0., 0., 0., 0., 0., 0.]), 'split37_test_score': array([0., 0., 0., 0., 0., 0., 0., 0., 0., 0.]), 'split38_test_score': array([0., 0., 0., 0., 0., 0., 0., 0., 0., 0.]), 'split39_test_score': array([0., 0., 0., 0., 0., 0., 0., 0., 0., 0.]), 'split40_test_score': array([1., 1., 1., 1., 1., 1., 1., 1., 1., 1.]), 'split41_test_score': array([0., 0., 0., 0., 0., 0., 0., 0., 0., 0.]), 'split42_test_score': array([0., 0., 0., 0., 0., 0., 0., 0., 0., 0.]), 'split43_test_score': array([1., 1., 1., 1., 1., 1., 1., 1., 1., 1.]), 'split44_test_score': array([0., 0., 0., 0., 0., 0., 0., 0., 0., 0.]), 'split45_test_score': array([0., 0., 0., 0., 0., 0., 0., 0., 0., 0.]), 'split46_test_score': array([0., 0., 0., 0., 0., 0., 0., 0., 0., 0.]), 'split47_test_score': array([0., 0., 0., 0., 0., 0., 0., 0., 0., 0.]), 'split48_test_score': array([0., 0., 0., 0., 0., 0., 0., 0., 0., 0.]), 'split49_test_score': array([0., 0., 0., 0., 0., 0., 0., 0., 0., 0.]), 'split50_test_score': array([0., 0., 0., 0., 0., 0., 0., 0., 0., 0.]), 'split51_test_score': array([0., 0., 0., 0., 0., 0., 0., 0., 0., 0.]), 'split52_test_score': array([0., 0., 0., 0., 0., 0., 0., 0., 0., 0.]), 'split53_test_score': array([0., 0., 0., 0., 0., 0., 0., 0., 0., 0.]), 'split54_test_score': array([0., 0., 0., 0., 0., 0., 0., 0., 0., 0.]), 'split55_test_score': array([0., 0., 0., 0., 0., 0., 0., 0., 0., 0.]), 'mean_test_score': array([0.125, 0.125, 0.125, 0.125, 0.125, 0.125, 0.125, 0.125, 0.125,\n",
      "       0.125]), 'std_test_score': array([0.33071891, 0.33071891, 0.33071891, 0.33071891, 0.33071891,\n",
      "       0.33071891, 0.33071891, 0.33071891, 0.33071891, 0.33071891]), 'rank_test_score': array([1, 1, 1, 1, 1, 1, 1, 1, 1, 1])}\n",
      "\n",
      "Optimal hyperparameter combination:  {'rl__C': 0.11102040816326529}\n",
      "Best model time 0.07599449157714844\n",
      "\n",
      "Score mean:  1.0\n"
     ]
    }
   ],
   "source": [
    "rl_pca_model, rl_pca_scores = make_train(X_train, Y_train, pipeline, param_grid, 'rl_just_pca')"
   ]
  },
  {
   "cell_type": "markdown",
   "id": "e259c18d",
   "metadata": {},
   "source": [
    "##### Abordagem PCA + Kmeans"
   ]
  },
  {
   "cell_type": "code",
   "execution_count": 81,
   "id": "075085b8",
   "metadata": {},
   "outputs": [],
   "source": [
    "pipeline = Pipeline(steps=[(\"kmeans\", KMeans()),\n",
    "                           (\"rl\", LogisticRegression(n_jobs=-1, penalty='l2'))])\n",
    "\n",
    "param_grid = {'rl__C': np.linspace(0.01, 1),\n",
    "              'kmeans__n_clusters': range(2, 50)\n",
    "              }"
   ]
  },
  {
   "cell_type": "code",
   "execution_count": 82,
   "id": "627593ab",
   "metadata": {},
   "outputs": [
    {
     "name": "stdout",
     "output_type": "stream",
     "text": [
      "CV results\n",
      " {'mean_fit_time': array([0.28686143, 0.5228328 , 0.47172761, 0.41699283, 0.56503616,\n",
      "       0.45279867, 0.4327079 , 0.46085215, 0.32127142, 0.38389419]), 'std_fit_time': array([0.05736019, 0.05635759, 0.05037701, 0.05550921, 0.08537509,\n",
      "       0.04855021, 0.05569787, 0.05177481, 0.04542522, 0.0477794 ]), 'mean_score_time': array([0.0053465 , 0.00539844, 0.00525574, 0.00543557, 0.00595438,\n",
      "       0.00573625, 0.00597194, 0.0063196 , 0.00628787, 0.00595487]), 'std_score_time': array([0.00100255, 0.00095416, 0.00091109, 0.00082076, 0.00126171,\n",
      "       0.00100592, 0.00104929, 0.00140913, 0.00121907, 0.00109292]), 'param_rl__C': masked_array(data=[0.45448979591836736, 0.9595918367346938,\n",
      "                   0.7575510204081632, 0.8787755102040816,\n",
      "                   0.7171428571428571, 0.4746938775510204,\n",
      "                   0.8383673469387755, 0.9393877551020408,\n",
      "                   0.19183673469387755, 0.4140816326530612],\n",
      "             mask=[False, False, False, False, False, False, False, False,\n",
      "                   False, False],\n",
      "       fill_value='?',\n",
      "            dtype=object), 'param_kmeans__n_clusters': masked_array(data=[17, 49, 42, 28, 45, 33, 21, 26, 9, 20],\n",
      "             mask=[False, False, False, False, False, False, False, False,\n",
      "                   False, False],\n",
      "       fill_value='?',\n",
      "            dtype=object), 'params': [{'rl__C': 0.45448979591836736, 'kmeans__n_clusters': 17}, {'rl__C': 0.9595918367346938, 'kmeans__n_clusters': 49}, {'rl__C': 0.7575510204081632, 'kmeans__n_clusters': 42}, {'rl__C': 0.8787755102040816, 'kmeans__n_clusters': 28}, {'rl__C': 0.7171428571428571, 'kmeans__n_clusters': 45}, {'rl__C': 0.4746938775510204, 'kmeans__n_clusters': 33}, {'rl__C': 0.8383673469387755, 'kmeans__n_clusters': 21}, {'rl__C': 0.9393877551020408, 'kmeans__n_clusters': 26}, {'rl__C': 0.19183673469387755, 'kmeans__n_clusters': 9}, {'rl__C': 0.4140816326530612, 'kmeans__n_clusters': 20}], 'split0_test_score': array([1., 0., 1., 1., 0., 1., 1., 1., 0., 1.]), 'split1_test_score': array([0., 0., 0., 0., 1., 0., 0., 0., 1., 1.]), 'split2_test_score': array([1., 0., 0., 0., 0., 0., 0., 0., 0., 0.]), 'split3_test_score': array([1., 1., 1., 1., 1., 1., 1., 1., 1., 1.]), 'split4_test_score': array([0., 0., 0., 0., 0., 0., 0., 0., 0., 0.]), 'split5_test_score': array([1., 0., 1., 1., 0., 1., 1., 1., 1., 1.]), 'split6_test_score': array([0., 0., 0., 0., 0., 0., 0., 0., 0., 0.]), 'split7_test_score': array([0., 0., 1., 0., 1., 0., 0., 0., 0., 0.]), 'split8_test_score': array([0., 0., 1., 0., 0., 0., 0., 0., 1., 0.]), 'split9_test_score': array([0., 0., 0., 0., 0., 0., 0., 0., 1., 0.]), 'split10_test_score': array([0., 0., 0., 0., 0., 0., 1., 0., 1., 0.]), 'split11_test_score': array([0., 1., 1., 1., 1., 1., 0., 0., 0., 0.]), 'split12_test_score': array([0., 0., 0., 0., 0., 0., 0., 0., 0., 0.]), 'split13_test_score': array([0., 0., 0., 0., 0., 1., 0., 0., 1., 0.]), 'split14_test_score': array([0., 0., 0., 0., 0., 0., 0., 0., 0., 0.]), 'split15_test_score': array([0., 0., 0., 0., 0., 0., 0., 0., 0., 0.]), 'split16_test_score': array([0., 0., 1., 0., 1., 0., 0., 1., 0., 0.]), 'split17_test_score': array([0., 1., 1., 1., 0., 1., 1., 1., 0., 0.]), 'split18_test_score': array([0., 0., 0., 0., 0., 0., 0., 0., 0., 0.]), 'split19_test_score': array([0., 0., 0., 0., 1., 1., 0., 1., 0., 0.]), 'split20_test_score': array([0., 0., 0., 0., 0., 0., 1., 0., 1., 0.]), 'split21_test_score': array([0., 0., 1., 0., 0., 0., 0., 0., 0., 0.]), 'split22_test_score': array([0., 0., 0., 0., 0., 0., 0., 0., 0., 0.]), 'split23_test_score': array([0., 0., 0., 0., 0., 0., 0., 0., 0., 0.]), 'split24_test_score': array([1., 0., 1., 1., 0., 1., 1., 1., 0., 1.]), 'split25_test_score': array([1., 0., 1., 0., 0., 1., 1., 0., 1., 0.]), 'split26_test_score': array([0., 0., 0., 0., 0., 0., 0., 0., 1., 0.]), 'split27_test_score': array([0., 1., 0., 0., 0., 0., 0., 0., 0., 0.]), 'split28_test_score': array([0., 0., 0., 0., 0., 0., 0., 0., 0., 0.]), 'split29_test_score': array([0., 0., 0., 0., 0., 0., 1., 0., 1., 0.]), 'split30_test_score': array([0., 0., 0., 0., 0., 0., 0., 0., 0., 0.]), 'split31_test_score': array([1., 0., 0., 0., 1., 0., 0., 0., 1., 0.]), 'split32_test_score': array([0., 0., 0., 0., 0., 0., 0., 0., 0., 0.]), 'split33_test_score': array([1., 0., 0., 0., 0., 0., 0., 0., 1., 1.]), 'split34_test_score': array([0., 0., 0., 0., 0., 0., 0., 0., 0., 0.]), 'split35_test_score': array([1., 1., 1., 1., 0., 1., 1., 1., 0., 1.]), 'split36_test_score': array([0., 1., 0., 0., 0., 0., 0., 0., 1., 0.]), 'split37_test_score': array([0., 0., 0., 0., 0., 0., 0., 0., 0., 1.]), 'split38_test_score': array([0., 0., 0., 0., 0., 0., 0., 0., 0., 0.]), 'split39_test_score': array([0., 0., 0., 0., 0., 0., 0., 0., 0., 0.]), 'split40_test_score': array([0., 1., 1., 0., 1., 0., 0., 0., 1., 0.]), 'split41_test_score': array([0., 0., 0., 0., 0., 0., 0., 0., 0., 0.]), 'split42_test_score': array([0., 0., 0., 0., 0., 0., 0., 0., 0., 0.]), 'split43_test_score': array([0., 0., 0., 1., 0., 0., 0., 0., 0., 0.]), 'split44_test_score': array([0., 0., 1., 0., 1., 0., 0., 0., 0., 0.]), 'split45_test_score': array([1., 0., 1., 1., 1., 1., 1., 1., 0., 1.]), 'split46_test_score': array([0., 1., 0., 0., 0., 0., 0., 0., 0., 0.]), 'split47_test_score': array([0., 0., 1., 1., 0., 0., 0., 0., 0., 0.]), 'split48_test_score': array([1., 0., 0., 1., 0., 1., 1., 0., 1., 0.]), 'split49_test_score': array([0., 0., 0., 0., 0., 0., 0., 0., 0., 0.]), 'split50_test_score': array([0., 0., 0., 0., 0., 0., 0., 0., 0., 0.]), 'split51_test_score': array([0., 0., 0., 0., 0., 0., 0., 0., 0., 0.]), 'split52_test_score': array([1., 0., 0., 1., 1., 1., 1., 1., 1., 1.]), 'split53_test_score': array([0., 0., 0., 0., 0., 0., 0., 0., 0., 0.]), 'split54_test_score': array([1., 0., 0., 0., 0., 1., 1., 1., 1., 1.]), 'split55_test_score': array([1., 1., 1., 1., 0., 1., 1., 1., 0., 1.]), 'mean_test_score': array([0.25      , 0.16071429, 0.30357143, 0.23214286, 0.19642857,\n",
      "       0.26785714, 0.26785714, 0.21428571, 0.32142857, 0.21428571]), 'std_test_score': array([0.4330127 , 0.36726721, 0.45979976, 0.42219966, 0.39729635,\n",
      "       0.44284274, 0.44284274, 0.4103259 , 0.46702489, 0.4103259 ]), 'rank_test_score': array([ 5, 10,  2,  6,  9,  3,  3,  7,  1,  7])}\n",
      "\n",
      "Optimal hyperparameter combination:  {'rl__C': 0.19183673469387755, 'kmeans__n_clusters': 9}\n",
      "Best model time 0.14798688888549805\n",
      "\n",
      "Score mean:  0.5\n"
     ]
    }
   ],
   "source": [
    "rl_pca_kmeans_model, rl_pca_kmeans_scores = make_train(X_train, Y_train, pipeline, param_grid, 'rl_pca_kmeans')"
   ]
  },
  {
   "cell_type": "markdown",
   "id": "9fbab135",
   "metadata": {},
   "source": [
    "#### XGBoost"
   ]
  },
  {
   "cell_type": "markdown",
   "id": "bd2bfd74",
   "metadata": {},
   "source": [
    "##### Abordagem PCA"
   ]
  },
  {
   "cell_type": "code",
   "execution_count": 83,
   "id": "fc0ea9bd",
   "metadata": {},
   "outputs": [],
   "source": [
    "pipeline = Pipeline(steps=[(\"xgboost\", XGBClassifier(n_jobs=-1))])\n",
    "\n",
    "param_grid = {'xgboost__max_depth': range(2, 100),\n",
    "              'xgboost__learning_rate': np.linspace(0.01, 1)\n",
    "              }"
   ]
  },
  {
   "cell_type": "code",
   "execution_count": 84,
   "id": "36099b04",
   "metadata": {},
   "outputs": [
    {
     "name": "stdout",
     "output_type": "stream",
     "text": [
      "CV results\n",
      " {'mean_fit_time': array([0.32543086, 0.3415151 , 0.33719414, 0.30970539, 0.39219304,\n",
      "       0.49763858, 0.29560265, 0.33574587, 0.36608621, 0.30342421]), 'std_fit_time': array([0.01782154, 0.02061724, 0.03491297, 0.01776825, 0.0209892 ,\n",
      "       0.04302019, 0.01793678, 0.02818027, 0.0146693 , 0.02698407]), 'mean_score_time': array([0.01053665, 0.00918043, 0.00962563, 0.00939372, 0.00887737,\n",
      "       0.00925131, 0.00873429, 0.00857287, 0.00868028, 0.00925199]), 'std_score_time': array([0.00390943, 0.00128272, 0.00181808, 0.0015657 , 0.00088865,\n",
      "       0.00146614, 0.00081374, 0.00099789, 0.00133795, 0.00269366]), 'param_xgboost__max_depth': masked_array(data=[52, 39, 56, 30, 78, 99, 65, 59, 7, 63],\n",
      "             mask=[False, False, False, False, False, False, False, False,\n",
      "                   False, False],\n",
      "       fill_value='?',\n",
      "            dtype=object), 'param_xgboost__learning_rate': masked_array(data=[0.6161224489795918, 0.39387755102040817,\n",
      "                   0.5151020408163265, 0.5757142857142857,\n",
      "                   0.23224489795918368, 0.11102040816326529,\n",
      "                   0.9393877551020408, 0.3736734693877551,\n",
      "                   0.2120408163265306, 0.8383673469387755],\n",
      "             mask=[False, False, False, False, False, False, False, False,\n",
      "                   False, False],\n",
      "       fill_value='?',\n",
      "            dtype=object), 'params': [{'xgboost__max_depth': 52, 'xgboost__learning_rate': 0.6161224489795918}, {'xgboost__max_depth': 39, 'xgboost__learning_rate': 0.39387755102040817}, {'xgboost__max_depth': 56, 'xgboost__learning_rate': 0.5151020408163265}, {'xgboost__max_depth': 30, 'xgboost__learning_rate': 0.5757142857142857}, {'xgboost__max_depth': 78, 'xgboost__learning_rate': 0.23224489795918368}, {'xgboost__max_depth': 99, 'xgboost__learning_rate': 0.11102040816326529}, {'xgboost__max_depth': 65, 'xgboost__learning_rate': 0.9393877551020408}, {'xgboost__max_depth': 59, 'xgboost__learning_rate': 0.3736734693877551}, {'xgboost__max_depth': 7, 'xgboost__learning_rate': 0.2120408163265306}, {'xgboost__max_depth': 63, 'xgboost__learning_rate': 0.8383673469387755}], 'split0_test_score': array([0., 0., 0., 0., 0., 0., 0., 0., 0., 0.]), 'split1_test_score': array([1., 1., 1., 1., 1., 1., 1., 1., 1., 1.]), 'split2_test_score': array([0., 0., 0., 0., 0., 0., 0., 0., 0., 0.]), 'split3_test_score': array([1., 1., 1., 1., 1., 1., 1., 1., 1., 1.]), 'split4_test_score': array([0., 0., 0., 0., 0., 0., 1., 0., 0., 0.]), 'split5_test_score': array([0., 0., 0., 0., 0., 0., 0., 0., 0., 0.]), 'split6_test_score': array([1., 1., 1., 1., 1., 1., 1., 1., 1., 1.]), 'split7_test_score': array([0., 0., 0., 0., 0., 0., 0., 0., 0., 0.]), 'split8_test_score': array([1., 1., 1., 1., 1., 1., 1., 1., 1., 1.]), 'split9_test_score': array([0., 0., 0., 0., 0., 0., 0., 0., 0., 0.]), 'split10_test_score': array([1., 1., 1., 1., 1., 1., 0., 1., 1., 1.]), 'split11_test_score': array([1., 1., 1., 1., 1., 1., 1., 1., 1., 1.]), 'split12_test_score': array([0., 0., 0., 0., 0., 0., 0., 0., 0., 0.]), 'split13_test_score': array([1., 1., 1., 1., 1., 1., 1., 1., 1., 1.]), 'split14_test_score': array([0., 0., 0., 0., 0., 0., 0., 0., 0., 0.]), 'split15_test_score': array([0., 0., 0., 0., 0., 0., 0., 0., 0., 0.]), 'split16_test_score': array([0., 0., 0., 0., 0., 0., 0., 0., 0., 0.]), 'split17_test_score': array([1., 1., 1., 1., 1., 1., 1., 1., 1., 1.]), 'split18_test_score': array([0., 1., 1., 1., 1., 1., 0., 1., 1., 1.]), 'split19_test_score': array([1., 1., 1., 1., 0., 0., 1., 1., 0., 0.]), 'split20_test_score': array([1., 1., 1., 1., 1., 1., 1., 1., 1., 1.]), 'split21_test_score': array([1., 1., 1., 1., 1., 1., 1., 1., 1., 1.]), 'split22_test_score': array([0., 0., 0., 0., 0., 0., 0., 0., 0., 0.]), 'split23_test_score': array([0., 0., 0., 0., 0., 0., 0., 0., 0., 0.]), 'split24_test_score': array([1., 1., 1., 1., 1., 1., 1., 1., 1., 1.]), 'split25_test_score': array([1., 1., 1., 1., 1., 1., 1., 1., 1., 1.]), 'split26_test_score': array([1., 1., 1., 1., 1., 1., 1., 1., 1., 1.]), 'split27_test_score': array([1., 1., 1., 1., 1., 1., 1., 1., 1., 1.]), 'split28_test_score': array([0., 0., 0., 0., 0., 0., 0., 0., 0., 0.]), 'split29_test_score': array([1., 1., 1., 1., 1., 1., 1., 1., 1., 1.]), 'split30_test_score': array([0., 0., 0., 0., 0., 0., 0., 0., 0., 0.]), 'split31_test_score': array([1., 1., 1., 1., 1., 1., 1., 1., 1., 1.]), 'split32_test_score': array([0., 0., 0., 0., 0., 0., 1., 0., 0., 0.]), 'split33_test_score': array([1., 1., 1., 1., 1., 1., 1., 1., 1., 1.]), 'split34_test_score': array([0., 0., 0., 0., 0., 0., 0., 0., 0., 0.]), 'split35_test_score': array([1., 1., 1., 1., 1., 1., 1., 1., 1., 1.]), 'split36_test_score': array([0., 0., 0., 0., 0., 0., 0., 0., 0., 0.]), 'split37_test_score': array([0., 0., 0., 0., 0., 0., 0., 0., 0., 0.]), 'split38_test_score': array([0., 0., 0., 0., 0., 0., 0., 0., 0., 0.]), 'split39_test_score': array([0., 0., 0., 0., 0., 0., 0., 0., 0., 0.]), 'split40_test_score': array([1., 1., 1., 1., 1., 1., 1., 1., 1., 1.]), 'split41_test_score': array([0., 0., 0., 0., 0., 0., 0., 0., 0., 0.]), 'split42_test_score': array([0., 0., 0., 0., 0., 0., 0., 0., 0., 0.]), 'split43_test_score': array([0., 0., 0., 0., 0., 0., 0., 0., 0., 0.]), 'split44_test_score': array([0., 1., 1., 1., 1., 1., 1., 1., 1., 1.]), 'split45_test_score': array([0., 0., 0., 0., 0., 0., 0., 0., 0., 0.]), 'split46_test_score': array([1., 0., 0., 0., 0., 0., 0., 0., 0., 0.]), 'split47_test_score': array([0., 0., 0., 0., 0., 0., 0., 0., 0., 0.]), 'split48_test_score': array([0., 0., 0., 0., 0., 0., 0., 0., 0., 0.]), 'split49_test_score': array([1., 1., 1., 1., 1., 1., 1., 1., 1., 1.]), 'split50_test_score': array([0., 0., 0., 0., 0., 0., 0., 0., 0., 0.]), 'split51_test_score': array([0., 0., 0., 0., 0., 0., 0., 0., 0., 0.]), 'split52_test_score': array([1., 1., 1., 1., 1., 1., 1., 1., 1., 1.]), 'split53_test_score': array([0., 0., 0., 0., 0., 0., 0., 0., 0., 0.]), 'split54_test_score': array([1., 0., 0., 0., 0., 1., 0., 0., 0., 1.]), 'split55_test_score': array([0., 0., 0., 0., 0., 0., 0., 0., 0., 1.]), 'mean_test_score': array([0.42857143, 0.42857143, 0.42857143, 0.42857143, 0.41071429,\n",
      "       0.42857143, 0.42857143, 0.42857143, 0.41071429, 0.44642857]), 'std_test_score': array([0.49487166, 0.49487166, 0.49487166, 0.49487166, 0.49196348,\n",
      "       0.49487166, 0.49487166, 0.49487166, 0.49196348, 0.49712182]), 'rank_test_score': array([2, 2, 2, 2, 9, 2, 2, 2, 9, 1])}\n",
      "\n",
      "Optimal hyperparameter combination:  {'xgboost__max_depth': 63, 'xgboost__learning_rate': 0.8383673469387755}\n",
      "Best model time 0.23499417304992676\n",
      "\n",
      "Score mean:  1.0\n"
     ]
    }
   ],
   "source": [
    "xgb_pca_model, xgb_pca_scores = make_train(X_train, Y_train, pipeline, param_grid, 'xgb_just_pca')"
   ]
  },
  {
   "cell_type": "markdown",
   "id": "5c8889ef",
   "metadata": {},
   "source": [
    "##### Abordagem PCA + Kmeans"
   ]
  },
  {
   "cell_type": "code",
   "execution_count": 85,
   "id": "2a1c67d8",
   "metadata": {},
   "outputs": [],
   "source": [
    "pipeline = Pipeline(steps = [(\"kmeans\", KMeans()),\n",
    "                             (\"xgboost\", XGBClassifier(n_jobs=-1)),\n",
    "])\n",
    "\n",
    "param_grid = {'xgboost__max_depth': range(2, 100),\n",
    "              'xgboost__learning_rate': np.linspace(0.01, 1),\n",
    "              'kmeans__n_clusters': range(2, 50)\n",
    "              }"
   ]
  },
  {
   "cell_type": "code",
   "execution_count": 86,
   "id": "dc46dc42",
   "metadata": {
    "scrolled": false
   },
   "outputs": [
    {
     "name": "stdout",
     "output_type": "stream",
     "text": [
      "CV results\n",
      " {'mean_fit_time': array([0.67592109, 0.50530142, 0.74174641, 0.45617696, 0.78562712,\n",
      "       0.49799918, 0.37411116, 0.49292053, 0.30965895, 0.49200948]), 'std_fit_time': array([0.08592357, 0.03085686, 0.05353852, 0.02357291, 0.05409968,\n",
      "       0.05678492, 0.01857048, 0.02943323, 0.00951292, 0.02543891]), 'mean_score_time': array([0.01126899, 0.0106972 , 0.00983316, 0.00989458, 0.0100557 ,\n",
      "       0.01075093, 0.0097145 , 0.00950093, 0.00912728, 0.00919788]), 'std_score_time': array([0.00439692, 0.00454197, 0.00150648, 0.00231159, 0.00368425,\n",
      "       0.00445136, 0.00183947, 0.00138802, 0.00086689, 0.00157244]), 'param_xgboost__max_depth': masked_array(data=[2, 57, 49, 19, 91, 2, 78, 48, 69, 17],\n",
      "             mask=[False, False, False, False, False, False, False, False,\n",
      "                   False, False],\n",
      "       fill_value='?',\n",
      "            dtype=object), 'param_xgboost__learning_rate': masked_array(data=[0.13122448979591836, 0.6969387755102041,\n",
      "                   0.2524489795918367, 0.656530612244898,\n",
      "                   0.1716326530612245, 0.5353061224489796,\n",
      "                   0.2120408163265306, 0.05040816326530612,\n",
      "                   0.6969387755102041, 0.2726530612244898],\n",
      "             mask=[False, False, False, False, False, False, False, False,\n",
      "                   False, False],\n",
      "       fill_value='?',\n",
      "            dtype=object), 'param_kmeans__n_clusters': masked_array(data=[36, 26, 46, 20, 47, 21, 7, 14, 5, 24],\n",
      "             mask=[False, False, False, False, False, False, False, False,\n",
      "                   False, False],\n",
      "       fill_value='?',\n",
      "            dtype=object), 'params': [{'xgboost__max_depth': 2, 'xgboost__learning_rate': 0.13122448979591836, 'kmeans__n_clusters': 36}, {'xgboost__max_depth': 57, 'xgboost__learning_rate': 0.6969387755102041, 'kmeans__n_clusters': 26}, {'xgboost__max_depth': 49, 'xgboost__learning_rate': 0.2524489795918367, 'kmeans__n_clusters': 46}, {'xgboost__max_depth': 19, 'xgboost__learning_rate': 0.656530612244898, 'kmeans__n_clusters': 20}, {'xgboost__max_depth': 91, 'xgboost__learning_rate': 0.1716326530612245, 'kmeans__n_clusters': 47}, {'xgboost__max_depth': 2, 'xgboost__learning_rate': 0.5353061224489796, 'kmeans__n_clusters': 21}, {'xgboost__max_depth': 78, 'xgboost__learning_rate': 0.2120408163265306, 'kmeans__n_clusters': 7}, {'xgboost__max_depth': 48, 'xgboost__learning_rate': 0.05040816326530612, 'kmeans__n_clusters': 14}, {'xgboost__max_depth': 69, 'xgboost__learning_rate': 0.6969387755102041, 'kmeans__n_clusters': 5}, {'xgboost__max_depth': 17, 'xgboost__learning_rate': 0.2726530612244898, 'kmeans__n_clusters': 24}], 'split0_test_score': array([1., 1., 1., 1., 1., 1., 1., 0., 0., 1.]), 'split1_test_score': array([1., 1., 1., 1., 1., 1., 1., 1., 1., 1.]), 'split2_test_score': array([0., 0., 0., 0., 0., 0., 0., 0., 0., 0.]), 'split3_test_score': array([1., 1., 0., 1., 0., 1., 1., 1., 1., 1.]), 'split4_test_score': array([1., 0., 0., 0., 0., 1., 0., 0., 1., 1.]), 'split5_test_score': array([0., 0., 0., 0., 0., 0., 0., 0., 0., 0.]), 'split6_test_score': array([1., 1., 1., 1., 1., 1., 1., 1., 1., 1.]), 'split7_test_score': array([0., 0., 0., 0., 0., 0., 0., 0., 0., 0.]), 'split8_test_score': array([1., 1., 1., 1., 1., 1., 1., 1., 1., 1.]), 'split9_test_score': array([0., 0., 0., 0., 0., 0., 0., 0., 0., 0.]), 'split10_test_score': array([0., 0., 0., 0., 0., 0., 0., 0., 0., 0.]), 'split11_test_score': array([1., 1., 1., 1., 1., 1., 1., 1., 1., 1.]), 'split12_test_score': array([0., 0., 0., 1., 0., 0., 0., 1., 0., 0.]), 'split13_test_score': array([1., 1., 1., 1., 1., 1., 1., 1., 1., 1.]), 'split14_test_score': array([0., 0., 0., 1., 0., 0., 1., 1., 1., 0.]), 'split15_test_score': array([1., 1., 1., 0., 0., 0., 1., 1., 0., 1.]), 'split16_test_score': array([1., 1., 1., 0., 1., 1., 1., 1., 1., 1.]), 'split17_test_score': array([0., 0., 0., 0., 0., 0., 0., 0., 0., 0.]), 'split18_test_score': array([0., 0., 0., 0., 0., 0., 0., 0., 0., 0.]), 'split19_test_score': array([0., 0., 0., 0., 0., 0., 0., 0., 0., 0.]), 'split20_test_score': array([0., 0., 0., 0., 0., 0., 0., 0., 0., 0.]), 'split21_test_score': array([0., 0., 0., 0., 0., 0., 0., 0., 0., 0.]), 'split22_test_score': array([0., 0., 0., 0., 0., 0., 0., 0., 0., 0.]), 'split23_test_score': array([0., 0., 0., 0., 0., 0., 1., 0., 1., 0.]), 'split24_test_score': array([0., 0., 0., 0., 0., 0., 0., 0., 1., 0.]), 'split25_test_score': array([1., 1., 1., 1., 1., 1., 1., 1., 1., 1.]), 'split26_test_score': array([1., 1., 1., 1., 1., 1., 0., 1., 1., 1.]), 'split27_test_score': array([0., 0., 0., 0., 0., 0., 0., 0., 0., 0.]), 'split28_test_score': array([0., 0., 0., 0., 0., 0., 0., 0., 0., 0.]), 'split29_test_score': array([1., 1., 1., 1., 1., 1., 1., 1., 1., 1.]), 'split30_test_score': array([0., 0., 0., 0., 0., 0., 0., 0., 0., 0.]), 'split31_test_score': array([1., 1., 1., 1., 1., 1., 1., 1., 1., 1.]), 'split32_test_score': array([0., 0., 0., 0., 0., 0., 0., 0., 0., 0.]), 'split33_test_score': array([1., 1., 1., 1., 1., 1., 1., 1., 1., 1.]), 'split34_test_score': array([0., 0., 0., 1., 0., 0., 0., 0., 0., 0.]), 'split35_test_score': array([1., 1., 1., 1., 1., 1., 1., 1., 0., 1.]), 'split36_test_score': array([0., 0., 0., 0., 0., 0., 0., 0., 0., 0.]), 'split37_test_score': array([0., 0., 0., 0., 0., 0., 0., 0., 0., 0.]), 'split38_test_score': array([0., 1., 0., 0., 0., 1., 0., 0., 0., 1.]), 'split39_test_score': array([0., 0., 0., 0., 0., 0., 0., 0., 0., 0.]), 'split40_test_score': array([1., 1., 1., 1., 1., 1., 1., 1., 1., 1.]), 'split41_test_score': array([0., 0., 0., 0., 0., 0., 0., 0., 0., 0.]), 'split42_test_score': array([0., 0., 0., 0., 0., 0., 0., 0., 0., 0.]), 'split43_test_score': array([0., 0., 0., 0., 0., 0., 0., 0., 0., 0.]), 'split44_test_score': array([0., 0., 0., 0., 0., 0., 0., 0., 0., 0.]), 'split45_test_score': array([0., 0., 0., 0., 0., 0., 0., 0., 0., 0.]), 'split46_test_score': array([0., 0., 0., 0., 0., 0., 0., 0., 0., 0.]), 'split47_test_score': array([0., 0., 0., 0., 0., 0., 0., 0., 0., 0.]), 'split48_test_score': array([0., 1., 0., 1., 1., 1., 1., 1., 1., 1.]), 'split49_test_score': array([1., 1., 1., 1., 1., 1., 1., 1., 0., 1.]), 'split50_test_score': array([0., 0., 0., 0., 0., 0., 0., 0., 0., 0.]), 'split51_test_score': array([0., 0., 0., 0., 0., 0., 0., 0., 0., 0.]), 'split52_test_score': array([0., 0., 0., 0., 0., 0., 0., 0., 0., 0.]), 'split53_test_score': array([0., 0., 0., 0., 0., 0., 0., 0., 0., 0.]), 'split54_test_score': array([1., 1., 1., 1., 1., 1., 1., 1., 1., 1.]), 'split55_test_score': array([0., 0., 0., 0., 1., 0., 0., 0., 0., 0.]), 'mean_test_score': array([0.33928571, 0.35714286, 0.30357143, 0.35714286, 0.32142857,\n",
      "       0.35714286, 0.35714286, 0.35714286, 0.33928571, 0.375     ]), 'std_test_score': array([0.47346691, 0.47915742, 0.45979976, 0.47915742, 0.46702489,\n",
      "       0.47915742, 0.47915742, 0.47915742, 0.47346691, 0.48412292]), 'rank_test_score': array([ 7,  2, 10,  2,  9,  2,  2,  2,  7,  1])}\n",
      "\n",
      "Optimal hyperparameter combination:  {'xgboost__max_depth': 17, 'xgboost__learning_rate': 0.2726530612244898, 'kmeans__n_clusters': 24}\n",
      "Best model time 0.2810070514678955\n",
      "\n",
      "Score mean:  1.0\n"
     ]
    }
   ],
   "source": [
    "xgb_pca_kmeans_model, xgb_pca_kmeans_scores = make_train(X_train, Y_train, pipeline, param_grid, 'xgb_pca_kmeans')"
   ]
  },
  {
   "cell_type": "markdown",
   "id": "d728dce8",
   "metadata": {},
   "source": [
    "### Validação dos modelos"
   ]
  },
  {
   "cell_type": "code",
   "execution_count": 87,
   "id": "c373b2c4",
   "metadata": {},
   "outputs": [],
   "source": [
    "x_train, x_test, y_train, y_test = train_test_split(X_pca, Y_encoder, test_size = 0.3, random_state =42)"
   ]
  },
  {
   "cell_type": "code",
   "execution_count": 88,
   "id": "ab55d467",
   "metadata": {},
   "outputs": [
    {
     "name": "stdout",
     "output_type": "stream",
     "text": [
      "Melhores parâmetros:  {'rf__min_samples_split': 29, 'rf__max_depth': 57, 'kmeans__n_clusters': 30}\n"
     ]
    }
   ],
   "source": [
    "print(\"Melhores parâmetros: \", rf_pca_kmeans_model)"
   ]
  },
  {
   "cell_type": "code",
   "execution_count": 89,
   "id": "3ca52a33",
   "metadata": {},
   "outputs": [
    {
     "name": "stdout",
     "output_type": "stream",
     "text": [
      "Métricas\n",
      "\n",
      "Acurácia  0.56\n",
      "Precisão  0.7264285714285714\n",
      "Revocação  0.56\n",
      "F1  0.5332427572427573\n"
     ]
    },
    {
     "data": {
      "text/plain": [
       "<sklearn.metrics._plot.confusion_matrix.ConfusionMatrixDisplay at 0x20a9c4c2b50>"
      ]
     },
     "execution_count": 89,
     "metadata": {},
     "output_type": "execute_result"
    },
    {
     "data": {
      "image/png": "[encoded data removed]",
      "text/plain": [
       "<Figure size 432x288 with 2 Axes>"
      ]
     },
     "metadata": {
      "needs_background": "light"
     },
     "output_type": "display_data"
    }
   ],
   "source": [
    "pipeline = Pipeline([\n",
    "    (\"rf\", RandomForestClassifier(\n",
    "        n_jobs=-1, criterion='entropy', \n",
    "        min_samples_split= rf_pca_model['rf__min_samples_split'], \n",
    "        max_depth= rf_pca_model['rf__max_depth']))\n",
    "])\n",
    "\n",
    "pipeline.fit(x_train, y_train)\n",
    "preds = pipeline.predict(x_test)\n",
    "\n",
    "rf_pca_acc = accuracy_score(y_test, preds)\n",
    "rf_pca_prec = precision_score(y_test, preds, average='weighted')\n",
    "rf_pca_rec = recall_score(y_test, preds, average='weighted')\n",
    "rf_pca_f1 = f1_score(y_test, preds, average='weighted')\n",
    "\n",
    "print(\"Métricas\\n\")\n",
    "print(\"Acurácia \", rf_pca_acc)\n",
    "print(\"Precisão \", rf_pca_prec)\n",
    "print(\"Revocação \", rf_pca_rec)\n",
    "print(\"F1 \", rf_pca_f1)\n",
    "\n",
    "plot_confusion_matrix(pipeline, x_test, y_test)"
   ]
  },
  {
   "cell_type": "code",
   "execution_count": 90,
   "id": "f7581f43",
   "metadata": {},
   "outputs": [
    {
     "name": "stdout",
     "output_type": "stream",
     "text": [
      "Melhores parâmetros:  {'rf__min_samples_split': 29, 'rf__max_depth': 57, 'kmeans__n_clusters': 30}\n"
     ]
    }
   ],
   "source": [
    "print(\"Melhores parâmetros: \", rf_pca_kmeans_model)"
   ]
  },
  {
   "cell_type": "code",
   "execution_count": 91,
   "id": "e9c21740",
   "metadata": {},
   "outputs": [
    {
     "name": "stdout",
     "output_type": "stream",
     "text": [
      "Métricas\n",
      "\n",
      "Acurácia  0.32\n",
      "Precisão  0.1733333333333333\n",
      "Revocação  0.32\n",
      "F1  0.22363636363636363\n"
     ]
    },
    {
     "data": {
      "text/plain": [
       "<sklearn.metrics._plot.confusion_matrix.ConfusionMatrixDisplay at 0x20acad6afa0>"
      ]
     },
     "execution_count": 91,
     "metadata": {},
     "output_type": "execute_result"
    },
    {
     "data": {
      "image/png": "[encoded data removed]",
      "text/plain": [
       "<Figure size 432x288 with 2 Axes>"
      ]
     },
     "metadata": {
      "needs_background": "light"
     },
     "output_type": "display_data"
    }
   ],
   "source": [
    "pipeline = Pipeline([\n",
    "    (\"kmeans\", KMeans(n_clusters= rf_pca_kmeans_model['kmeans__n_clusters'])),\n",
    "    (\"rf\", RandomForestClassifier(\n",
    "        n_jobs=-1, criterion='entropy', \n",
    "        min_samples_split= rf_pca_kmeans_model['rf__min_samples_split'], \n",
    "        max_depth= rf_pca_kmeans_model['rf__max_depth']))\n",
    "])\n",
    "\n",
    "pipeline.fit(x_train, y_train)\n",
    "preds = pipeline.predict(x_test)\n",
    "\n",
    "rf_pca_kmeans_acc = accuracy_score(y_test, preds)\n",
    "rf_pca_kmeans_prec = precision_score(y_test, preds, average='weighted')\n",
    "rf_pca_kmeans_rec = recall_score(y_test, preds, average='weighted')\n",
    "rf_pca_kmeans_f1 = f1_score(y_test, preds, average='weighted')\n",
    "\n",
    "print(\"Métricas\\n\")\n",
    "print(\"Acurácia \", rf_pca_kmeans_acc)\n",
    "print(\"Precisão \", rf_pca_kmeans_prec)\n",
    "print(\"Revocação \", rf_pca_kmeans_rec)\n",
    "print(\"F1 \", rf_pca_kmeans_f1)\n",
    "\n",
    "plot_confusion_matrix(pipeline, x_test, y_test)"
   ]
  },
  {
   "cell_type": "code",
   "execution_count": 92,
   "id": "135c8a2b",
   "metadata": {},
   "outputs": [
    {
     "name": "stdout",
     "output_type": "stream",
     "text": [
      "Melhores parâmetros:  {'knn__n_neighbors': 30}\n"
     ]
    }
   ],
   "source": [
    "print(\"Melhores parâmetros: \", knn_pca_model)"
   ]
  },
  {
   "cell_type": "code",
   "execution_count": 93,
   "id": "faf38d19",
   "metadata": {},
   "outputs": [
    {
     "name": "stdout",
     "output_type": "stream",
     "text": [
      "Métricas\n",
      "\n",
      "Acurácia  0.2\n",
      "Precisão  0.22666666666666668\n",
      "Revocação  0.2\n",
      "F1  0.11238095238095239\n"
     ]
    },
    {
     "data": {
      "text/plain": [
       "<sklearn.metrics._plot.confusion_matrix.ConfusionMatrixDisplay at 0x20acac192e0>"
      ]
     },
     "execution_count": 93,
     "metadata": {},
     "output_type": "execute_result"
    },
    {
     "data": {
      "image/png": "[encoded data removed]",
      "text/plain": [
       "<Figure size 432x288 with 2 Axes>"
      ]
     },
     "metadata": {
      "needs_background": "light"
     },
     "output_type": "display_data"
    }
   ],
   "source": [
    "pipeline = Pipeline(steps=[\n",
    "    (\"knn\", KNeighborsClassifier(\n",
    "        n_jobs=-1,\n",
    "        metric='euclidean'))\n",
    "])\n",
    "\n",
    "pipeline.fit(x_train, y_train)\n",
    "preds = pipeline.predict(x_test)\n",
    "\n",
    "knn_pca_acc = accuracy_score(y_test, preds)\n",
    "knn_pca_prec = precision_score(y_test, preds, average='weighted')\n",
    "knn_pca_rec = recall_score(y_test, preds, average='weighted')\n",
    "knn_pca_f1 = f1_score(y_test, preds, average='weighted')\n",
    "\n",
    "print(\"Métricas\\n\")\n",
    "print(\"Acurácia \", knn_pca_acc)\n",
    "print(\"Precisão \", knn_pca_prec)\n",
    "print(\"Revocação \", knn_pca_rec)\n",
    "print(\"F1 \", knn_pca_f1)\n",
    "\n",
    "plot_confusion_matrix(pipeline, x_test, y_test)"
   ]
  },
  {
   "cell_type": "code",
   "execution_count": 94,
   "id": "dbe9ff2c",
   "metadata": {},
   "outputs": [
    {
     "name": "stdout",
     "output_type": "stream",
     "text": [
      "Melhores parâmetros:  {'knn__n_neighbors': 6, 'kmeans__n_clusters': 5}\n"
     ]
    }
   ],
   "source": [
    "print(\"Melhores parâmetros: \", knn_pca_kmeans_model)"
   ]
  },
  {
   "cell_type": "code",
   "execution_count": 95,
   "id": "b33a331e",
   "metadata": {},
   "outputs": [
    {
     "name": "stdout",
     "output_type": "stream",
     "text": [
      "Métricas\n",
      "\n",
      "Acurácia  0.28\n",
      "Precisão  0.26476190476190475\n",
      "Revocação  0.28\n",
      "F1  0.25807792207792213\n"
     ]
    },
    {
     "data": {
      "text/plain": [
       "<sklearn.metrics._plot.confusion_matrix.ConfusionMatrixDisplay at 0x20acac2ac10>"
      ]
     },
     "execution_count": 95,
     "metadata": {},
     "output_type": "execute_result"
    },
    {
     "data": {
      "image/png": "[encoded data removed]",
      "text/plain": [
       "<Figure size 432x288 with 2 Axes>"
      ]
     },
     "metadata": {
      "needs_background": "light"
     },
     "output_type": "display_data"
    }
   ],
   "source": [
    "pipeline = Pipeline(steps = [(\"kmeans\", KMeans(n_clusters=knn_pca_kmeans_model['kmeans__n_clusters'])),                     \n",
    "                             (\"knn\", KNeighborsClassifier(\n",
    "                                 n_jobs=-1, \n",
    "                                 metric='euclidean', \n",
    "                                 n_neighbors=knn_pca_kmeans_model['knn__n_neighbors'])),\n",
    "])\n",
    "\n",
    "pipeline.fit(x_train, y_train)\n",
    "preds = pipeline.predict(x_test)\n",
    "\n",
    "\n",
    "knn_pca_kmeans_acc = accuracy_score(y_test, preds)\n",
    "knn_pca_kmeans_prec = precision_score(y_test, preds, average='weighted')\n",
    "knn_pca_kmeans_rec = recall_score(y_test, preds, average='weighted')\n",
    "knn_pca_kmeans_f1 = f1_score(y_test, preds, average='weighted')\n",
    "\n",
    "print(\"Métricas\\n\")\n",
    "print(\"Acurácia \", knn_pca_kmeans_acc)\n",
    "print(\"Precisão \", knn_pca_kmeans_prec)\n",
    "print(\"Revocação \", knn_pca_kmeans_rec)\n",
    "print(\"F1 \", knn_pca_kmeans_f1)\n",
    "\n",
    "plot_confusion_matrix(pipeline, x_test, y_test)"
   ]
  },
  {
   "cell_type": "code",
   "execution_count": 96,
   "id": "40a4f34a",
   "metadata": {},
   "outputs": [
    {
     "name": "stdout",
     "output_type": "stream",
     "text": [
      "Melhores parâmetros:  {'rl__C': 0.11102040816326529}\n"
     ]
    }
   ],
   "source": [
    "print(\"Melhores parâmetros: \", rl_pca_model)"
   ]
  },
  {
   "cell_type": "code",
   "execution_count": 97,
   "id": "680f74a6",
   "metadata": {},
   "outputs": [
    {
     "name": "stdout",
     "output_type": "stream",
     "text": [
      "Métricas\n",
      "\n",
      "Acurácia  0.24\n",
      "Precisão  0.29692307692307696\n",
      "Revocação  0.24\n",
      "F1  0.21875630252100844\n"
     ]
    },
    {
     "data": {
      "text/plain": [
       "<sklearn.metrics._plot.confusion_matrix.ConfusionMatrixDisplay at 0x20ac9fabca0>"
      ]
     },
     "execution_count": 97,
     "metadata": {},
     "output_type": "execute_result"
    },
    {
     "data": {
      "image/png": "[encoded data removed]",
      "text/plain": [
       "<Figure size 432x288 with 2 Axes>"
      ]
     },
     "metadata": {
      "needs_background": "light"
     },
     "output_type": "display_data"
    }
   ],
   "source": [
    "pipeline = Pipeline(steps=[(\"rl\", LogisticRegression(n_jobs=-1, penalty='l2', C=rl_pca_model['rl__C']))])\n",
    "\n",
    "pipeline.fit(x_train, y_train)\n",
    "preds = pipeline.predict(x_test)\n",
    "\n",
    "rl_pca_acc = accuracy_score(y_test, preds)\n",
    "rl_pca_prec = precision_score(y_test, preds, average='weighted')\n",
    "rl_pca_rec = recall_score(y_test, preds, average='weighted')\n",
    "rl_pca_f1 = f1_score(y_test, preds, average='weighted')\n",
    "\n",
    "print(\"Métricas\\n\")\n",
    "print(\"Acurácia \", rl_pca_acc)\n",
    "print(\"Precisão \", rl_pca_prec)\n",
    "print(\"Revocação \", rl_pca_rec)\n",
    "print(\"F1 \", rl_pca_f1)\n",
    "\n",
    "plot_confusion_matrix(pipeline, x_test, y_test)"
   ]
  },
  {
   "cell_type": "code",
   "execution_count": 98,
   "id": "4d925f61",
   "metadata": {},
   "outputs": [
    {
     "name": "stdout",
     "output_type": "stream",
     "text": [
      "Melhores parâmetros:  {'rl__C': 0.19183673469387755, 'kmeans__n_clusters': 9}\n"
     ]
    }
   ],
   "source": [
    "print(\"Melhores parâmetros: \", rl_pca_kmeans_model)"
   ]
  },
  {
   "cell_type": "code",
   "execution_count": 99,
   "id": "b9db1700",
   "metadata": {},
   "outputs": [
    {
     "name": "stdout",
     "output_type": "stream",
     "text": [
      "Métricas\n",
      "\n",
      "Acurácia  0.36\n",
      "Precisão  0.31587301587301586\n",
      "Revocação  0.36\n",
      "F1  0.26950649350649347\n"
     ]
    },
    {
     "data": {
      "text/plain": [
       "<sklearn.metrics._plot.confusion_matrix.ConfusionMatrixDisplay at 0x20acaf611c0>"
      ]
     },
     "execution_count": 99,
     "metadata": {},
     "output_type": "execute_result"
    },
    {
     "data": {
      "image/png": "[encoded data removed]",
      "text/plain": [
       "<Figure size 432x288 with 2 Axes>"
      ]
     },
     "metadata": {
      "needs_background": "light"
     },
     "output_type": "display_data"
    }
   ],
   "source": [
    "pipeline = Pipeline(steps=[(\"kmeans\", KMeans(n_clusters=rl_pca_kmeans_model['kmeans__n_clusters'])),\n",
    "                           (\"rl\", LogisticRegression(n_jobs=-1, penalty='l2', C=rl_pca_kmeans_model['rl__C']))])\n",
    "\n",
    "pipeline.fit(x_train, y_train)\n",
    "preds = pipeline.predict(x_test)\n",
    "\n",
    "rl_pca_kmeans_acc = accuracy_score(y_test, preds)\n",
    "rl_pca_kmeans_prec = precision_score(y_test, preds, average='weighted')\n",
    "rl_pca_kmeans_rec = recall_score(y_test, preds, average='weighted')\n",
    "rl_pca_kmeans_f1 = f1_score(y_test, preds, average='weighted')\n",
    "\n",
    "print(\"Métricas\\n\")\n",
    "print(\"Acurácia \", rl_pca_kmeans_acc)\n",
    "print(\"Precisão \", rl_pca_kmeans_prec)\n",
    "print(\"Revocação \", rl_pca_kmeans_rec)\n",
    "print(\"F1 \", rl_pca_kmeans_f1)\n",
    "\n",
    "plot_confusion_matrix(pipeline, x_test, y_test)"
   ]
  },
  {
   "cell_type": "code",
   "execution_count": 100,
   "id": "911a79f4",
   "metadata": {},
   "outputs": [
    {
     "name": "stdout",
     "output_type": "stream",
     "text": [
      "Melhores parâmetros:  {'xgboost__max_depth': 63, 'xgboost__learning_rate': 0.8383673469387755}\n"
     ]
    }
   ],
   "source": [
    "print(\"Melhores parâmetros: \", xgb_pca_model)"
   ]
  },
  {
   "cell_type": "code",
   "execution_count": 101,
   "id": "f6b9ad00",
   "metadata": {},
   "outputs": [
    {
     "name": "stdout",
     "output_type": "stream",
     "text": [
      "Métricas\n",
      "\n",
      "Acurácia  0.52\n",
      "Precisão  0.4915555555555555\n",
      "Revocação  0.52\n",
      "F1  0.4796190476190476\n"
     ]
    },
    {
     "data": {
      "text/plain": [
       "<sklearn.metrics._plot.confusion_matrix.ConfusionMatrixDisplay at 0x20acb13faf0>"
      ]
     },
     "execution_count": 101,
     "metadata": {},
     "output_type": "execute_result"
    },
    {
     "data": {
      "image/png": "[encoded data removed]",
      "text/plain": [
       "<Figure size 432x288 with 2 Axes>"
      ]
     },
     "metadata": {
      "needs_background": "light"
     },
     "output_type": "display_data"
    }
   ],
   "source": [
    "pipeline = Pipeline(steps=[\n",
    "    (\"xgboost\", XGBClassifier(\n",
    "        n_jobs=-1, \n",
    "        max_depth=xgb_pca_model['xgboost__max_depth'], \n",
    "        learning_rate=xgb_pca_model['xgboost__learning_rate']))\n",
    "])\n",
    "\n",
    "pipeline.fit(x_train, y_train)\n",
    "preds = pipeline.predict(x_test)\n",
    "\n",
    "xgb_pca_acc = accuracy_score(y_test, preds)\n",
    "xgb_pca_prec = precision_score(y_test, preds, average='weighted')\n",
    "xgb_pca_rec = recall_score(y_test, preds, average='weighted')\n",
    "xgb_pca_f1 = f1_score(y_test, preds, average='weighted')\n",
    "\n",
    "print(\"Métricas\\n\")\n",
    "print(\"Acurácia \", xgb_pca_acc)\n",
    "print(\"Precisão \", xgb_pca_prec)\n",
    "print(\"Revocação \", xgb_pca_rec)\n",
    "print(\"F1 \", xgb_pca_f1)\n",
    "\n",
    "plot_confusion_matrix(pipeline, x_test, y_test)"
   ]
  },
  {
   "cell_type": "code",
   "execution_count": 129,
   "id": "3a9c72bf",
   "metadata": {},
   "outputs": [
    {
     "name": "stdout",
     "output_type": "stream",
     "text": [
      "Melhores parâmetros:  {'xgboost__max_depth': 17, 'xgboost__learning_rate': 0.2726530612244898, 'kmeans__n_clusters': 24}\n"
     ]
    }
   ],
   "source": [
    "print(\"Melhores parâmetros: \", xgb_pca_kmeans_model)"
   ]
  },
  {
   "cell_type": "code",
   "execution_count": 130,
   "id": "d1ad4774",
   "metadata": {},
   "outputs": [
    {
     "name": "stdout",
     "output_type": "stream",
     "text": [
      "Métricas\n",
      "\n",
      "Acurácia  0.4\n",
      "Precisão  0.3325714285714285\n",
      "Revocação  0.4\n",
      "F1  0.3474747474747475\n"
     ]
    },
    {
     "data": {
      "text/plain": [
       "<sklearn.metrics._plot.confusion_matrix.ConfusionMatrixDisplay at 0x20acabee520>"
      ]
     },
     "execution_count": 130,
     "metadata": {},
     "output_type": "execute_result"
    },
    {
     "data": {
      "image/png": "[encoded data removed]",
      "text/plain": [
       "<Figure size 432x288 with 2 Axes>"
      ]
     },
     "metadata": {
      "needs_background": "light"
     },
     "output_type": "display_data"
    }
   ],
   "source": [
    "pipeline = Pipeline(steps=[\n",
    "    (\"kmeans\", KMeans(n_clusters=xgb_pca_kmeans_model['kmeans__n_clusters'])),\n",
    "    (\"xgboost\", XGBClassifier(\n",
    "        n_jobs=-1, \n",
    "        max_depth=xgb_pca_kmeans_model['xgboost__max_depth'], \n",
    "        learning_rate=xgb_pca_kmeans_model['xgboost__learning_rate']))\n",
    "])\n",
    "\n",
    "pipeline.fit(x_train, y_train)\n",
    "preds = pipeline.predict(x_test)\n",
    "\n",
    "xgb_pca_kmeans_acc = accuracy_score(y_test, preds)\n",
    "xgb_pca_kmeans_prec = precision_score(y_test, preds, average='weighted')\n",
    "xgb_pca_kmeans_rec = recall_score(y_test, preds, average='weighted')\n",
    "xgb_pca_kmeans_f1 = f1_score(y_test, preds, average='weighted')\n",
    "\n",
    "print(\"Métricas\\n\")\n",
    "print(\"Acurácia \", xgb_pca_kmeans_acc)\n",
    "print(\"Precisão \", xgb_pca_kmeans_prec)\n",
    "print(\"Revocação \", xgb_pca_kmeans_rec)\n",
    "print(\"F1 \", xgb_pca_kmeans_f1)\n",
    "\n",
    "plot_confusion_matrix(pipeline, x_test, y_test)"
   ]
  },
  {
   "cell_type": "markdown",
   "id": "efa7da52",
   "metadata": {},
   "source": [
    "#### Relatório das métricas"
   ]
  },
  {
   "cell_type": "code",
   "execution_count": 104,
   "id": "0f9724e5",
   "metadata": {},
   "outputs": [],
   "source": [
    "acc_pca = []\n",
    "acc_pca.append(rf_pca_acc)\n",
    "acc_pca.append(knn_pca_acc)\n",
    "acc_pca.append(rl_pca_acc)\n",
    "acc_pca.append(xgb_pca_acc)\n",
    "\n",
    "prec_pca = []\n",
    "prec_pca.append(rf_pca_prec)\n",
    "prec_pca.append(knn_pca_prec)\n",
    "prec_pca.append(rl_pca_prec)\n",
    "prec_pca.append(xgb_pca_prec)\n",
    "\n",
    "rec_pca = []\n",
    "rec_pca.append(rf_pca_rec)\n",
    "rec_pca.append(knn_pca_rec)\n",
    "rec_pca.append(rl_pca_rec)\n",
    "rec_pca.append(xgb_pca_rec)\n",
    "\n",
    "f1_pca = []\n",
    "f1_pca.append(rf_pca_f1)\n",
    "f1_pca.append(knn_pca_f1)\n",
    "f1_pca.append(rl_pca_f1)\n",
    "f1_pca.append(xgb_pca_f1)"
   ]
  },
  {
   "cell_type": "code",
   "execution_count": 105,
   "id": "2ae0b63d",
   "metadata": {},
   "outputs": [],
   "source": [
    "acc_pca_kmeans = []\n",
    "acc_pca_kmeans.append(rf_pca_kmeans_acc)\n",
    "acc_pca_kmeans.append(knn_pca_kmeans_acc)\n",
    "acc_pca_kmeans.append(rl_pca_kmeans_acc)\n",
    "acc_pca_kmeans.append(xgb_pca_kmeans_acc)\n",
    "\n",
    "prec_pca_kmeans = []\n",
    "prec_pca_kmeans.append(rf_pca_kmeans_prec)\n",
    "prec_pca_kmeans.append(knn_pca_kmeans_prec)\n",
    "prec_pca_kmeans.append(rl_pca_kmeans_prec)\n",
    "prec_pca_kmeans.append(xgb_pca_kmeans_prec)\n",
    "\n",
    "rec_pca_kmeans = []\n",
    "rec_pca_kmeans.append(rf_pca_kmeans_rec)\n",
    "rec_pca_kmeans.append(knn_pca_kmeans_rec)\n",
    "rec_pca_kmeans.append(rl_pca_kmeans_rec)\n",
    "rec_pca_kmeans.append(xgb_pca_kmeans_rec)\n",
    "\n",
    "f1_pca_kmeans = []\n",
    "f1_pca_kmeans.append(rf_pca_kmeans_f1)\n",
    "f1_pca_kmeans.append(knn_pca_kmeans_f1)\n",
    "f1_pca_kmeans.append(rl_pca_kmeans_f1)\n",
    "f1_pca_kmeans.append(xgb_pca_kmeans_f1)"
   ]
  },
  {
   "cell_type": "markdown",
   "id": "46f99c2c",
   "metadata": {},
   "source": [
    "#### Gráfico de linhas"
   ]
  },
  {
   "cell_type": "code",
   "execution_count": 106,
   "id": "55ff9549",
   "metadata": {},
   "outputs": [
    {
     "data": {
      "text/plain": [
       "<matplotlib.legend.Legend at 0x20acc48bc70>"
      ]
     },
     "execution_count": 106,
     "metadata": {},
     "output_type": "execute_result"
    },
    {
     "data": {
      "image/png": "[encoded data removed]",
      "text/plain": [
       "<Figure size 1440x576 with 2 Axes>"
      ]
     },
     "metadata": {
      "needs_background": "light"
     },
     "output_type": "display_data"
    }
   ],
   "source": [
    "metrics = [\"Acurácia\", \"Precisão\", \"Revocação\", \"F1-Score\"]\n",
    "rf_metrics, knn_metrics, rl_metrics, xgb_metrics = np.array([acc_pca, prec_pca, rec_pca, f1_pca]).T\n",
    "rf_metrics_kmeans, knn_metrics_kmeans, rl_metrics_kmeans, xgb_metrics_kmeans = np.array([acc_pca_kmeans, prec_pca_kmeans, rec_pca_kmeans, f1_pca_kmeans]).T\n",
    "\n",
    "fig, (ax1, ax2) = plt.subplots(1, 2, figsize=(20,8))\n",
    "\n",
    "ax1.set_title(\"Abordagem PCA\")\n",
    "ax1.plot(metrics, rf_metrics, 'g', label=\"Random Forest\")\n",
    "ax1.plot(metrics, knn_metrics, 'r', label=\"KNN\")\n",
    "ax1.plot(metrics, rl_metrics, 'y', label=\"Regressão Logística\")\n",
    "ax1.plot(metrics, xgb_metrics, 'b', label=\"XGBoost\")\n",
    "ax1.legend()\n",
    "\n",
    "ax2.set_title(\"Abordagem PCA+Kmeans\")\n",
    "ax2.plot(metrics, rf_metrics_kmeans, 'g', label=\"Random Forest\")\n",
    "ax2.plot(metrics, knn_metrics_kmeans, 'r', label=\"KNN\")\n",
    "ax2.plot(metrics, rl_metrics_kmeans, 'y', label=\"Regressão Logística\")\n",
    "ax2.plot(metrics, xgb_metrics_kmeans, 'b', label=\"XGBoost\")\n",
    "ax2.legend()"
   ]
  },
  {
   "cell_type": "markdown",
   "id": "3ed2d945",
   "metadata": {},
   "source": [
    "#### Métricas - abordagem PCA+Kmeans"
   ]
  },
  {
   "cell_type": "code",
   "execution_count": 107,
   "id": "7ebde863",
   "metadata": {},
   "outputs": [],
   "source": [
    "rf_metrics = {\n",
    "    'Acurácia': rf_pca_acc, \n",
    "    'Precisão': rf_pca_prec,\n",
    "    'Revocação': rf_pca_rec,\n",
    "    'F1-score': rf_pca_f1\n",
    "}\n",
    "\n",
    "knn_metrics = {\n",
    "    'Acurácia': knn_pca_acc,\n",
    "    'Precisão': knn_pca_prec,\n",
    "    'Revocação': knn_pca_rec,\n",
    "    'F1-score': knn_pca_f1\n",
    "}\n",
    "\n",
    "rl_metrics = {\n",
    "    'Acurácia': rl_pca_acc,\n",
    "    'Precisão': rl_pca_prec,\n",
    "    'Revocação': rl_pca_rec,\n",
    "    'F1-score': rl_pca_f1\n",
    "}\n",
    "\n",
    "xgb_metrics = {\n",
    "    'Acurácia': xgb_pca_acc,\n",
    "    'Precisão': xgb_pca_prec,\n",
    "    'Revocação': xgb_pca_rec,\n",
    "    'F1-score': xgb_pca_f1\n",
    "}"
   ]
  },
  {
   "cell_type": "markdown",
   "id": "bb211105",
   "metadata": {},
   "source": [
    "#### Gráfico de barras"
   ]
  },
  {
   "cell_type": "code",
   "execution_count": 108,
   "id": "8fcdcc6e",
   "metadata": {},
   "outputs": [
    {
     "data": {
      "image/png": "[encoded data removed]",
      "text/plain": [
       "<Figure size 1440x360 with 4 Axes>"
      ]
     },
     "metadata": {
      "needs_background": "light"
     },
     "output_type": "display_data"
    }
   ],
   "source": [
    "fig, (ax0, ax1, ax2, ax3) = plt.subplots(1, 4, figsize=(20, 5))\n",
    "\n",
    "ax0.set_title(\"Acurácia\")\n",
    "sets = ['RF', 'KNN', 'RL', 'XGB']\n",
    "values = [rf_metrics['Acurácia'], knn_metrics['Acurácia'], rl_metrics['Acurácia'], xgb_metrics['Acurácia']]\n",
    "bar = ax0.bar(sets, values)\n",
    "ax0.bar_label(bar)\n",
    "\n",
    "ax1.set_title(\"Precisão\")\n",
    "sets = ['RF', 'KNN', 'RL', 'XGB']\n",
    "values = [rf_metrics['Precisão'], knn_metrics['Precisão'], rl_metrics['Precisão'], xgb_metrics['Precisão']]\n",
    "bar = ax1.bar(sets, values)\n",
    "ax1.bar_label(bar)\n",
    "\n",
    "ax2.set_title(\"Revocação\")\n",
    "sets = ['RF', 'KNN', 'RL', 'XGB']\n",
    "values = [rf_metrics['Revocação'], knn_metrics['Revocação'], rl_metrics['Revocação'], xgb_metrics['Revocação']]\n",
    "bar = ax2.bar(sets, values)\n",
    "ax2.bar_label(bar)\n",
    "\n",
    "ax3.set_title(\"F1-score\")\n",
    "sets = ['RF', 'KNN', 'RL', 'XGB']\n",
    "values = [rf_metrics['F1-score'], knn_metrics['F1-score'], rl_metrics['F1-score'], xgb_metrics['F1-score']]\n",
    "bar = ax3.bar(sets, values)\n",
    "ax3.bar_label(bar)\n",
    "\n",
    "plt.savefig('models/metrics_pca.png', format='png')\n",
    "plt.show()"
   ]
  },
  {
   "cell_type": "markdown",
   "id": "4faa67d7",
   "metadata": {},
   "source": [
    "#### Métricas - abordagem PCA+Kmeans"
   ]
  },
  {
   "cell_type": "code",
   "execution_count": 109,
   "id": "43bec39d",
   "metadata": {},
   "outputs": [],
   "source": [
    "rf_metrics_kmeans = {\n",
    "    'Acurácia': rf_pca_kmeans_acc, \n",
    "    'Precisão': rf_pca_kmeans_prec,\n",
    "    'Revocação': rf_pca_kmeans_rec,\n",
    "    'F1-score': rf_pca_kmeans_f1\n",
    "}\n",
    "\n",
    "knn_metrics_kmeans = {\n",
    "    'Acurácia': knn_pca_kmeans_acc,\n",
    "    'Precisão': knn_pca_kmeans_prec,\n",
    "    'Revocação': knn_pca_kmeans_rec,\n",
    "    'F1-score': knn_pca_kmeans_f1\n",
    "}\n",
    "\n",
    "rl_metrics_kmeans = {\n",
    "    'Acurácia': rl_pca_kmeans_acc,\n",
    "    'Precisão': rl_pca_kmeans_prec,\n",
    "    'Revocação': rl_pca_kmeans_rec,\n",
    "    'F1-score': rl_pca_kmeans_f1\n",
    "}\n",
    "\n",
    "xgb_metrics_kmeans = {\n",
    "    'Acurácia': xgb_pca_kmeans_acc,\n",
    "    'Precisão': xgb_pca_kmeans_prec,\n",
    "    'Revocação': xgb_pca_kmeans_rec,\n",
    "    'F1-score': xgb_pca_kmeans_f1\n",
    "}"
   ]
  },
  {
   "cell_type": "markdown",
   "id": "2282b25e",
   "metadata": {},
   "source": [
    "#### Gráfico de barras"
   ]
  },
  {
   "cell_type": "code",
   "execution_count": 110,
   "id": "a5a0365d",
   "metadata": {},
   "outputs": [
    {
     "data": {
      "image/png": "[encoded data removed]",
      "text/plain": [
       "<Figure size 1440x360 with 4 Axes>"
      ]
     },
     "metadata": {
      "needs_background": "light"
     },
     "output_type": "display_data"
    }
   ],
   "source": [
    "fig, (ax0, ax1, ax2, ax3) = plt.subplots(1, 4, figsize=(20, 5))\n",
    "\n",
    "ax0.set_title(\"Acurácia\")\n",
    "sets = ['RF', 'KNN', 'RL', 'XGB']\n",
    "values = [rf_metrics_kmeans['Acurácia'], knn_metrics_kmeans['Acurácia'], rl_metrics_kmeans['Acurácia'], xgb_metrics_kmeans['Acurácia']]\n",
    "bar = ax0.bar(sets, values)\n",
    "ax0.bar_label(bar)\n",
    "\n",
    "ax1.set_title(\"Precisão\")\n",
    "sets = ['RF', 'KNN', 'RL', 'XGB']\n",
    "values = [rf_metrics_kmeans['Precisão'], knn_metrics_kmeans['Precisão'], rl_metrics_kmeans['Precisão'], xgb_metrics_kmeans['Precisão']]\n",
    "bar = ax1.bar(sets, values)\n",
    "ax1.bar_label(bar)\n",
    "\n",
    "ax2.set_title(\"Revocação\")\n",
    "sets = ['RF', 'KNN', 'RL', 'XGB']\n",
    "values = [rf_metrics_kmeans['Revocação'], knn_metrics_kmeans['Revocação'], rl_metrics_kmeans['Revocação'], xgb_metrics_kmeans['Revocação']]\n",
    "bar = ax2.bar(sets, values)\n",
    "ax2.bar_label(bar)\n",
    "\n",
    "ax3.set_title(\"F1-score\")\n",
    "sets = ['RF', 'KNN', 'RL', 'XGB']\n",
    "values = [rf_metrics_kmeans['F1-score'], knn_metrics_kmeans['F1-score'], rl_metrics_kmeans['F1-score'], xgb_metrics_kmeans['F1-score']]\n",
    "bar = ax3.bar(sets, values)\n",
    "ax3.bar_label(bar)\n",
    "\n",
    "plt.savefig('models/metrics_pca_kmeans.png', format='png')\n",
    "plt.show()"
   ]
  },
  {
   "cell_type": "markdown",
   "id": "57adc38e",
   "metadata": {},
   "source": [
    "#### Distribuição das classes"
   ]
  },
  {
   "cell_type": "code",
   "execution_count": 111,
   "id": "c7182212",
   "metadata": {},
   "outputs": [
    {
     "data": {
      "text/plain": [
       "<AxesSubplot:ylabel='class'>"
      ]
     },
     "execution_count": 111,
     "metadata": {},
     "output_type": "execute_result"
    },
    {
     "data": {
      "image/png": "[encoded data removed]",
      "text/plain": [
       "<Figure size 432x288 with 1 Axes>"
      ]
     },
     "metadata": {
      "needs_background": "light"
     },
     "output_type": "display_data"
    }
   ],
   "source": [
    "Y['num'] = 1\n",
    "\n",
    "Y.groupby('class').agg({'num': 'sum'}).sort_values('num').plot(kind='barh', y='num')"
   ]
  },
  {
   "cell_type": "code",
   "execution_count": 112,
   "id": "f51587af",
   "metadata": {},
   "outputs": [
    {
     "data": {
      "text/plain": [
       "(81, 2)"
      ]
     },
     "execution_count": 112,
     "metadata": {},
     "output_type": "execute_result"
    }
   ],
   "source": [
    "Y.shape"
   ]
  },
  {
   "cell_type": "markdown",
   "id": "b985ce3b",
   "metadata": {},
   "source": [
    "#### Tabela das métricas - PCA"
   ]
  },
  {
   "cell_type": "code",
   "execution_count": 113,
   "id": "7de8a0ed",
   "metadata": {},
   "outputs": [],
   "source": [
    "metrics_df = pd.DataFrame.from_dict(data={\n",
    "    'Modelo': ['Random Forest', 'KNN', 'Regressão Logística', 'XGBoost', 'Random Forest+Kmeans', 'KNN+Kmeans', 'Regressão Logística+Kmeans', 'XGBoost+Kmeans'],\n",
    "    'Acurácia': [rf_pca_acc, knn_pca_acc, rl_pca_acc, xgb_pca_acc, rf_pca_kmeans_acc, knn_pca_kmeans_acc, rl_pca_kmeans_acc, xgb_pca_kmeans_acc],\n",
    "    'Precisão': [rf_pca_prec, knn_pca_prec, rl_pca_prec, xgb_pca_prec, rf_pca_kmeans_prec, knn_pca_kmeans_prec, rl_pca_kmeans_prec, xgb_pca_kmeans_prec],\n",
    "    'Revocação': [rf_pca_rec, knn_pca_rec, rl_pca_rec, xgb_pca_rec, rf_pca_kmeans_rec, knn_pca_kmeans_rec, rl_pca_kmeans_rec, xgb_pca_kmeans_rec],\n",
    "    'F1-score': [rf_pca_f1, knn_pca_f1, rl_pca_f1, xgb_pca_f1, rf_pca_kmeans_f1, knn_pca_kmeans_f1, rl_pca_kmeans_f1, xgb_pca_kmeans_f1],\n",
    "    'Média dos scores': [rf_pca_scores, knn_pca_scores, rl_pca_scores, xgb_pca_scores, rf_pca__kmeans_scores, knn_pca_kmeans_scores, rl_pca_kmeans_scores, xgb_pca_kmeans_scores]\n",
    "}, orient='columns')"
   ]
  },
  {
   "cell_type": "code",
   "execution_count": 114,
   "id": "44230e1f",
   "metadata": {},
   "outputs": [
    {
     "data": {
      "text/html": [
       "<div>\n",
       "<style scoped>\n",
       "    .dataframe tbody tr th:only-of-type {\n",
       "        vertical-align: middle;\n",
       "    }\n",
       "\n",
       "    .dataframe tbody tr th {\n",
       "        vertical-align: top;\n",
       "    }\n",
       "\n",
       "    .dataframe thead th {\n",
       "        text-align: right;\n",
       "    }\n",
       "</style>\n",
       "<table border=\"1\" class=\"dataframe\">\n",
       "  <thead>\n",
       "    <tr style=\"text-align: right;\">\n",
       "      <th></th>\n",
       "      <th>Modelo</th>\n",
       "      <th>Acurácia</th>\n",
       "      <th>Precisão</th>\n",
       "      <th>Revocação</th>\n",
       "      <th>F1-score</th>\n",
       "      <th>Média dos scores</th>\n",
       "    </tr>\n",
       "  </thead>\n",
       "  <tbody>\n",
       "    <tr>\n",
       "      <th>0</th>\n",
       "      <td>Random Forest</td>\n",
       "      <td>0.56</td>\n",
       "      <td>0.726429</td>\n",
       "      <td>0.56</td>\n",
       "      <td>0.533243</td>\n",
       "      <td>1.000000</td>\n",
       "    </tr>\n",
       "    <tr>\n",
       "      <th>3</th>\n",
       "      <td>XGBoost</td>\n",
       "      <td>0.52</td>\n",
       "      <td>0.491556</td>\n",
       "      <td>0.52</td>\n",
       "      <td>0.479619</td>\n",
       "      <td>1.000000</td>\n",
       "    </tr>\n",
       "    <tr>\n",
       "      <th>6</th>\n",
       "      <td>Regressão Logística+Kmeans</td>\n",
       "      <td>0.36</td>\n",
       "      <td>0.315873</td>\n",
       "      <td>0.36</td>\n",
       "      <td>0.269506</td>\n",
       "      <td>0.500000</td>\n",
       "    </tr>\n",
       "    <tr>\n",
       "      <th>7</th>\n",
       "      <td>XGBoost+Kmeans</td>\n",
       "      <td>0.36</td>\n",
       "      <td>0.279429</td>\n",
       "      <td>0.36</td>\n",
       "      <td>0.306667</td>\n",
       "      <td>1.000000</td>\n",
       "    </tr>\n",
       "    <tr>\n",
       "      <th>4</th>\n",
       "      <td>Random Forest+Kmeans</td>\n",
       "      <td>0.32</td>\n",
       "      <td>0.173333</td>\n",
       "      <td>0.32</td>\n",
       "      <td>0.223636</td>\n",
       "      <td>0.500000</td>\n",
       "    </tr>\n",
       "    <tr>\n",
       "      <th>5</th>\n",
       "      <td>KNN+Kmeans</td>\n",
       "      <td>0.28</td>\n",
       "      <td>0.264762</td>\n",
       "      <td>0.28</td>\n",
       "      <td>0.258078</td>\n",
       "      <td>0.589286</td>\n",
       "    </tr>\n",
       "    <tr>\n",
       "      <th>2</th>\n",
       "      <td>Regressão Logística</td>\n",
       "      <td>0.24</td>\n",
       "      <td>0.296923</td>\n",
       "      <td>0.24</td>\n",
       "      <td>0.218756</td>\n",
       "      <td>1.000000</td>\n",
       "    </tr>\n",
       "    <tr>\n",
       "      <th>1</th>\n",
       "      <td>KNN</td>\n",
       "      <td>0.20</td>\n",
       "      <td>0.226667</td>\n",
       "      <td>0.20</td>\n",
       "      <td>0.112381</td>\n",
       "      <td>0.178571</td>\n",
       "    </tr>\n",
       "  </tbody>\n",
       "</table>\n",
       "</div>"
      ],
      "text/plain": [
       "                       Modelo  Acurácia  Precisão  Revocação  F1-score  \\\n",
       "0               Random Forest      0.56  0.726429       0.56  0.533243   \n",
       "3                     XGBoost      0.52  0.491556       0.52  0.479619   \n",
       "6  Regressão Logística+Kmeans      0.36  0.315873       0.36  0.269506   \n",
       "7              XGBoost+Kmeans      0.36  0.279429       0.36  0.306667   \n",
       "4        Random Forest+Kmeans      0.32  0.173333       0.32  0.223636   \n",
       "5                  KNN+Kmeans      0.28  0.264762       0.28  0.258078   \n",
       "2         Regressão Logística      0.24  0.296923       0.24  0.218756   \n",
       "1                         KNN      0.20  0.226667       0.20  0.112381   \n",
       "\n",
       "   Média dos scores  \n",
       "0          1.000000  \n",
       "3          1.000000  \n",
       "6          0.500000  \n",
       "7          1.000000  \n",
       "4          0.500000  \n",
       "5          0.589286  \n",
       "2          1.000000  \n",
       "1          0.178571  "
      ]
     },
     "execution_count": 114,
     "metadata": {},
     "output_type": "execute_result"
    }
   ],
   "source": [
    "metrics_df.sort_values('Acurácia', ascending=False)"
   ]
  },
  {
   "cell_type": "code",
   "execution_count": 115,
   "id": "b0341f1c",
   "metadata": {},
   "outputs": [],
   "source": [
    "metrics_df.sort_values('Acurácia', ascending=False).to_latex(\"models/metrics_df.tex\", index=False)"
   ]
  },
  {
   "cell_type": "code",
   "execution_count": 116,
   "id": "338d03d7",
   "metadata": {},
   "outputs": [],
   "source": [
    "with open('models/metrics_pca_df.tex','w') as tf:\n",
    "    tf.write(metrics_df.to_latex(index=False))"
   ]
  },
  {
   "cell_type": "code",
   "execution_count": 117,
   "id": "2a988355",
   "metadata": {},
   "outputs": [
    {
     "data": {
      "text/plain": [
       "'\\\\begin{tabular}{lrrrrr}\\n\\\\toprule\\n                    Modelo &  Acurácia &  Precisão &  Revocação &  F1-score &  Média dos scores \\\\\\\\\\n\\\\midrule\\n             Random Forest &      0.56 &  0.726429 &       0.56 &  0.533243 &          1.000000 \\\\\\\\\\n                       KNN &      0.20 &  0.226667 &       0.20 &  0.112381 &          0.178571 \\\\\\\\\\n       Regressão Logística &      0.24 &  0.296923 &       0.24 &  0.218756 &          1.000000 \\\\\\\\\\n                   XGBoost &      0.52 &  0.491556 &       0.52 &  0.479619 &          1.000000 \\\\\\\\\\n      Random Forest+Kmeans &      0.32 &  0.173333 &       0.32 &  0.223636 &          0.500000 \\\\\\\\\\n                KNN+Kmeans &      0.28 &  0.264762 &       0.28 &  0.258078 &          0.589286 \\\\\\\\\\nRegressão Logística+Kmeans &      0.36 &  0.315873 &       0.36 &  0.269506 &          0.500000 \\\\\\\\\\n            XGBoost+Kmeans &      0.36 &  0.279429 &       0.36 &  0.306667 &          1.000000 \\\\\\\\\\n\\\\bottomrule\\n\\\\end{tabular}\\n'"
      ]
     },
     "execution_count": 117,
     "metadata": {},
     "output_type": "execute_result"
    }
   ],
   "source": [
    "metrics_df.to_latex(index=False)"
   ]
  },
  {
   "cell_type": "markdown",
   "id": "42527f10",
   "metadata": {},
   "source": [
    "#### Tabela das métricas - PCA+Kmeans"
   ]
  },
  {
   "cell_type": "code",
   "execution_count": 118,
   "id": "23160cde",
   "metadata": {},
   "outputs": [],
   "source": [
    "metrics_kmeans_df = pd.DataFrame.from_dict(data={\n",
    "    'Modelo': ['Random Forest+Kmeans', 'KNN+Kmeans', 'Regressão Logística+Kmeans', 'XGBoost+Kmeans'],\n",
    "    'Acurácia': [rf_pca_kmeans_acc, knn_pca_kmeans_acc, rl_pca_kmeans_acc, xgb_pca_kmeans_acc],\n",
    "    'Precisão': [rf_pca_kmeans_prec, knn_pca_kmeans_prec, rl_pca_kmeans_prec, xgb_pca_kmeans_prec],\n",
    "    'Revocação': [rf_pca_kmeans_rec, knn_pca_kmeans_rec, rl_pca_kmeans_rec, xgb_pca_kmeans_rec],\n",
    "    'F1-score': [rf_pca_kmeans_f1, knn_pca_kmeans_f1, rl_pca_kmeans_f1, xgb_pca_kmeans_f1],\n",
    "    'Score Mean': [rf_pca__kmeans_scores, knn_pca_kmeans_scores, rl_pca_kmeans_scores, xgb_pca_kmeans_scores]\n",
    "}, orient='columns')"
   ]
  },
  {
   "cell_type": "code",
   "execution_count": 119,
   "id": "1fff4bcb",
   "metadata": {},
   "outputs": [],
   "source": [
    "with open('models/metrics_pca_kmeans_df.tex','w') as tf:\n",
    "    tf.write(metrics_kmeans_df.to_latex(index=False))"
   ]
  },
  {
   "cell_type": "code",
   "execution_count": 120,
   "id": "c6f9e85d",
   "metadata": {},
   "outputs": [
    {
     "data": {
      "text/plain": [
       "'\\\\begin{tabular}{lrrrrr}\\n\\\\toprule\\n                    Modelo &  Acurácia &  Precisão &  Revocação &  F1-score &  Score Mean \\\\\\\\\\n\\\\midrule\\n      Random Forest+Kmeans &      0.32 &  0.173333 &       0.32 &  0.223636 &    0.500000 \\\\\\\\\\n                KNN+Kmeans &      0.28 &  0.264762 &       0.28 &  0.258078 &    0.589286 \\\\\\\\\\nRegressão Logística+Kmeans &      0.36 &  0.315873 &       0.36 &  0.269506 &    0.500000 \\\\\\\\\\n            XGBoost+Kmeans &      0.36 &  0.279429 &       0.36 &  0.306667 &    1.000000 \\\\\\\\\\n\\\\bottomrule\\n\\\\end{tabular}\\n'"
      ]
     },
     "execution_count": 120,
     "metadata": {},
     "output_type": "execute_result"
    }
   ],
   "source": [
    "metrics_kmeans_df.to_latex(index=False)"
   ]
  },
  {
   "cell_type": "markdown",
   "id": "563bb31c",
   "metadata": {},
   "source": [
    "#### Tabela das métricas - Meta Learner"
   ]
  },
  {
   "cell_type": "code",
   "execution_count": 121,
   "id": "4f56cb7b",
   "metadata": {},
   "outputs": [],
   "source": [
    "metrics_meta_df = pd.DataFrame.from_dict(data={\n",
    "    'Modelo': ['ResNet-18 + MAML', 'ResNet-18'],\n",
    "    'Acurácia': [0.8799999952316284, 0.5882353186607361],\n",
    "    'Precisão': [0.8700000047683716, 0.4933333694934845],\n",
    "    'Revocação': [0.9100000262260437, 0.5800000429153442],\n",
    "    'F1-score': [0.8600000143051147, 0.5142857432365417]\n",
    "}, orient='columns')"
   ]
  },
  {
   "cell_type": "code",
   "execution_count": 122,
   "id": "579b61d3",
   "metadata": {},
   "outputs": [
    {
     "data": {
      "text/html": [
       "<div>\n",
       "<style scoped>\n",
       "    .dataframe tbody tr th:only-of-type {\n",
       "        vertical-align: middle;\n",
       "    }\n",
       "\n",
       "    .dataframe tbody tr th {\n",
       "        vertical-align: top;\n",
       "    }\n",
       "\n",
       "    .dataframe thead th {\n",
       "        text-align: right;\n",
       "    }\n",
       "</style>\n",
       "<table border=\"1\" class=\"dataframe\">\n",
       "  <thead>\n",
       "    <tr style=\"text-align: right;\">\n",
       "      <th></th>\n",
       "      <th>Modelo</th>\n",
       "      <th>Acurácia</th>\n",
       "      <th>Precisão</th>\n",
       "      <th>Revocação</th>\n",
       "      <th>F1-score</th>\n",
       "    </tr>\n",
       "  </thead>\n",
       "  <tbody>\n",
       "    <tr>\n",
       "      <th>0</th>\n",
       "      <td>ResNet-18 + MAML</td>\n",
       "      <td>0.880000</td>\n",
       "      <td>0.870000</td>\n",
       "      <td>0.91</td>\n",
       "      <td>0.860000</td>\n",
       "    </tr>\n",
       "    <tr>\n",
       "      <th>1</th>\n",
       "      <td>ResNet-18</td>\n",
       "      <td>0.588235</td>\n",
       "      <td>0.493333</td>\n",
       "      <td>0.58</td>\n",
       "      <td>0.514286</td>\n",
       "    </tr>\n",
       "  </tbody>\n",
       "</table>\n",
       "</div>"
      ],
      "text/plain": [
       "             Modelo  Acurácia  Precisão  Revocação  F1-score\n",
       "0  ResNet-18 + MAML  0.880000  0.870000       0.91  0.860000\n",
       "1         ResNet-18  0.588235  0.493333       0.58  0.514286"
      ]
     },
     "execution_count": 122,
     "metadata": {},
     "output_type": "execute_result"
    }
   ],
   "source": [
    "metrics_meta_df"
   ]
  },
  {
   "cell_type": "code",
   "execution_count": 123,
   "id": "1ab27d19",
   "metadata": {},
   "outputs": [],
   "source": [
    "with open('models/metrics_meta_df.tex','w') as tf:\n",
    "    tf.write(metrics_meta_df.to_latex(index=False))"
   ]
  },
  {
   "cell_type": "code",
   "execution_count": 124,
   "id": "510740ab",
   "metadata": {},
   "outputs": [
    {
     "data": {
      "text/plain": [
       "'\\\\begin{tabular}{lrrrr}\\n\\\\toprule\\n          Modelo &  Acurácia &  Precisão &  Revocação &  F1-score \\\\\\\\\\n\\\\midrule\\nResNet-18 + MAML &  0.880000 &  0.870000 &       0.91 &  0.860000 \\\\\\\\\\n       ResNet-18 &  0.588235 &  0.493333 &       0.58 &  0.514286 \\\\\\\\\\n\\\\bottomrule\\n\\\\end{tabular}\\n'"
      ]
     },
     "execution_count": 124,
     "metadata": {},
     "output_type": "execute_result"
    }
   ],
   "source": [
    "metrics_meta_df.to_latex(index=False)"
   ]
  },
  {
   "cell_type": "code",
   "execution_count": null,
   "id": "2703772b",
   "metadata": {},
   "outputs": [],
   "source": []
  }
 ],
 "metadata": {
  "kernelspec": {
   "display_name": "Python 3 (ipykernel)",
   "language": "python",
   "name": "python3"
  },
  "language_info": {
   "codemirror_mode": {
    "name": "ipython",
    "version": 3
   },
   "file_extension": ".py",
   "mimetype": "text/x-python",
   "name": "python",
   "nbconvert_exporter": "python",
   "pygments_lexer": "ipython3",
   "version": "3.9.4"
  }
 },
 "nbformat": 4,
 "nbformat_minor": 5
}
